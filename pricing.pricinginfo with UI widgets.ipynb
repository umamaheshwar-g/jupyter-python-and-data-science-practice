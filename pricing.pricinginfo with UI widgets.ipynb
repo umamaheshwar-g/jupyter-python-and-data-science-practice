{
 "cells": [
  {
   "cell_type": "code",
   "execution_count": 2,
   "metadata": {},
   "outputs": [
    {
     "ename": "ModuleNotFoundError",
     "evalue": "No module named 'oandapyV20'",
     "output_type": "error",
     "traceback": [
      "\u001b[1;31m---------------------------------------------------------------------------\u001b[0m",
      "\u001b[1;31mModuleNotFoundError\u001b[0m                       Traceback (most recent call last)",
      "\u001b[1;32m<ipython-input-2-cc66b9bec921>\u001b[0m in \u001b[0;36m<module>\u001b[1;34m\u001b[0m\n\u001b[0;32m      1\u001b[0m \u001b[1;32mimport\u001b[0m \u001b[0mpandas\u001b[0m \u001b[1;32mas\u001b[0m \u001b[0mpd\u001b[0m\u001b[1;33m\u001b[0m\u001b[1;33m\u001b[0m\u001b[0m\n\u001b[1;32m----> 2\u001b[1;33m \u001b[1;32mimport\u001b[0m \u001b[0moandapyV20\u001b[0m\u001b[1;33m\u001b[0m\u001b[1;33m\u001b[0m\u001b[0m\n\u001b[0m\u001b[0;32m      3\u001b[0m \u001b[1;32mimport\u001b[0m \u001b[0moandapyV20\u001b[0m\u001b[1;33m.\u001b[0m\u001b[0mendpoints\u001b[0m\u001b[1;33m.\u001b[0m\u001b[0maccounts\u001b[0m \u001b[1;32mas\u001b[0m \u001b[0maccounts\u001b[0m\u001b[1;33m\u001b[0m\u001b[1;33m\u001b[0m\u001b[0m\n\u001b[0;32m      4\u001b[0m \u001b[1;32mimport\u001b[0m \u001b[0moandapyV20\u001b[0m\u001b[1;33m.\u001b[0m\u001b[0mendpoints\u001b[0m\u001b[1;33m.\u001b[0m\u001b[0mpricing\u001b[0m \u001b[1;32mas\u001b[0m \u001b[0mpricing\u001b[0m\u001b[1;33m\u001b[0m\u001b[1;33m\u001b[0m\u001b[0m\n\u001b[0;32m      5\u001b[0m \u001b[1;32mimport\u001b[0m \u001b[0mconfigparser\u001b[0m\u001b[1;33m\u001b[0m\u001b[1;33m\u001b[0m\u001b[0m\n",
      "\u001b[1;31mModuleNotFoundError\u001b[0m: No module named 'oandapyV20'"
     ]
    }
   ],
   "source": [
    "import pandas as pd\n",
    "import oandapyV20\n",
    "import oandapyV20.endpoints.accounts as accounts\n",
    "import oandapyV20.endpoints.pricing as pricing\n",
    "import configparser\n",
    "import json\n",
    "import string as s\n",
    "import time"
   ]
  },
  {
   "cell_type": "code",
   "execution_count": null,
   "metadata": {},
   "outputs": [],
   "source": [
    "accountID='101-001-11588747-001'"
   ]
  },
  {
   "cell_type": "code",
   "execution_count": null,
   "metadata": {},
   "outputs": [],
   "source": [
    "client = oandapyV20.API(access_token='58ac237a99f332d80c35ec4e6be5cbe4-417a56dda94cb79731c0370a58c5ae9a')\n",
    "r = accounts.AccountDetails(accountID)"
   ]
  },
  {
   "cell_type": "code",
   "execution_count": 9,
   "metadata": {},
   "outputs": [
    {
     "data": {
      "text/plain": [
       "{u'account': {u'NAV': u'100000.0000',\n",
       "  u'alias': u'Primary',\n",
       "  u'balance': u'100000.0000',\n",
       "  u'commission': u'0.0000',\n",
       "  u'createdByUserID': 11588747,\n",
       "  u'createdTime': u'2019-07-01T14:10:57.435234341Z',\n",
       "  u'currency': u'USD',\n",
       "  u'dividend': u'0',\n",
       "  u'financing': u'0.0000',\n",
       "  u'guaranteedExecutionFees': u'0.0000',\n",
       "  u'guaranteedStopLossOrderMode': u'DISABLED',\n",
       "  u'hedgingEnabled': False,\n",
       "  u'id': u'101-001-11588747-001',\n",
       "  u'lastTransactionID': u'3',\n",
       "  u'marginAvailable': u'100000.0000',\n",
       "  u'marginCallMarginUsed': u'0.0000',\n",
       "  u'marginCallPercent': u'0.00000',\n",
       "  u'marginCloseoutMarginUsed': u'0.0000',\n",
       "  u'marginCloseoutNAV': u'100000.0000',\n",
       "  u'marginCloseoutPercent': u'0.00000',\n",
       "  u'marginCloseoutPositionValue': u'0.0000',\n",
       "  u'marginCloseoutUnrealizedPL': u'0.0000',\n",
       "  u'marginRate': u'0.02',\n",
       "  u'marginUsed': u'0.0000',\n",
       "  u'openPositionCount': 0,\n",
       "  u'openTradeCount': 0,\n",
       "  u'pendingOrderCount': 0,\n",
       "  u'pl': u'0.0000',\n",
       "  u'positionValue': u'0.0000',\n",
       "  u'resettablePL': u'0.0000',\n",
       "  u'resettablePLTime': u'0',\n",
       "  u'unrealizedPL': u'0.0000',\n",
       "  u'withdrawalLimit': u'100000.0000'},\n",
       " u'lastTransactionID': u'3'}"
      ]
     },
     "execution_count": 9,
     "metadata": {},
     "output_type": "execute_result"
    }
   ],
   "source": [
    "r=accounts.AccountSummary(accountID)\n",
    "client.request(r)"
   ]
  },
  {
   "cell_type": "code",
   "execution_count": 11,
   "metadata": {},
   "outputs": [
    {
     "name": "stdout",
     "output_type": "stream",
     "text": [
      "{u'account': {u'resettablePLTime': u'0', u'marginUsed': u'0.0000', u'marginCloseoutPositionValue': u'0.0000', u'currency': u'USD', u'resettablePL': u'0.0000', u'NAV': u'100000.0000', u'marginCloseoutMarginUsed': u'0.0000', u'openTradeCount': 0, u'id': u'101-001-11588747-001', u'openPositionCount': 0, u'marginCloseoutNAV': u'100000.0000', u'marginCloseoutPercent': u'0.00000', u'marginCallMarginUsed': u'0.0000', u'commission': u'0.0000', u'hedgingEnabled': False, u'positionValue': u'0.0000', u'pl': u'0.0000', u'guaranteedStopLossOrderMode': u'DISABLED', u'lastTransactionID': u'3', u'marginAvailable': u'100000.0000', u'marginRate': u'0.02', u'marginCallPercent': u'0.00000', u'guaranteedExecutionFees': u'0.0000', u'dividend': u'0', u'financing': u'0.0000', u'pendingOrderCount': 0, u'withdrawalLimit': u'100000.0000', u'unrealizedPL': u'0.0000', u'alias': u'Primary', u'createdByUserID': 11588747, u'marginCloseoutUnrealizedPL': u'0.0000', u'createdTime': u'2019-07-01T14:10:57.435234341Z', u'balance': u'100000.0000'}, u'lastTransactionID': u'3'}\n"
     ]
    },
    {
     "data": {
      "text/plain": [
       "NAV                                               100000.0000\n",
       "alias                                                 Primary\n",
       "balance                                           100000.0000\n",
       "commission                                             0.0000\n",
       "createdByUserID                                      11588747\n",
       "createdTime                    2019-07-01T14:10:57.435234341Z\n",
       "currency                                                  USD\n",
       "dividend                                                    0\n",
       "financing                                              0.0000\n",
       "guaranteedExecutionFees                                0.0000\n",
       "guaranteedStopLossOrderMode                          DISABLED\n",
       "hedgingEnabled                                          False\n",
       "id                                       101-001-11588747-001\n",
       "lastTransactionID                                           3\n",
       "marginAvailable                                   100000.0000\n",
       "marginCallMarginUsed                                   0.0000\n",
       "marginCallPercent                                     0.00000\n",
       "marginCloseoutMarginUsed                               0.0000\n",
       "marginCloseoutNAV                                 100000.0000\n",
       "marginCloseoutPercent                                 0.00000\n",
       "marginCloseoutPositionValue                            0.0000\n",
       "marginCloseoutUnrealizedPL                             0.0000\n",
       "marginRate                                               0.02\n",
       "marginUsed                                             0.0000\n",
       "openPositionCount                                           0\n",
       "openTradeCount                                              0\n",
       "pendingOrderCount                                           0\n",
       "pl                                                     0.0000\n",
       "positionValue                                          0.0000\n",
       "resettablePL                                           0.0000\n",
       "resettablePLTime                                            0\n",
       "unrealizedPL                                           0.0000\n",
       "withdrawalLimit                                   100000.0000\n",
       "dtype: object"
      ]
     },
     "execution_count": 11,
     "metadata": {},
     "output_type": "execute_result"
    }
   ],
   "source": [
    "print(r.response)\n",
    "pd.Series(r.response['account'])"
   ]
  },
  {
   "cell_type": "code",
   "execution_count": 14,
   "metadata": {},
   "outputs": [
    {
     "data": {
      "text/plain": [
       "{u'account': {u'NAV': u'100000.0000',\n",
       "  u'alias': u'Primary',\n",
       "  u'balance': u'100000.0000',\n",
       "  u'commission': u'0.0000',\n",
       "  u'createdByUserID': 11588747,\n",
       "  u'createdTime': u'2019-07-01T14:10:57.435234341Z',\n",
       "  u'currency': u'USD',\n",
       "  u'dividend': u'0',\n",
       "  u'financing': u'0.0000',\n",
       "  u'guaranteedExecutionFees': u'0.0000',\n",
       "  u'guaranteedStopLossOrderMode': u'DISABLED',\n",
       "  u'hedgingEnabled': False,\n",
       "  u'id': u'101-001-11588747-001',\n",
       "  u'lastTransactionID': u'3',\n",
       "  u'marginAvailable': u'100000.0000',\n",
       "  u'marginCallMarginUsed': u'0.0000',\n",
       "  u'marginCallPercent': u'0.00000',\n",
       "  u'marginCloseoutMarginUsed': u'0.0000',\n",
       "  u'marginCloseoutNAV': u'100000.0000',\n",
       "  u'marginCloseoutPercent': u'0.00000',\n",
       "  u'marginCloseoutPositionValue': u'0.0000',\n",
       "  u'marginCloseoutUnrealizedPL': u'0.0000',\n",
       "  u'marginRate': u'0.02',\n",
       "  u'marginUsed': u'0.0000',\n",
       "  u'openPositionCount': 0,\n",
       "  u'openTradeCount': 0,\n",
       "  u'pendingOrderCount': 0,\n",
       "  u'pl': u'0.0000',\n",
       "  u'positionValue': u'0.0000',\n",
       "  u'resettablePL': u'0.0000',\n",
       "  u'resettablePLTime': u'0',\n",
       "  u'unrealizedPL': u'0.0000',\n",
       "  u'withdrawalLimit': u'100000.0000'},\n",
       " u'lastTransactionID': u'3'}"
      ]
     },
     "execution_count": 14,
     "metadata": {},
     "output_type": "execute_result"
    }
   ],
   "source": [
    "r=accounts.AccountSummary(accountID)\n",
    "client.request(r)"
   ]
  },
  {
   "cell_type": "code",
   "execution_count": 16,
   "metadata": {},
   "outputs": [
    {
     "ename": "KeyError",
     "evalue": "'instruments'",
     "output_type": "error",
     "traceback": [
      "\u001b[1;31m---------------------------------------------------------------------------\u001b[0m",
      "\u001b[1;31mKeyError\u001b[0m                                  Traceback (most recent call last)",
      "\u001b[1;32m<ipython-input-16-ec47c2f8ba0d>\u001b[0m in \u001b[0;36m<module>\u001b[1;34m()\u001b[0m\n\u001b[1;32m----> 1\u001b[1;33m \u001b[0mins\u001b[0m\u001b[1;33m=\u001b[0m\u001b[0mpd\u001b[0m\u001b[1;33m.\u001b[0m\u001b[0mDataFrame\u001b[0m\u001b[1;33m(\u001b[0m\u001b[0mr\u001b[0m\u001b[1;33m.\u001b[0m\u001b[0mresponse\u001b[0m\u001b[1;33m[\u001b[0m\u001b[1;34m'instruments'\u001b[0m\u001b[1;33m]\u001b[0m\u001b[1;33m)\u001b[0m\u001b[1;33m\u001b[0m\u001b[0m\n\u001b[0m\u001b[0;32m      2\u001b[0m \u001b[0mins\u001b[0m\u001b[1;33m\u001b[0m\u001b[0m\n",
      "\u001b[1;31mKeyError\u001b[0m: 'instruments'"
     ]
    }
   ],
   "source": [
    "ins=pd.DataFrame(r.response['instruments'])\n",
    "ins"
   ]
  },
  {
   "cell_type": "code",
   "execution_count": null,
   "metadata": {},
   "outputs": [],
   "source": []
  },
  {
   "cell_type": "code",
   "execution_count": null,
   "metadata": {},
   "outputs": [],
   "source": []
  },
  {
   "cell_type": "code",
   "execution_count": null,
   "metadata": {},
   "outputs": [],
   "source": []
  }
 ],
 "metadata": {
  "kernelspec": {
   "display_name": "Python 3",
   "language": "python",
   "name": "python3"
  },
  "language_info": {
   "codemirror_mode": {
    "name": "ipython",
    "version": 3
   },
   "file_extension": ".py",
   "mimetype": "text/x-python",
   "name": "python",
   "nbconvert_exporter": "python",
   "pygments_lexer": "ipython3",
   "version": "3.7.4"
  }
 },
 "nbformat": 4,
 "nbformat_minor": 2
}
