{
 "cells": [
  {
   "cell_type": "code",
   "execution_count": null,
   "metadata": {},
   "outputs": [],
   "source": [
    "inlst=[[1,2,3,4,5],\n",
    "       [1,2,3,4,5,],\n",
    "       [1,2,3,4,5]]\n",
    "transposed = [[row[i] for row in inlst] for i in range(5)]\n",
    "trans2 = [[[row[i]] for row in inlst] for i in range(5)]\n",
    "print(transposed)\n",
    "print(trans2)"
   ]
  },
  {
   "cell_type": "code",
   "execution_count": null,
   "metadata": {},
   "outputs": [],
   "source": [
    "b=transposed[2]\n",
    "a= transposed[2][1]\n",
    "\n",
    "print(b)\n",
    "\n",
    "print (a)\n"
   ]
  },
  {
   "cell_type": "code",
   "execution_count": null,
   "metadata": {},
   "outputs": [],
   "source": [
    "my_dict = {'name' : 'mahesh', 'age' : 23, 'place': 'hyderabad'} #dictionart\n",
    "a=list(my_dict)\n",
    "print(a)\n",
    "print my_dict[\"age\"]\n",
    "print (my_dict)\n"
   ]
  },
  {
   "cell_type": "code",
   "execution_count": null,
   "metadata": {},
   "outputs": [],
   "source": [
    "d=my_dict.get('name')\n",
    "d"
   ]
  },
  {
   "cell_type": "code",
   "execution_count": null,
   "metadata": {},
   "outputs": [],
   "source": [
    "my_dict['degree']='B.Tech'\n",
    "my_dict"
   ]
  },
  {
   "cell_type": "code",
   "execution_count": null,
   "metadata": {},
   "outputs": [],
   "source": [
    "del my_dict['degree']\n",
    "my_dict\n",
    "\n"
   ]
  },
  {
   "cell_type": "code",
   "execution_count": null,
   "metadata": {},
   "outputs": [],
   "source": [
    "del a[1]\n",
    "a"
   ]
  },
  {
   "cell_type": "code",
   "execution_count": null,
   "metadata": {},
   "outputs": [],
   "source": [
    "squares = {2:4, 3:9, 4:16, 5:25}\n",
    "my_copy = squares.copy()\n",
    "my_copy"
   ]
  },
  {
   "cell_type": "code",
   "execution_count": null,
   "metadata": {},
   "outputs": [],
   "source": [
    "subjects = {}.fromkeys(['math','english','hindi'],0)\n",
    "print(subjects)"
   ]
  },
  {
   "cell_type": "code",
   "execution_count": null,
   "metadata": {},
   "outputs": [],
   "source": [
    "subjects = {2:4, 3:9, 4:16, 5:25}\n",
    "lst = subjects.items()\n",
    "lst1 = lst = subjects.items()\n",
    "print ('lst is ',subjects.items())\n",
    "print('lst1 is ',lst)"
   ]
  },
  {
   "cell_type": "code",
   "execution_count": null,
   "metadata": {},
   "outputs": [],
   "source": [
    "subjects = {2:4, 3:9, 4:16, 5:25}\n",
    "print(subjects.keys())"
   ]
  },
  {
   "cell_type": "code",
   "execution_count": null,
   "metadata": {},
   "outputs": [],
   "source": [
    "subjects = {2:4, 3:9, 4:16, 5:25}\n",
    "lst = subjects.items()\n",
    "for pair in subjects.items():\n",
    "    print(pair)\n",
    "\n"
   ]
  },
  {
   "cell_type": "code",
   "execution_count": null,
   "metadata": {},
   "outputs": [],
   "source": [
    "d={'a':1,'b':2,'c':3,'d':4,'e':5}\n",
    "new_d={k: v for k,v in d.items() if v>2}\n",
    "new_d"
   ]
  },
  {
   "cell_type": "code",
   "execution_count": null,
   "metadata": {},
   "outputs": [],
   "source": [
    "d={'a':1,'b':2,'c':3,'d':4,'e':5}\n",
    "new_d2={k+'c':v*2 for k,v in d.items() if v>2}\n",
    "new_d2"
   ]
  },
  {
   "cell_type": "code",
   "execution_count": 2,
   "metadata": {},
   "outputs": [
    {
     "data": {
      "text/plain": [
       "{2: 3, 5: 5, 6: 6, 7: 7, 9: 4}"
      ]
     },
     "execution_count": 2,
     "metadata": {},
     "output_type": "execute_result"
    }
   ],
   "source": [
    "a=[2,9,5,6,7]\n",
    "b=[3,4,5,6,7]\n",
    "s=dict(zip(a,b))\n",
    "s"
   ]
  },
  {
   "cell_type": "code",
   "execution_count": 3,
   "metadata": {},
   "outputs": [
    {
     "data": {
      "text/plain": [
       "{2: 3, 5: 4, 6: 5, 7: 6, 9: 7}"
      ]
     },
     "execution_count": 3,
     "metadata": {},
     "output_type": "execute_result"
    }
   ],
   "source": [
    "a=[2,9,5,6,7]\n",
    "b=[3,4,5,6,7]\n",
    "a.sort()\n",
    "b.sort()\n",
    "s=dict(zip(a,b))\n",
    "s"
   ]
  },
  {
   "cell_type": "code",
   "execution_count": 4,
   "metadata": {},
   "outputs": [
    {
     "data": {
      "text/plain": [
       "{1: 1, 2: 2, 3: 3, 4: 4, 5: 5}"
      ]
     },
     "execution_count": 4,
     "metadata": {},
     "output_type": "execute_result"
    }
   ],
   "source": [
    "a=[1,4,3,2,5]\n",
    "b=[5,2,3,1,4]\n",
    "a.sort()\n",
    "b.sort()\n",
    "s=dict(zip(a,b))\n",
    "s\n",
    "print(dir(a))"
   ]
  },
  {
   "cell_type": "code",
   "execution_count": null,
   "metadata": {},
   "outputs": [],
   "source": []
  },
  {
   "cell_type": "code",
   "execution_count": 17,
   "metadata": {},
   "outputs": [
    {
     "name": "stdout",
     "output_type": "stream",
     "text": [
      "find the purposes of below methods \n",
      " \n",
      "\n",
      "['__add__', '__class__', '__contains__', '__delattr__', '__delitem__', '__delslice__', '__doc__', '__eq__', '__format__', '__ge__', '__getattribute__', '__getitem__', '__getslice__', '__gt__', '__hash__', '__iadd__', '__imul__', '__init__', '__iter__', '__le__', '__len__', '__lt__', '__mul__', '__ne__', '__new__', '__reduce__', '__reduce_ex__', '__repr__', '__reversed__', '__rmul__', '__setattr__', '__setitem__', '__setslice__', '__sizeof__', '__str__', '__subclasshook__', 'append', 'count', 'extend', 'index', 'insert', 'pop', 'remove', 'reverse', 'sort']\n",
      "['__class__', '__cmp__', '__contains__', '__delattr__', '__delitem__', '__doc__', '__eq__', '__format__', '__ge__', '__getattribute__', '__getitem__', '__gt__', '__hash__', '__init__', '__iter__', '__le__', '__len__', '__lt__', '__ne__', '__new__', '__reduce__', '__reduce_ex__', '__repr__', '__setattr__', '__setitem__', '__sizeof__', '__str__', '__subclasshook__', 'clear', 'copy', 'fromkeys', 'get', 'has_key', 'items', 'iteritems', 'iterkeys', 'itervalues', 'keys', 'pop', 'popitem', 'setdefault', 'update', 'values', 'viewitems', 'viewkeys', 'viewvalues']\n",
      "a\n",
      "c\n"
     ]
    }
   ],
   "source": [
    "print('find the purposes of below methods \\n \\n')\n",
    "a=[1,4,3,2,5]\n",
    "d={'a':1,'b':2,'c':3,'d':4,'e':5}\n",
    "\n",
    "print(dir(a))\n",
    "print(dir(d))\n",
    "d2=d.iterkeys()\n",
    "print(d2.next())\n",
    "print(d2.next())\n"
   ]
  },
  {
   "cell_type": "code",
   "execution_count": null,
   "metadata": {},
   "outputs": [],
   "source": []
  }
 ],
 "metadata": {
  "kernelspec": {
   "display_name": "Python 2",
   "language": "python",
   "name": "python2"
  },
  "language_info": {
   "codemirror_mode": {
    "name": "ipython",
    "version": 2
   },
   "file_extension": ".py",
   "mimetype": "text/x-python",
   "name": "python",
   "nbconvert_exporter": "python",
   "pygments_lexer": "ipython2",
   "version": "2.7.15"
  }
 },
 "nbformat": 4,
 "nbformat_minor": 2
}
