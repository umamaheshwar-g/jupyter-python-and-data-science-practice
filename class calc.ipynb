{
 "cells": [
  {
   "cell_type": "code",
   "execution_count": 1,
   "metadata": {},
   "outputs": [
    {
     "name": "stdout",
     "output_type": "stream",
     "text": [
      "enter side length of square 4\n",
      "16\n"
     ]
    }
   ],
   "source": [
    "class calc():\n",
    "    def __init__(self):\n",
    "        self\n",
    "        \n",
    "    def area_rec(self):\n",
    "        l=input('enter length of rectangle ')\n",
    "        b=input('enter length of rectangle ' )\n",
    "        area=l*b\n",
    "        return(area)\n",
    "    \n",
    "    def area_cir(self):\n",
    "        r=input('enter side \"a\" of triangle ')\n",
    "        area=3.14*r**2\n",
    "        return (area)\n",
    "    \n",
    "    def area_tri(self):\n",
    "        a=input('enter side \"a\" of triangle ')\n",
    "        b=input('enter side \"b\" of triangle ')\n",
    "        c=input('enter side \"c\" of triangle ')\n",
    "        s=(a+b+c)/2\n",
    "        area=(s*(s-a)*(s-b)*(s-c))**0.5\n",
    "        return(area)\n",
    "    \n",
    "    def area_squ(self):\n",
    "        a=input('enter side length of square ')\n",
    "        area=a**2\n",
    "        return (area)\n",
    "c=calc()\n",
    "t=c.area_squ()\n",
    "print(t)"
   ]
  },
  {
   "cell_type": "code",
   "execution_count": null,
   "metadata": {},
   "outputs": [],
   "source": []
  },
  {
   "cell_type": "code",
   "execution_count": null,
   "metadata": {},
   "outputs": [],
   "source": []
  }
 ],
 "metadata": {
  "kernelspec": {
   "display_name": "Python 2",
   "language": "python",
   "name": "python2"
  },
  "language_info": {
   "codemirror_mode": {
    "name": "ipython",
    "version": 2
   },
   "file_extension": ".py",
   "mimetype": "text/x-python",
   "name": "python",
   "nbconvert_exporter": "python",
   "pygments_lexer": "ipython2",
   "version": "2.7.15"
  }
 },
 "nbformat": 4,
 "nbformat_minor": 2
}
