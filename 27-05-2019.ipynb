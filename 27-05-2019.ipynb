{
 "cells": [
  {
   "cell_type": "markdown",
   "metadata": {},
   "source": [
    "sets - noindex, unique elements, flower brackets, set of elements, can't call\n",
    ".add\n",
    ".update\n",
    ".remove\n",
    ".discard\n",
    ".pop"
   ]
  },
  {
   "cell_type": "code",
   "execution_count": 15,
   "metadata": {},
   "outputs": [
    {
     "name": "stdout",
     "output_type": "stream",
     "text": [
      "attribute exception\n"
     ]
    }
   ],
   "source": [
    "set1 = frozenset([1,2,3,4])\n",
    "try:\n",
    "    set1.add(5)\n",
    "except(AttributeError):\n",
    "    print('attribute exception')\n",
    "    "
   ]
  },
  {
   "cell_type": "code",
   "execution_count": 22,
   "metadata": {},
   "outputs": [
    {
     "name": "stdout",
     "output_type": "stream",
     "text": [
      "object doesnot support indexing\n"
     ]
    }
   ],
   "source": [
    "set1 = frozenset([1,2,3,4])\n",
    "try:\n",
    "    print(set1[1])\n",
    "except(TypeError):\n",
    "    print('object doesnot support indexing')\n"
   ]
  }
 ],
 "metadata": {
  "kernelspec": {
   "display_name": "Python 2",
   "language": "python",
   "name": "python2"
  },
  "language_info": {
   "codemirror_mode": {
    "name": "ipython",
    "version": 2
   },
   "file_extension": ".py",
   "mimetype": "text/x-python",
   "name": "python",
   "nbconvert_exporter": "python",
   "pygments_lexer": "ipython2",
   "version": "2.7.15"
  }
 },
 "nbformat": 4,
 "nbformat_minor": 2
}
