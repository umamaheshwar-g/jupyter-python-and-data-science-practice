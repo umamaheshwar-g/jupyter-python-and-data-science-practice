{
 "cells": [
  {
   "cell_type": "code",
   "execution_count": 1,
   "metadata": {},
   "outputs": [],
   "source": [
    "import pandas as pd\n",
    "import oandapyV20\n",
    "import oandapyV20.endpoints.accounts as accounts\n",
    "import oandapyV20.endpoints.pricing as pricing\n",
    "import configparser\n",
    "import ipywidgets as w\n",
    "import json\n",
    "import string as s\n",
    "import time"
   ]
  },
  {
   "cell_type": "code",
   "execution_count": 2,
   "metadata": {},
   "outputs": [],
   "source": [
    "accountID=\"101-001-11588733-001\""
   ]
  },
  {
   "cell_type": "code",
   "execution_count": 3,
   "metadata": {},
   "outputs": [],
   "source": [
    "client = oandapyV20.API(access_token=\"ae9350a9996c4ef6d9ad3a1bc39e12ed-8c1789ca29b12194796b6bff271831f0\")\n",
    "r = accounts.AccountDetails(\"101-001-11588733-001\")"
   ]
  },
  {
   "cell_type": "code",
   "execution_count": 4,
   "metadata": {},
   "outputs": [],
   "source": [
    "o=pd.read_csv(\"pairs.csv\")\n",
    "io=[]\n",
    "for i in range(0,69):\n",
    "   io.append( list(o['Instrument Name'])[i].split())\n",
    "to=[]\n",
    "for i in range(69):\n",
    "    to.append(io[i][0])"
   ]
  },
  {
   "cell_type": "code",
   "execution_count": 13,
   "metadata": {},
   "outputs": [
    {
     "data": {
      "application/vnd.jupyter.widget-view+json": {
       "model_id": "8e29a4e4e7ff49d68d98d5a4235a0899",
       "version_major": 2,
       "version_minor": 0
      },
      "text/plain": [
       "VkJveChjaGlsZHJlbj0oSEJveChjaGlsZHJlbj0oRHJvcGRvd24ob3B0aW9ucz0oJ0VVUl9aQVInLCAnRVVSX1BMTicsICdBVURfSlBZJywgJ1VTRF9DQUQnLCAnVVNEX05PSycsICdDQURfU0figKY=\n"
      ]
     },
     "metadata": {},
     "output_type": "display_data"
    },
    {
     "data": {
      "application/vnd.jupyter.widget-view+json": {
       "model_id": "6fba533222104f66908a4d9c4f35ec54",
       "version_major": 2,
       "version_minor": 0
      },
      "text/plain": [
       "SEJveChjaGlsZHJlbj0oVkJveChjaGlsZHJlbj0oSFRNTCh2YWx1ZT11J0VVUl9aQVInKSwpKSwgVkJveChjaGlsZHJlbj0oSFRNTCh2YWx1ZT11JycsIGRlc2NyaXB0aW9uPXUnQXNrIFByaWPigKY=\n"
      ]
     },
     "metadata": {},
     "output_type": "display_data"
    }
   ],
   "source": [
    "inst=w.Dropdown(options=to)\n",
    "b=w.Button(description=\"submit\")\n",
    "\n",
    "\n",
    "ask=w.HTML(description=\"Ask Price\")\n",
    "ask1=w.BoundedFloatText()\n",
    "Bid=w.HTML(description=\"Bid Price\")\n",
    "name=w.HTML()\n",
    "Bid1=w.BoundedFloatText()\n",
    "up=w.HBox([inst,b])\n",
    "Down=w.HBox([w.VBox([name]),w.VBox([ask,ask1]),w.VBox([Bid,Bid1])])\n",
    "lis=[up]\n",
    "lis2=[]\n",
    "def ab(self):\n",
    "    r= pricing.PricingInfo(accountID=\"101-001-11588733-001\",params = {\"instruments\":inst.value})\n",
    "    ask1.value=client.request(r)[\"prices\"][0][\"asks\"][0][\"price\"]\n",
    "    Bid1.value=str(client.request(r)[\"prices\"][0][\"bids\"][0][\"price\"])\n",
    "    name.value=inst.value\n",
    "    new=w.HBox([w.VBox([name]),w.VBox([ask,ask1]),w.VBox([Bid,Bid1])])\n",
    "    lis2.append(new)\n",
    "    h2=w.VBox(lis2)\n",
    "    display(new)\n",
    "def con():\n",
    "    while True:\n",
    "        ab()\n",
    "\n",
    "def intab(self):\n",
    "    w.interact(con)\n",
    "\n",
    "b.on_click(ab)\n",
    "h=w.VBox(lis)\n",
    "display(h)\n"
   ]
  },
  {
   "cell_type": "code",
   "execution_count": 6,
   "metadata": {},
   "outputs": [
    {
     "data": {
      "text/plain": [
       "'EUR_ZAR'"
      ]
     },
     "execution_count": 6,
     "metadata": {},
     "output_type": "execute_result"
    }
   ],
   "source": [
    "inst.value"
   ]
  },
  {
   "cell_type": "code",
   "execution_count": 7,
   "metadata": {},
   "outputs": [
    {
     "name": "stdout",
     "output_type": "stream",
     "text": [
      "The Zen of Python, by Tim Peters\n",
      "\n",
      "Beautiful is better than ugly.\n",
      "Explicit is better than implicit.\n",
      "Simple is better than complex.\n",
      "Complex is better than complicated.\n",
      "Flat is better than nested.\n",
      "Sparse is better than dense.\n",
      "Readability counts.\n",
      "Special cases aren't special enough to break the rules.\n",
      "Although practicality beats purity.\n",
      "Errors should never pass silently.\n",
      "Unless explicitly silenced.\n",
      "In the face of ambiguity, refuse the temptation to guess.\n",
      "There should be one-- and preferably only one --obvious way to do it.\n",
      "Although that way may not be obvious at first unless you're Dutch.\n",
      "Now is better than never.\n",
      "Although never is often better than *right* now.\n",
      "If the implementation is hard to explain, it's a bad idea.\n",
      "If the implementation is easy to explain, it may be a good idea.\n",
      "Namespaces are one honking great idea -- let's do more of those!\n"
     ]
    }
   ],
   "source": [
    "import this"
   ]
  },
  {
   "cell_type": "code",
   "execution_count": null,
   "metadata": {},
   "outputs": [],
   "source": []
  }
 ],
 "metadata": {
  "kernelspec": {
   "display_name": "Python 2",
   "language": "python",
   "name": "python2"
  },
  "language_info": {
   "codemirror_mode": {
    "name": "ipython",
    "version": 2
   },
   "file_extension": ".py",
   "mimetype": "text/x-python",
   "name": "python",
   "nbconvert_exporter": "python",
   "pygments_lexer": "ipython2",
   "version": "2.7.15"
  }
 },
 "nbformat": 4,
 "nbformat_minor": 2
}
