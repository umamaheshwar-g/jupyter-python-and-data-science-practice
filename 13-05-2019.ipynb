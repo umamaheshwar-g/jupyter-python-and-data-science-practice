{
 "cells": [
  {
   "cell_type": "code",
   "execution_count": null,
   "metadata": {
    "scrolled": true
   },
   "outputs": [],
   "source": [
    "import math as m\n",
    "\n",
    "products=[[],[],[]]\n",
    "p=products\n",
    "i=input(\"enter no of products\")\n",
    "for t in range(i):\n",
    "    q=t+1\n",
    "    f=input('Enter projuct {} of {} '.format(q,i))\n",
    "    p[0].append(f)\n",
    "    c=input('enter cost of {} '.format(str(f)))\n",
    "    print(p)\n",
    "    p[1].append(c)\n",
    "    q=input('enter quantity of {} '.format(str(f)))\n",
    "    p[2].append(q)\n",
    "a=0\n",
    "for j in range(i):\n",
    "    a+=p[1][j]*p[2][j]\n",
    "    \n",
    "    \n",
    "print(p)\n",
    "print(\"net cost of inventory is {} \".format(a))\n",
    "    \n",
    "    "
   ]
  },
  {
   "cell_type": "code",
   "execution_count": 2,
   "metadata": {},
   "outputs": [
    {
     "name": "stdout",
     "output_type": "stream",
     "text": [
      "sravanwent to vacation\n",
      "dinakarwent to vacation\n",
      "praneethawent to vacation\n",
      "lavanyawent to vacation\n",
      "maheshwent to vacation\n"
     ]
    }
   ],
   "source": [
    "a=[\"sravan\",\"dinakar\",\"praneetha\",\"lavanya\",\"mahesh\"]\n",
    "b=len(a)\n",
    "for i in a:\n",
    "    print(\"{}went to vacation\".format(str(i)))\n"
   ]
  }
 ],
 "metadata": {
  "kernelspec": {
   "display_name": "Python 2",
   "language": "python",
   "name": "python2"
  },
  "language_info": {
   "codemirror_mode": {
    "name": "ipython",
    "version": 2
   },
   "file_extension": ".py",
   "mimetype": "text/x-python",
   "name": "python",
   "nbconvert_exporter": "python",
   "pygments_lexer": "ipython2",
   "version": "2.7.15"
  }
 },
 "nbformat": 4,
 "nbformat_minor": 2
}
