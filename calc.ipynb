{
 "cells": [
  {
   "cell_type": "code",
   "execution_count": 1,
   "metadata": {},
   "outputs": [
    {
     "name": "stdout",
     "output_type": "stream",
     "text": [
      "5\n",
      "25\n"
     ]
    }
   ],
   "source": [
    "class calc():\n",
    "    def area_rec(l,b):\n",
    "        l=input()\n",
    "        b=input()\n",
    "        area=l*b\n",
    "        return(area)\n",
    "    def area_cir(r):\n",
    "        r=input()\n",
    "        area=3.14*r**2\n",
    "        return (area)\n",
    "    def area_tri(a,b,c):\n",
    "        a=input()\n",
    "        b=input()\n",
    "        c=input()\n",
    "        s=(a+b+c)/2\n",
    "        area=s*(s-a)*(s-b)*(s-c)\n",
    "        return(area)\n",
    "    def area_squ(a):\n",
    "        a=input()\n",
    "        area=a**2\n",
    "        return (area)\n",
    "c=calc()\n",
    "k=c.area_squ()\n",
    "print(k)"
   ]
  }
 ],
 "metadata": {
  "kernelspec": {
   "display_name": "Python 2",
   "language": "python",
   "name": "python2"
  },
  "language_info": {
   "codemirror_mode": {
    "name": "ipython",
    "version": 2
   },
   "file_extension": ".py",
   "mimetype": "text/x-python",
   "name": "python",
   "nbconvert_exporter": "python",
   "pygments_lexer": "ipython2",
   "version": "2.7.15"
  }
 },
 "nbformat": 4,
 "nbformat_minor": 2
}
