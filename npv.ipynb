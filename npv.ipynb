{
 "cells": [
  {
   "cell_type": "code",
   "execution_count": 14,
   "metadata": {},
   "outputs": [
    {
     "name": "stdout",
     "output_type": "stream",
     "text": [
      "rate of interest: 6\n",
      "cash flows: \"100,200,300,400\"\n",
      "initial investment: 500\n",
      "1.0\n",
      "['100', '200', '300', '400']\n",
      "[100.0, 200.0, 300.0, 400.0]\n",
      "[1.0, 1.0, 1.0, 1.0]\n",
      "The net present valur is = 500.0\n",
      "The IRR value + 2.0\n"
     ]
    }
   ],
   "source": [
    "def NPV(r,l,k):\n",
    "    b=(1/(1+(r/100)))\n",
    "\n",
    "    s=list(l.split(\",\"))\n",
    "    l=[int(i) for i  in s]\n",
    "    n=len(l)\n",
    "    m=[]# takes interest coefficients for each NPV\n",
    "    for x in range(1,n+1):\n",
    "        a=b**x\n",
    "        m.append(float(a))\n",
    "    x=[]#takes npvs of each cashflow\n",
    "    for f in range(0,n):\n",
    "        g=((m[f])*(l[f]))\n",
    "        x.append(float(g))\n",
    "    v=sum(x)\n",
    "    npv=v-k\n",
    "    irr=float(v)/float(k)\n",
    "    print(\"{}\".format(float(b)))\n",
    "    print(s)\n",
    "    print(x)\n",
    "    print(m)\n",
    "    print(\"The net present valur is = \"+str(npv))\n",
    "    print(\"The IRR value + \" + str(irr))\n",
    "    \n",
    "r=int(input(\"rate of interest: \"))\n",
    "l=input(\"cash flows: \")\n",
    "k=input(\"initial investment: \")\n",
    "NPV(r,l,k)"
   ]
  },
  {
   "cell_type": "code",
   "execution_count": null,
   "metadata": {},
   "outputs": [],
   "source": [
    "\n",
    "a=input(\"rate of interest is = \")\n",
    "b=input(\"enter your cash flows: \")\n",
    "c=input(\"initial investment is: \")\n",
    "npv=NPV(a,b,c)"
   ]
  },
  {
   "cell_type": "code",
   "execution_count": null,
   "metadata": {},
   "outputs": [],
   "source": [
    "p='125,135,143,123'\n",
    "s=list(p.split(\",\"))\n",
    "s1=[int(i) for i in s]\n",
    "s\n",
    "s2=sum(s1)\n",
    "print(s2)\n",
    "print(s)"
   ]
  },
  {
   "cell_type": "code",
   "execution_count": 1,
   "metadata": {},
   "outputs": [
    {
     "name": "stdout",
     "output_type": "stream",
     "text": [
      "2\n"
     ]
    },
    {
     "ename": "AttributeError",
     "evalue": "'int' object has no attribute 'split'",
     "output_type": "error",
     "traceback": [
      "\u001b[1;31m---------------------------------------------------------------------------\u001b[0m",
      "\u001b[1;31mAttributeError\u001b[0m                            Traceback (most recent call last)",
      "\u001b[1;32m<ipython-input-1-2b7f578d858a>\u001b[0m in \u001b[0;36m<module>\u001b[1;34m()\u001b[0m\n\u001b[0;32m      1\u001b[0m \u001b[0mj\u001b[0m\u001b[1;33m=\u001b[0m\u001b[0minput\u001b[0m\u001b[1;33m(\u001b[0m\u001b[1;33m)\u001b[0m\u001b[1;33m\u001b[0m\u001b[0m\n\u001b[1;32m----> 2\u001b[1;33m \u001b[0mk\u001b[0m\u001b[1;33m=\u001b[0m\u001b[0mj\u001b[0m\u001b[1;33m.\u001b[0m\u001b[0msplit\u001b[0m\u001b[1;33m(\u001b[0m\u001b[1;34m\",\"\u001b[0m\u001b[1;33m)\u001b[0m\u001b[1;33m\u001b[0m\u001b[0m\n\u001b[0m\u001b[0;32m      3\u001b[0m \u001b[0mk\u001b[0m\u001b[1;33m\u001b[0m\u001b[0m\n",
      "\u001b[1;31mAttributeError\u001b[0m: 'int' object has no attribute 'split'"
     ]
    }
   ],
   "source": [
    "j=input()\n",
    "k=j.split(\",\")\n",
    "k"
   ]
  },
  {
   "cell_type": "code",
   "execution_count": null,
   "metadata": {},
   "outputs": [],
   "source": []
  }
 ],
 "metadata": {
  "kernelspec": {
   "display_name": "Python 2",
   "language": "python",
   "name": "python2"
  },
  "language_info": {
   "codemirror_mode": {
    "name": "ipython",
    "version": 2
   },
   "file_extension": ".py",
   "mimetype": "text/x-python",
   "name": "python",
   "nbconvert_exporter": "python",
   "pygments_lexer": "ipython2",
   "version": "2.7.15"
  }
 },
 "nbformat": 4,
 "nbformat_minor": 2
}
