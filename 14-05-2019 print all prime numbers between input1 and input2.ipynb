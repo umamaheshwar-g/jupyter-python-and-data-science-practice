{
 "cells": [
  {
   "cell_type": "code",
   "execution_count": 3,
   "metadata": {},
   "outputs": [
    {
     "name": "stdout",
     "output_type": "stream",
     "text": [
      "enter starting value4\n",
      "enter ending value34\n",
      "the prime numbers between 4 and 34 are \n",
      "5\n",
      "7\n",
      "11\n",
      "13\n",
      "17\n",
      "19\n",
      "23\n",
      "29\n",
      "31\n"
     ]
    }
   ],
   "source": [
    "index1 = input('enter starting value')#20\n",
    "index2 = input('enter ending value')#100\n",
    "\n",
    "print(\"the prime numbers between {} and {} are \".format(index1,index2))\n",
    "for i in range(index1,index2):#our subject numbers\n",
    "    if i > 1:\n",
    "        isDivisible = 0\n",
    "        for j in range(2,i-1):\n",
    "            if i%j==0:\n",
    "                isDivisible= True\n",
    "        if not isDivisible:\n",
    "            print(i)        "
   ]
  },
  {
   "cell_type": "code",
   "execution_count": null,
   "metadata": {},
   "outputs": [],
   "source": []
  }
 ],
 "metadata": {
  "kernelspec": {
   "display_name": "Python 2",
   "language": "python",
   "name": "python2"
  },
  "language_info": {
   "codemirror_mode": {
    "name": "ipython",
    "version": 2
   },
   "file_extension": ".py",
   "mimetype": "text/x-python",
   "name": "python",
   "nbconvert_exporter": "python",
   "pygments_lexer": "ipython2",
   "version": "2.7.15"
  }
 },
 "nbformat": 4,
 "nbformat_minor": 2
}
