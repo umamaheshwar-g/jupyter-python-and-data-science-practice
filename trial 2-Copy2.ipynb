{
 "cells": [
  {
   "cell_type": "code",
   "execution_count": 7,
   "metadata": {},
   "outputs": [],
   "source": [
    "import pandas as pd\n",
    "import oandapyV20\n",
    "import oandapyV20.endpoints.accounts as accounts\n",
    "import oandapyV20.endpoints.pricing as pricing\n",
    "import configparser\n",
    "import ipywidgets as w\n",
    "import json\n",
    "import string as s\n",
    "import time"
   ]
  },
  {
   "cell_type": "code",
   "execution_count": 8,
   "metadata": {},
   "outputs": [],
   "source": [
    "accountID=\"101-001-11588733-001\""
   ]
  },
  {
   "cell_type": "code",
   "execution_count": 9,
   "metadata": {},
   "outputs": [],
   "source": [
    "client = oandapyV20.API(access_token=\"ae9350a9996c4ef6d9ad3a1bc39e12ed-8c1789ca29b12194796b6bff271831f0\")\n",
    "r = accounts.AccountDetails(\"101-001-11588733-001\")"
   ]
  },
  {
   "cell_type": "code",
   "execution_count": 10,
   "metadata": {},
   "outputs": [],
   "source": [
    "o=pd.read_csv(\"pairs.csv\")\n",
    "io=[]\n",
    "for i in range(0,69):\n",
    "   io.append( list(o['Instrument Name'])[i].split())\n",
    "to=[]\n",
    "for i in range(69):\n",
    "    to.append(io[i][0])"
   ]
  },
  {
   "cell_type": "code",
   "execution_count": 23,
   "metadata": {},
   "outputs": [
    {
     "ename": "TypeError",
     "evalue": "Error when calling the metaclass bases\n    __init__() takes exactly 1 argument (7 given)",
     "output_type": "error",
     "traceback": [
      "\u001b[1;31m---------------------------------------------------------------------------\u001b[0m",
      "\u001b[1;31mTypeError\u001b[0m                                 Traceback (most recent call last)",
      "\u001b[1;32m<ipython-input-23-8efebf525d2c>\u001b[0m in \u001b[0;36m<module>\u001b[1;34m()\u001b[0m\n\u001b[0;32m      3\u001b[0m \u001b[1;33m\u001b[0m\u001b[0m\n\u001b[0;32m      4\u001b[0m \u001b[1;33m\u001b[0m\u001b[0m\n\u001b[1;32m----> 5\u001b[1;33m \u001b[1;32mclass\u001b[0m \u001b[0mfinal\u001b[0m\u001b[1;33m(\u001b[0m\u001b[0minst\u001b[0m\u001b[1;33m)\u001b[0m\u001b[1;33m:\u001b[0m\u001b[1;33m\u001b[0m\u001b[0m\n\u001b[0m\u001b[0;32m      6\u001b[0m     \u001b[1;32mdef\u001b[0m \u001b[0m__init__\u001b[0m\u001b[1;33m(\u001b[0m\u001b[0mself\u001b[0m\u001b[1;33m,\u001b[0m \u001b[0mask\u001b[0m\u001b[1;33m,\u001b[0m \u001b[0mask1\u001b[0m\u001b[1;33m,\u001b[0m \u001b[0mBid\u001b[0m\u001b[1;33m,\u001b[0m \u001b[0mBid1\u001b[0m\u001b[1;33m,\u001b[0m \u001b[0mname\u001b[0m\u001b[1;33m,\u001b[0m \u001b[0mup\u001b[0m\u001b[1;33m,\u001b[0m \u001b[0mDown\u001b[0m\u001b[1;33m)\u001b[0m\u001b[1;33m:\u001b[0m\u001b[1;33m\u001b[0m\u001b[0m\n\u001b[0;32m      7\u001b[0m         \u001b[0mself\u001b[0m\u001b[1;33m.\u001b[0m\u001b[0mask\u001b[0m\u001b[1;33m=\u001b[0m\u001b[0mw\u001b[0m\u001b[1;33m.\u001b[0m\u001b[0mHTML\u001b[0m\u001b[1;33m(\u001b[0m\u001b[0mdescription\u001b[0m\u001b[1;33m=\u001b[0m\u001b[1;34m\"Ask Price\"\u001b[0m\u001b[1;33m)\u001b[0m\u001b[1;33m\u001b[0m\u001b[0m\n",
      "\u001b[1;32mC:\\Users\\umama\\Anaconda2\\lib\\site-packages\\ipywidgets\\widgets\\widget_selection.pyc\u001b[0m in \u001b[0;36m__init__\u001b[1;34m(self, *args, **kwargs)\u001b[0m\n\u001b[0;32m    184\u001b[0m             \u001b[0mkwargs\u001b[0m\u001b[1;33m[\u001b[0m\u001b[1;34m'label'\u001b[0m\u001b[1;33m]\u001b[0m\u001b[1;33m,\u001b[0m \u001b[0mkwargs\u001b[0m\u001b[1;33m[\u001b[0m\u001b[1;34m'value'\u001b[0m\u001b[1;33m]\u001b[0m \u001b[1;33m=\u001b[0m \u001b[0moptions\u001b[0m\u001b[1;33m[\u001b[0m\u001b[1;36m0\u001b[0m\u001b[1;33m]\u001b[0m \u001b[1;32mif\u001b[0m \u001b[0mnonempty\u001b[0m \u001b[1;32melse\u001b[0m \u001b[1;33m(\u001b[0m\u001b[0mNone\u001b[0m\u001b[1;33m,\u001b[0m \u001b[0mNone\u001b[0m\u001b[1;33m)\u001b[0m\u001b[1;33m\u001b[0m\u001b[0m\n\u001b[0;32m    185\u001b[0m \u001b[1;33m\u001b[0m\u001b[0m\n\u001b[1;32m--> 186\u001b[1;33m         \u001b[0msuper\u001b[0m\u001b[1;33m(\u001b[0m\u001b[0m_Selection\u001b[0m\u001b[1;33m,\u001b[0m \u001b[0mself\u001b[0m\u001b[1;33m)\u001b[0m\u001b[1;33m.\u001b[0m\u001b[0m__init__\u001b[0m\u001b[1;33m(\u001b[0m\u001b[1;33m*\u001b[0m\u001b[0margs\u001b[0m\u001b[1;33m,\u001b[0m \u001b[1;33m**\u001b[0m\u001b[0mkwargs\u001b[0m\u001b[1;33m)\u001b[0m\u001b[1;33m\u001b[0m\u001b[0m\n\u001b[0m\u001b[0;32m    187\u001b[0m         \u001b[0mself\u001b[0m\u001b[1;33m.\u001b[0m\u001b[0m_initializing_traits_\u001b[0m \u001b[1;33m=\u001b[0m \u001b[0mFalse\u001b[0m\u001b[1;33m\u001b[0m\u001b[0m\n\u001b[0;32m    188\u001b[0m \u001b[1;33m\u001b[0m\u001b[0m\n",
      "\u001b[1;31mTypeError\u001b[0m: Error when calling the metaclass bases\n    __init__() takes exactly 1 argument (7 given)"
     ]
    }
   ],
   "source": [
    "inst=w.Dropdown(options=to)\n",
    "b=w.Button(description=\"submit\")\n",
    "\n",
    "\n",
    "class final(inst):\n",
    "    def __init__(self, ask, ask1, Bid, Bid1, name, up, Down):\n",
    "        self.ask=w.HTML(description=\"Ask Price\")\n",
    "        self.ask1=w.BoundedFloatText()\n",
    "        self.Bid=w.HTML(description=\"Bid Price\")\n",
    "        self.name=w.HTML()\n",
    "        self.Bid1=w.BoundedFloatText()\n",
    "        self.up=w.HBox([inst,b])\n",
    "        self.Down=w.HBox([w.VBox([name]),w.VBox([ask,ask1]),w.VBox([Bid,Bid1])])\n",
    "    def ab(self):\n",
    "        r= pricing.PricingInfo(accountID=\"101-001-11588733-001\",params = {\"instruments\":final.inst.value})\n",
    "        final.ask1.value=client.request(r)[\"prices\"][0][\"asks\"][0][\"price\"]\n",
    "        final.Bid1.value=str(client.request(r)[\"prices\"][0][\"bids\"][0][\"price\"])\n",
    "        final.name.value=inst.value\n",
    "        new=w.HBox([w.VBox([name]),w.VBox([ask,ask1]),w.VBox([Bid,Bid1])])\n",
    "        display(new)"
   ]
  },
  {
   "cell_type": "code",
   "execution_count": 19,
   "metadata": {},
   "outputs": [
    {
     "ename": "TypeError",
     "evalue": "__call__() takes at most 2 arguments (3 given)",
     "output_type": "error",
     "traceback": [
      "\u001b[1;31m---------------------------------------------------------------------------\u001b[0m",
      "\u001b[1;31mTypeError\u001b[0m                                 Traceback (most recent call last)",
      "\u001b[1;32m<ipython-input-19-153e61baa1ed>\u001b[0m in \u001b[0;36m<module>\u001b[1;34m()\u001b[0m\n\u001b[1;32m----> 1\u001b[1;33m \u001b[0mw\u001b[0m\u001b[1;33m.\u001b[0m\u001b[0minteract\u001b[0m\u001b[1;33m(\u001b[0m\u001b[0mfinal\u001b[0m\u001b[1;33m.\u001b[0m\u001b[0mab\u001b[0m\u001b[1;33m,\u001b[0m \u001b[0minst\u001b[0m\u001b[1;33m)\u001b[0m\u001b[1;33m\u001b[0m\u001b[0m\n\u001b[0m\u001b[0;32m      2\u001b[0m \u001b[0mxyz\u001b[0m\u001b[1;33m=\u001b[0m\u001b[0mfinal\u001b[0m\u001b[1;33m(\u001b[0m\u001b[0minst\u001b[0m\u001b[1;33m)\u001b[0m\u001b[1;33m\u001b[0m\u001b[0m\n",
      "\u001b[1;31mTypeError\u001b[0m: __call__() takes at most 2 arguments (3 given)"
     ]
    }
   ],
   "source": [
    "w.interact(final.ab, inst)\n",
    "xyz=final(inst)\n"
   ]
  },
  {
   "cell_type": "code",
   "execution_count": 16,
   "metadata": {},
   "outputs": [
    {
     "ename": "NameError",
     "evalue": "name 'xyz' is not defined",
     "output_type": "error",
     "traceback": [
      "\u001b[1;31m---------------------------------------------------------------------------\u001b[0m",
      "\u001b[1;31mNameError\u001b[0m                                 Traceback (most recent call last)",
      "\u001b[1;32m<ipython-input-16-19f28ba8b2d6>\u001b[0m in \u001b[0;36m<module>\u001b[1;34m()\u001b[0m\n\u001b[1;32m----> 1\u001b[1;33m \u001b[0mb\u001b[0m\u001b[1;33m.\u001b[0m\u001b[0mon_click\u001b[0m\u001b[1;33m(\u001b[0m\u001b[0mxyz\u001b[0m\u001b[1;33m.\u001b[0m\u001b[0mab\u001b[0m\u001b[1;33m(\u001b[0m\u001b[1;33m)\u001b[0m\u001b[1;33m)\u001b[0m\u001b[1;33m\u001b[0m\u001b[0m\n\u001b[0m",
      "\u001b[1;31mNameError\u001b[0m: name 'xyz' is not defined"
     ]
    }
   ],
   "source": [
    "b.on_click(xyz.ab())"
   ]
  },
  {
   "cell_type": "code",
   "execution_count": null,
   "metadata": {},
   "outputs": [],
   "source": []
  },
  {
   "cell_type": "markdown",
   "metadata": {},
   "source": [
    "\n",
    "\n",
    "\n",
    "ask=w.HTML(description=\"Ask Price\")\n",
    "ask1=w.BoundedFloatText()\n",
    "Bid=w.HTML(description=\"Bid Price\")\n",
    "name=w.HTML()\n",
    "Bid1=w.BoundedFloatText()\n",
    "up=w.HBox([inst,b])\n",
    "Down=w.HBox([w.VBox([name]),w.VBox([ask,ask1]),w.VBox([Bid,Bid1])])\n",
    "lis=[up]\n",
    "lis2=[]\n",
    "def ab(self):\n",
    "    r= pricing.PricingInfo(accountID=\"101-001-11588733-001\",params = {\"instruments\":inst.value})\n",
    "    ask1.value=client.request(r)[\"prices\"][0][\"asks\"][0][\"price\"]\n",
    "    Bid1.value=str(client.request(r)[\"prices\"][0][\"bids\"][0][\"price\"])\n",
    "    name.value=inst.value\n",
    "    new=w.HBox([w.VBox([name]),w.VBox([ask,ask1]),w.VBox([Bid,Bid1])])\n",
    "    lis2.append(new)\n",
    "    h2=w.VBox(lis2)\n",
    "    display(new)\n",
    "def con():\n",
    "    while True:\n",
    "        ab()\n",
    "\n",
    "def intab(self):\n",
    "    w.interact(con)\n",
    "\n",
    "b.on_click(ab)\n",
    "\n",
    "h=w.VBox(lis)\n",
    "display(h)\n"
   ]
  },
  {
   "cell_type": "markdown",
   "metadata": {},
   "source": [
    "inst.value"
   ]
  },
  {
   "cell_type": "code",
   "execution_count": null,
   "metadata": {},
   "outputs": [],
   "source": []
  },
  {
   "cell_type": "code",
   "execution_count": null,
   "metadata": {},
   "outputs": [],
   "source": []
  }
 ],
 "metadata": {
  "kernelspec": {
   "display_name": "Python 2",
   "language": "python",
   "name": "python2"
  },
  "language_info": {
   "codemirror_mode": {
    "name": "ipython",
    "version": 2
   },
   "file_extension": ".py",
   "mimetype": "text/x-python",
   "name": "python",
   "nbconvert_exporter": "python",
   "pygments_lexer": "ipython2",
   "version": "2.7.15"
  }
 },
 "nbformat": 4,
 "nbformat_minor": 2
}
