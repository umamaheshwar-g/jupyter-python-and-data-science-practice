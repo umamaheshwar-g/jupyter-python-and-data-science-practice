{
 "cells": [
  {
   "cell_type": "markdown",
   "metadata": {},
   "source": [
    "pd.Series(data, index="
   ]
  },
  {
   "cell_type": "code",
   "execution_count": 1,
   "metadata": {},
   "outputs": [],
   "source": [
    "import pandas as pd"
   ]
  },
  {
   "cell_type": "code",
   "execution_count": 2,
   "metadata": {},
   "outputs": [
    {
     "data": {
      "text/plain": [
       "0    1\n",
       "1    2\n",
       "2    3\n",
       "3    4\n",
       "4    5\n",
       "dtype: int64"
      ]
     },
     "execution_count": 2,
     "metadata": {},
     "output_type": "execute_result"
    }
   ],
   "source": [
    "l=[1,2,3,4,5]\n",
    "pd.Series(l)"
   ]
  },
  {
   "cell_type": "code",
   "execution_count": 3,
   "metadata": {},
   "outputs": [
    {
     "data": {
      "text/plain": [
       "{11: 15, 28: 23, 44: 43, 72: 25, 86: 25}"
      ]
     },
     "execution_count": 3,
     "metadata": {},
     "output_type": "execute_result"
    }
   ],
   "source": [
    "li={11:15,72:25,44:43,86:25,28:23}\n",
    "li"
   ]
  },
  {
   "cell_type": "code",
   "execution_count": 4,
   "metadata": {},
   "outputs": [
    {
     "data": {
      "text/plain": [
       "11    15\n",
       "28    23\n",
       "44    43\n",
       "72    25\n",
       "86    25\n",
       "dtype: int64"
      ]
     },
     "execution_count": 4,
     "metadata": {},
     "output_type": "execute_result"
    }
   ],
   "source": [
    "\n",
    "li2=pd.Series(data=li)\n",
    "li2"
   ]
  },
  {
   "cell_type": "code",
   "execution_count": 5,
   "metadata": {},
   "outputs": [
    {
     "name": "stdout",
     "output_type": "stream",
     "text": [
      "11    15\n",
      "28    23\n",
      "44    43\n",
      "72    25\n",
      "86    25\n",
      "dtype: int64\n"
     ]
    },
    {
     "data": {
      "text/plain": [
       "(15, 23)"
      ]
     },
     "execution_count": 5,
     "metadata": {},
     "output_type": "execute_result"
    }
   ],
   "source": [
    "print(li2)\n",
    "li2[11],li2[28]"
   ]
  },
  {
   "cell_type": "code",
   "execution_count": 6,
   "metadata": {},
   "outputs": [
    {
     "name": "stdout",
     "output_type": "stream",
     "text": [
      "11    12\n",
      "28    23\n",
      "44    43\n",
      "72    25\n",
      "86    25\n",
      "dtype: int64\n"
     ]
    }
   ],
   "source": [
    "\n",
    "li2[11]=12\n",
    "print(li2)"
   ]
  },
  {
   "cell_type": "code",
   "execution_count": 7,
   "metadata": {},
   "outputs": [
    {
     "name": "stdout",
     "output_type": "stream",
     "text": [
      "11    12\n",
      "28    23\n",
      "44    43\n",
      "72    25\n",
      "86    25\n",
      "dtype: int64\n"
     ]
    },
    {
     "data": {
      "text/plain": [
       "43"
      ]
     },
     "execution_count": 7,
     "metadata": {},
     "output_type": "execute_result"
    }
   ],
   "source": [
    "\n",
    "print(li2)\n",
    "li2.pop(44)"
   ]
  },
  {
   "cell_type": "code",
   "execution_count": 8,
   "metadata": {},
   "outputs": [
    {
     "data": {
      "text/plain": [
       "11    12\n",
       "28    23\n",
       "72    25\n",
       "86    25\n",
       "44    49\n",
       "dtype: int64"
      ]
     },
     "execution_count": 8,
     "metadata": {},
     "output_type": "execute_result"
    }
   ],
   "source": [
    "li2[44]=49\n",
    "li2"
   ]
  },
  {
   "cell_type": "code",
   "execution_count": 9,
   "metadata": {},
   "outputs": [
    {
     "data": {
      "text/plain": [
       "38    1\n",
       "23    2\n",
       "95    3\n",
       "26    4\n",
       "77    5\n",
       "dtype: int64"
      ]
     },
     "execution_count": 9,
     "metadata": {},
     "output_type": "execute_result"
    }
   ],
   "source": [
    "s=pd.Series(l,index=[38,23,95,26,77])\n",
    "s"
   ]
  },
  {
   "cell_type": "code",
   "execution_count": 10,
   "metadata": {},
   "outputs": [],
   "source": [
    "li={11:15,72:25,44:43,86:25,28:23}"
   ]
  },
  {
   "cell_type": "code",
   "execution_count": 11,
   "metadata": {},
   "outputs": [
    {
     "data": {
      "text/plain": [
       "<function pandas.io.html.read_html>"
      ]
     },
     "execution_count": 11,
     "metadata": {},
     "output_type": "execute_result"
    }
   ],
   "source": [
    "pd.read_excel\n",
    "pd.read_html"
   ]
  },
  {
   "cell_type": "code",
   "execution_count": 12,
   "metadata": {},
   "outputs": [],
   "source": [
    "o=[range(6)]\n",
    "j=[range(3,8)]\n",
    "l=[range(4,9)]"
   ]
  },
  {
   "cell_type": "code",
   "execution_count": 13,
   "metadata": {},
   "outputs": [
    {
     "name": "stdout",
     "output_type": "stream",
     "text": [
      "0    [[0, 1, 2, 3, 4, 5]]\n",
      "1       [[3, 4, 5, 6, 7]]\n",
      "2       [[4, 5, 6, 7, 8]]\n",
      "dtype: object\n"
     ]
    }
   ],
   "source": [
    "try:\n",
    "    t = pd.Series([o,j,l])\n",
    "    \n",
    "except:\n",
    "    print('not a series')\n",
    "print(t)"
   ]
  },
  {
   "cell_type": "code",
   "execution_count": null,
   "metadata": {},
   "outputs": [],
   "source": []
  },
  {
   "cell_type": "code",
   "execution_count": 15,
   "metadata": {},
   "outputs": [
    {
     "data": {
      "text/plain": [
       "[0, 1, 2, 3, 4, 5]"
      ]
     },
     "execution_count": 15,
     "metadata": {},
     "output_type": "execute_result"
    }
   ],
   "source": [
    "o=range(6)\n",
    "j=range(3,8)\n",
    "l=range(4,9)\n",
    "o"
   ]
  },
  {
   "cell_type": "code",
   "execution_count": 20,
   "metadata": {},
   "outputs": [
    {
     "data": {
      "text/html": [
       "<div>\n",
       "<style scoped>\n",
       "    .dataframe tbody tr th:only-of-type {\n",
       "        vertical-align: middle;\n",
       "    }\n",
       "\n",
       "    .dataframe tbody tr th {\n",
       "        vertical-align: top;\n",
       "    }\n",
       "\n",
       "    .dataframe thead th {\n",
       "        text-align: right;\n",
       "    }\n",
       "</style>\n",
       "<table border=\"1\" class=\"dataframe\">\n",
       "  <thead>\n",
       "    <tr style=\"text-align: right;\">\n",
       "      <th></th>\n",
       "      <th>a</th>\n",
       "      <th>b</th>\n",
       "      <th>c</th>\n",
       "      <th>d</th>\n",
       "      <th>f</th>\n",
       "      <th>g</th>\n",
       "    </tr>\n",
       "  </thead>\n",
       "  <tbody>\n",
       "    <tr>\n",
       "      <th>ab</th>\n",
       "      <td>0</td>\n",
       "      <td>1</td>\n",
       "      <td>2</td>\n",
       "      <td>3</td>\n",
       "      <td>4</td>\n",
       "      <td>5.0</td>\n",
       "    </tr>\n",
       "    <tr>\n",
       "      <th>bc</th>\n",
       "      <td>3</td>\n",
       "      <td>4</td>\n",
       "      <td>5</td>\n",
       "      <td>6</td>\n",
       "      <td>7</td>\n",
       "      <td>NaN</td>\n",
       "    </tr>\n",
       "    <tr>\n",
       "      <th>cd</th>\n",
       "      <td>4</td>\n",
       "      <td>5</td>\n",
       "      <td>6</td>\n",
       "      <td>7</td>\n",
       "      <td>8</td>\n",
       "      <td>NaN</td>\n",
       "    </tr>\n",
       "  </tbody>\n",
       "</table>\n",
       "</div>"
      ],
      "text/plain": [
       "    a  b  c  d  f    g\n",
       "ab  0  1  2  3  4  5.0\n",
       "bc  3  4  5  6  7  NaN\n",
       "cd  4  5  6  7  8  NaN"
      ]
     },
     "execution_count": 20,
     "metadata": {},
     "output_type": "execute_result"
    }
   ],
   "source": [
    "a=pd.DataFrame(data=[o,j,l],columns=['a','b','c','d','f','g'],index=['ab','bc','cd'])\n",
    "a\n"
   ]
  },
  {
   "cell_type": "code",
   "execution_count": 37,
   "metadata": {},
   "outputs": [
    {
     "data": {
      "text/html": [
       "<div>\n",
       "<style scoped>\n",
       "    .dataframe tbody tr th:only-of-type {\n",
       "        vertical-align: middle;\n",
       "    }\n",
       "\n",
       "    .dataframe tbody tr th {\n",
       "        vertical-align: top;\n",
       "    }\n",
       "\n",
       "    .dataframe thead th {\n",
       "        text-align: right;\n",
       "    }\n",
       "</style>\n",
       "<table border=\"1\" class=\"dataframe\">\n",
       "  <thead>\n",
       "    <tr style=\"text-align: right;\">\n",
       "      <th>ikea</th>\n",
       "      <th>a</th>\n",
       "      <th>c</th>\n",
       "      <th>k</th>\n",
       "      <th>f</th>\n",
       "      <th>d</th>\n",
       "      <th>b</th>\n",
       "    </tr>\n",
       "    <tr>\n",
       "      <th>furniture</th>\n",
       "      <th></th>\n",
       "      <th></th>\n",
       "      <th></th>\n",
       "      <th></th>\n",
       "      <th></th>\n",
       "      <th></th>\n",
       "    </tr>\n",
       "  </thead>\n",
       "  <tbody>\n",
       "    <tr>\n",
       "      <th>ab</th>\n",
       "      <td>0</td>\n",
       "      <td>1</td>\n",
       "      <td>2</td>\n",
       "      <td>3</td>\n",
       "      <td>4</td>\n",
       "      <td>5.0</td>\n",
       "    </tr>\n",
       "    <tr>\n",
       "      <th>bc</th>\n",
       "      <td>3</td>\n",
       "      <td>4</td>\n",
       "      <td>5</td>\n",
       "      <td>6</td>\n",
       "      <td>7</td>\n",
       "      <td>NaN</td>\n",
       "    </tr>\n",
       "    <tr>\n",
       "      <th>cd</th>\n",
       "      <td>4</td>\n",
       "      <td>5</td>\n",
       "      <td>6</td>\n",
       "      <td>7</td>\n",
       "      <td>8</td>\n",
       "      <td>NaN</td>\n",
       "    </tr>\n",
       "  </tbody>\n",
       "</table>\n",
       "</div>"
      ],
      "text/plain": [
       "ikea       a  c  k  f  d    b\n",
       "furniture                    \n",
       "ab         0  1  2  3  4  5.0\n",
       "bc         3  4  5  6  7  NaN\n",
       "cd         4  5  6  7  8  NaN"
      ]
     },
     "execution_count": 37,
     "metadata": {},
     "output_type": "execute_result"
    }
   ],
   "source": [
    "o=range(6)\n",
    "j=range(3,8)\n",
    "l=range(4,9)\n",
    "o\n",
    "b=pd.DataFrame(data=[o,j,l],columns=['a','c','k','f','d','b'],index=['ab','bc','cd'])\n",
    "b.columns.name='ikea'\n",
    "b.index.name='furniture'\n",
    "b\n"
   ]
  },
  {
   "cell_type": "code",
   "execution_count": 36,
   "metadata": {},
   "outputs": [
    {
     "data": {
      "text/plain": [
       "0    {72: 25, 28: 23, 11: 15, 44: 43, 86: 25}\n",
       "1    {72: 52, 11: 38, 44: 33, 29: 23, 87: 25}\n",
       "dtype: object"
      ]
     },
     "execution_count": 36,
     "metadata": {},
     "output_type": "execute_result"
    }
   ],
   "source": [
    "li0={11:15,72:25,44:43,86:25,28:23}\n",
    "li1={11:38,72:52,44:33,87:25,29:23}\n",
    "c=pd.Series(data=[li0,li1])\n",
    "c"
   ]
  },
  {
   "cell_type": "code",
   "execution_count": 54,
   "metadata": {},
   "outputs": [
    {
     "name": "stdout",
     "output_type": "stream",
     "text": [
      "   a  b  c\n",
      "0  0  4  3\n",
      "1  1  5  4\n",
      "2  2  6  5\n",
      "3  3  7  6\n",
      "4  4  8  7\n",
      "    a  b  c  d  f    g\n",
      "ab  0  1  2  3  4  5.0\n",
      "bc  3  4  5  6  7  NaN\n",
      "cd  4  5  6  7  8  NaN\n"
     ]
    }
   ],
   "source": [
    "li={\"a\":range(5),\"c\":range(3,8),\"b\":range(4,9)}\n",
    "s=pd.DataFrame(li)\n",
    "print(s)\n",
    "a=pd.DataFrame(data=[o,j,l],columns=['a','b','c','d','f','g'],index=['ab','bc','cd'])\n",
    "print(a)"
   ]
  },
  {
   "cell_type": "code",
   "execution_count": 65,
   "metadata": {},
   "outputs": [
    {
     "data": {
      "text/html": [
       "<div>\n",
       "<style scoped>\n",
       "    .dataframe tbody tr th:only-of-type {\n",
       "        vertical-align: middle;\n",
       "    }\n",
       "\n",
       "    .dataframe tbody tr th {\n",
       "        vertical-align: top;\n",
       "    }\n",
       "\n",
       "    .dataframe thead th {\n",
       "        text-align: right;\n",
       "    }\n",
       "</style>\n",
       "<table border=\"1\" class=\"dataframe\">\n",
       "  <thead>\n",
       "    <tr style=\"text-align: right;\">\n",
       "      <th></th>\n",
       "      <th>Unnamed: 0</th>\n",
       "      <th>Unnamed: 1</th>\n",
       "      <th>open</th>\n",
       "      <th>high</th>\n",
       "      <th>low</th>\n",
       "      <th>LTP</th>\n",
       "    </tr>\n",
       "  </thead>\n",
       "  <tbody>\n",
       "    <tr>\n",
       "      <th>0</th>\n",
       "      <td>1930-05-01</td>\n",
       "      <td>140</td>\n",
       "      <td>9.50</td>\n",
       "      <td>15.35</td>\n",
       "      <td>8.55</td>\n",
       "      <td>12.15</td>\n",
       "    </tr>\n",
       "    <tr>\n",
       "      <th>1</th>\n",
       "      <td>1930-06-01</td>\n",
       "      <td>150</td>\n",
       "      <td>2.90</td>\n",
       "      <td>6.55</td>\n",
       "      <td>2.70</td>\n",
       "      <td>3.80</td>\n",
       "    </tr>\n",
       "    <tr>\n",
       "      <th>2</th>\n",
       "      <td>1930-07-01</td>\n",
       "      <td>160</td>\n",
       "      <td>1.10</td>\n",
       "      <td>2.10</td>\n",
       "      <td>0.65</td>\n",
       "      <td>0.80</td>\n",
       "    </tr>\n",
       "    <tr>\n",
       "      <th>3</th>\n",
       "      <td>2027-06-01</td>\n",
       "      <td>140</td>\n",
       "      <td>17.00</td>\n",
       "      <td>21.00</td>\n",
       "      <td>16.80</td>\n",
       "      <td>18.75</td>\n",
       "    </tr>\n",
       "    <tr>\n",
       "      <th>4</th>\n",
       "      <td>2027-07-01</td>\n",
       "      <td>150</td>\n",
       "      <td>12.00</td>\n",
       "      <td>15.25</td>\n",
       "      <td>11.75</td>\n",
       "      <td>13.10</td>\n",
       "    </tr>\n",
       "    <tr>\n",
       "      <th>5</th>\n",
       "      <td>2027-08-01</td>\n",
       "      <td>160</td>\n",
       "      <td>8.15</td>\n",
       "      <td>10.70</td>\n",
       "      <td>7.90</td>\n",
       "      <td>9.05</td>\n",
       "    </tr>\n",
       "    <tr>\n",
       "      <th>6</th>\n",
       "      <td>1930-05-01</td>\n",
       "      <td>140</td>\n",
       "      <td>1.30</td>\n",
       "      <td>1.30</td>\n",
       "      <td>0.30</td>\n",
       "      <td>0.30</td>\n",
       "    </tr>\n",
       "    <tr>\n",
       "      <th>7</th>\n",
       "      <td>1930-06-01</td>\n",
       "      <td>150</td>\n",
       "      <td>4.55</td>\n",
       "      <td>4.55</td>\n",
       "      <td>1.30</td>\n",
       "      <td>1.45</td>\n",
       "    </tr>\n",
       "    <tr>\n",
       "      <th>8</th>\n",
       "      <td>1930-07-01</td>\n",
       "      <td>160</td>\n",
       "      <td>11.90</td>\n",
       "      <td>12.00</td>\n",
       "      <td>6.75</td>\n",
       "      <td>8.60</td>\n",
       "    </tr>\n",
       "    <tr>\n",
       "      <th>9</th>\n",
       "      <td>2027-06-01</td>\n",
       "      <td>140</td>\n",
       "      <td>8.70</td>\n",
       "      <td>9.40</td>\n",
       "      <td>6.80</td>\n",
       "      <td>7.55</td>\n",
       "    </tr>\n",
       "    <tr>\n",
       "      <th>10</th>\n",
       "      <td>2027-07-01</td>\n",
       "      <td>150</td>\n",
       "      <td>13.50</td>\n",
       "      <td>14.05</td>\n",
       "      <td>10.90</td>\n",
       "      <td>11.90</td>\n",
       "    </tr>\n",
       "    <tr>\n",
       "      <th>11</th>\n",
       "      <td>2027-08-01</td>\n",
       "      <td>160</td>\n",
       "      <td>19.70</td>\n",
       "      <td>19.70</td>\n",
       "      <td>16.25</td>\n",
       "      <td>17.45</td>\n",
       "    </tr>\n",
       "  </tbody>\n",
       "</table>\n",
       "</div>"
      ],
      "text/plain": [
       "   Unnamed: 0  Unnamed: 1   open   high    low    LTP\n",
       "0  1930-05-01         140   9.50  15.35   8.55  12.15\n",
       "1  1930-06-01         150   2.90   6.55   2.70   3.80\n",
       "2  1930-07-01         160   1.10   2.10   0.65   0.80\n",
       "3  2027-06-01         140  17.00  21.00  16.80  18.75\n",
       "4  2027-07-01         150  12.00  15.25  11.75  13.10\n",
       "5  2027-08-01         160   8.15  10.70   7.90   9.05\n",
       "6  1930-05-01         140   1.30   1.30   0.30   0.30\n",
       "7  1930-06-01         150   4.55   4.55   1.30   1.45\n",
       "8  1930-07-01         160  11.90  12.00   6.75   8.60\n",
       "9  2027-06-01         140   8.70   9.40   6.80   7.55\n",
       "10 2027-07-01         150  13.50  14.05  10.90  11.90\n",
       "11 2027-08-01         160  19.70  19.70  16.25  17.45"
      ]
     },
     "execution_count": 65,
     "metadata": {},
     "output_type": "execute_result"
    }
   ],
   "source": [
    "pd.read_excel(\"C:\\Users\\umama\\OneDrive\\Desktop\\New Microsoft Excel Worksheet.xlsx\")\n",
    "\n"
   ]
  },
  {
   "cell_type": "code",
   "execution_count": 86,
   "metadata": {},
   "outputs": [
    {
     "name": "stdout",
     "output_type": "stream",
     "text": [
      "      date  strike prices   open   high    low    LTP\n",
      "0   May-30            140   9.50  15.35   8.55  12.15\n",
      "1   Jun-30            150   2.90   6.55   2.70   3.80\n",
      "2   Jul-30            160   1.10   2.10   0.65   0.80\n",
      "3   Jun-27            140  17.00  21.00  16.80  18.75\n",
      "4   Jul-27            150  12.00  15.25  11.75  13.10\n",
      "5   Aug-27            160   8.15  10.70   7.90   9.05\n",
      "6   May-30            140   1.30   1.30   0.30   0.30\n",
      "7   Jun-30            150   4.55   4.55   1.30   1.45\n",
      "8   Jul-30            160  11.90  12.00   6.75   8.60\n",
      "9   Jun-27            140   8.70   9.40   6.80   7.55\n",
      "10  Jul-27            150  13.50  14.05  10.90  11.90\n",
      "11  Aug-27            160  19.70  19.70  16.25  17.45\n",
      "Jun-27\n"
     ]
    }
   ],
   "source": [
    "d=pd.read_csv(\"C:\\Users\\umama\\OneDrive\\Desktop\\New Microsoft Excel Worksheet.csv\")\n",
    "print(d)\n",
    "print(d[\"date\"][9])"
   ]
  },
  {
   "cell_type": "code",
   "execution_count": 87,
   "metadata": {},
   "outputs": [
    {
     "data": {
      "text/plain": [
       "date             Jun-27\n",
       "strike prices       140\n",
       "open                8.7\n",
       "high                9.4\n",
       "low                 6.8\n",
       "LTP                7.55\n",
       "Name: 9, dtype: object"
      ]
     },
     "execution_count": 87,
     "metadata": {},
     "output_type": "execute_result"
    }
   ],
   "source": [
    "d.loc[9]"
   ]
  },
  {
   "cell_type": "code",
   "execution_count": 90,
   "metadata": {},
   "outputs": [
    {
     "data": {
      "text/plain": [
       "0     May-30\n",
       "1     Jun-30\n",
       "2     Jul-30\n",
       "3     Jun-27\n",
       "4     Jul-27\n",
       "5     Aug-27\n",
       "6     May-30\n",
       "7     Jun-30\n",
       "8     Jul-30\n",
       "9     Jun-27\n",
       "10    Jul-27\n",
       "11    Aug-27\n",
       "Name: date, dtype: object"
      ]
     },
     "execution_count": 90,
     "metadata": {},
     "output_type": "execute_result"
    }
   ],
   "source": [
    "\n",
    "d.loc[ :,'date']"
   ]
  },
  {
   "cell_type": "code",
   "execution_count": 91,
   "metadata": {},
   "outputs": [
    {
     "data": {
      "text/plain": [
       "0     140\n",
       "1     150\n",
       "2     160\n",
       "3     140\n",
       "4     150\n",
       "5     160\n",
       "6     140\n",
       "7     150\n",
       "8     160\n",
       "9     140\n",
       "10    150\n",
       "11    160\n",
       "Name: strike prices, dtype: int64"
      ]
     },
     "execution_count": 91,
     "metadata": {},
     "output_type": "execute_result"
    }
   ],
   "source": [
    "\n",
    "d.loc[ :,'strike prices']"
   ]
  },
  {
   "cell_type": "code",
   "execution_count": 97,
   "metadata": {},
   "outputs": [
    {
     "data": {
      "text/plain": [
       "0     15.35\n",
       "1      6.55\n",
       "2      2.10\n",
       "3     21.00\n",
       "4     15.25\n",
       "5     10.70\n",
       "6      1.30\n",
       "7      4.55\n",
       "8     12.00\n",
       "9      9.40\n",
       "10    14.05\n",
       "11    19.70\n",
       "Name: high, dtype: float64"
      ]
     },
     "execution_count": 97,
     "metadata": {},
     "output_type": "execute_result"
    }
   ],
   "source": [
    "d.iloc[:,3]"
   ]
  },
  {
   "cell_type": "code",
   "execution_count": 98,
   "metadata": {},
   "outputs": [
    {
     "data": {
      "text/plain": [
       "150"
      ]
     },
     "execution_count": 98,
     "metadata": {},
     "output_type": "execute_result"
    }
   ],
   "source": [
    "d.iloc[1,1]"
   ]
  },
  {
   "cell_type": "code",
   "execution_count": 116,
   "metadata": {},
   "outputs": [
    {
     "name": "stdout",
     "output_type": "stream",
     "text": [
      "      date  strike prices   open   high    low    LTP\n",
      "0   May-30            140   9.50  15.35   8.55  12.15\n",
      "1   Jun-30            150   2.90   6.55   2.70   3.80\n",
      "2   Jul-30            160   1.10   2.10   0.65   0.80\n",
      "3   Jun-27            140  17.00  21.00  16.80  18.75\n",
      "4   Jul-27            150  12.00  15.25  11.75  13.10\n",
      "5   Aug-27            160   8.15  10.70   7.90   9.05\n",
      "6   May-30            140   1.30   1.30   0.30   0.30\n",
      "7   Jun-30            150   4.55   4.55   1.30   1.45\n",
      "8   Jul-30            160  11.90  12.00   6.75   8.60\n",
      "9   Jun-27            140   8.70   9.40   6.80   7.55\n",
      "10  Jul-27            150  13.50  14.05  10.90  11.90\n",
      "11  Aug-27            160  19.70  19.70  16.25  17.45\n"
     ]
    },
    {
     "data": {
      "text/html": [
       "<div>\n",
       "<style scoped>\n",
       "    .dataframe tbody tr th:only-of-type {\n",
       "        vertical-align: middle;\n",
       "    }\n",
       "\n",
       "    .dataframe tbody tr th {\n",
       "        vertical-align: top;\n",
       "    }\n",
       "\n",
       "    .dataframe thead th {\n",
       "        text-align: right;\n",
       "    }\n",
       "</style>\n",
       "<table border=\"1\" class=\"dataframe\">\n",
       "  <thead>\n",
       "    <tr style=\"text-align: right;\">\n",
       "      <th></th>\n",
       "      <th>open</th>\n",
       "      <th>high</th>\n",
       "      <th>low</th>\n",
       "      <th>LTP</th>\n",
       "    </tr>\n",
       "  </thead>\n",
       "  <tbody>\n",
       "    <tr>\n",
       "      <th>1</th>\n",
       "      <td>2.90</td>\n",
       "      <td>6.55</td>\n",
       "      <td>2.70</td>\n",
       "      <td>3.80</td>\n",
       "    </tr>\n",
       "    <tr>\n",
       "      <th>2</th>\n",
       "      <td>1.10</td>\n",
       "      <td>2.10</td>\n",
       "      <td>0.65</td>\n",
       "      <td>0.80</td>\n",
       "    </tr>\n",
       "    <tr>\n",
       "      <th>5</th>\n",
       "      <td>8.15</td>\n",
       "      <td>10.70</td>\n",
       "      <td>7.90</td>\n",
       "      <td>9.05</td>\n",
       "    </tr>\n",
       "    <tr>\n",
       "      <th>4</th>\n",
       "      <td>12.00</td>\n",
       "      <td>15.25</td>\n",
       "      <td>11.75</td>\n",
       "      <td>13.10</td>\n",
       "    </tr>\n",
       "  </tbody>\n",
       "</table>\n",
       "</div>"
      ],
      "text/plain": [
       "    open   high    low    LTP\n",
       "1   2.90   6.55   2.70   3.80\n",
       "2   1.10   2.10   0.65   0.80\n",
       "5   8.15  10.70   7.90   9.05\n",
       "4  12.00  15.25  11.75  13.10"
      ]
     },
     "execution_count": 116,
     "metadata": {},
     "output_type": "execute_result"
    }
   ],
   "source": [
    "print(d)\n",
    "d.loc[[1,2,5,4],['open','high','low','LTP']]"
   ]
  },
  {
   "cell_type": "code",
   "execution_count": 103,
   "metadata": {},
   "outputs": [
    {
     "name": "stdout",
     "output_type": "stream",
     "text": [
      "      date  strike prices   open   high    low    LTP\n",
      "0   May-30            140   9.50  15.35   8.55  12.15\n",
      "1   Jun-30            150   2.90   6.55   2.70   3.80\n",
      "2   Jul-30            160   1.10   2.10   0.65   0.80\n",
      "3   Jun-27            140  17.00  21.00  16.80  18.75\n",
      "4   Jul-27            150  12.00  15.25  11.75  13.10\n",
      "5   Aug-27            160   8.15  10.70   7.90   9.05\n",
      "6   May-30            140   1.30   1.30   0.30   0.30\n",
      "7   Jun-30            150   4.55   4.55   1.30   1.45\n",
      "8   Jul-30            160  11.90  12.00   6.75   8.60\n",
      "9   Jun-27            140   8.70   9.40   6.80   7.55\n",
      "10  Jul-27            150  13.50  14.05  10.90  11.90\n",
      "11  Aug-27            160  19.70  19.70  16.25  17.45\n"
     ]
    },
    {
     "data": {
      "text/html": [
       "<div>\n",
       "<style scoped>\n",
       "    .dataframe tbody tr th:only-of-type {\n",
       "        vertical-align: middle;\n",
       "    }\n",
       "\n",
       "    .dataframe tbody tr th {\n",
       "        vertical-align: top;\n",
       "    }\n",
       "\n",
       "    .dataframe thead th {\n",
       "        text-align: right;\n",
       "    }\n",
       "</style>\n",
       "<table border=\"1\" class=\"dataframe\">\n",
       "  <thead>\n",
       "    <tr style=\"text-align: right;\">\n",
       "      <th></th>\n",
       "      <th>strike prices</th>\n",
       "      <th>high</th>\n",
       "    </tr>\n",
       "  </thead>\n",
       "  <tbody>\n",
       "    <tr>\n",
       "      <th>3</th>\n",
       "      <td>140</td>\n",
       "      <td>21.00</td>\n",
       "    </tr>\n",
       "    <tr>\n",
       "      <th>1</th>\n",
       "      <td>150</td>\n",
       "      <td>6.55</td>\n",
       "    </tr>\n",
       "  </tbody>\n",
       "</table>\n",
       "</div>"
      ],
      "text/plain": [
       "   strike prices   high\n",
       "3            140  21.00\n",
       "1            150   6.55"
      ]
     },
     "execution_count": 103,
     "metadata": {},
     "output_type": "execute_result"
    }
   ],
   "source": [
    "print(d)\n",
    "d.iloc[[3,1],[1,3]]"
   ]
  },
  {
   "cell_type": "code",
   "execution_count": 122,
   "metadata": {},
   "outputs": [
    {
     "name": "stdout",
     "output_type": "stream",
     "text": [
      "      date  strike prices   open   high    low    LTP\n",
      "0   May-30            140   9.50  15.35   8.55  12.15\n",
      "1   Jun-30            150   2.90   6.55   2.70   3.80\n",
      "2   Jul-30            160   1.10   2.10   0.65   0.80\n",
      "3   Jun-27            140  17.00  21.00  16.80  18.75\n",
      "4   Jul-27            150  12.00  15.25  11.75  13.10\n",
      "5   Aug-27            160   8.15  10.70   7.90   9.05\n",
      "6   May-30            140   1.30   1.30   0.30   0.30\n",
      "7   Jun-30            150   4.55   4.55   1.30   1.45\n",
      "8   Jul-30            160  11.90  12.00   6.75   8.60\n",
      "9   Jun-27            140   8.70   9.40   6.80   7.55\n",
      "10  Jul-27            150  13.50  14.05  10.90  11.90\n",
      "11  Aug-27            160  19.70  19.70  16.25  17.45\n"
     ]
    },
    {
     "data": {
      "text/html": [
       "<div>\n",
       "<style scoped>\n",
       "    .dataframe tbody tr th:only-of-type {\n",
       "        vertical-align: middle;\n",
       "    }\n",
       "\n",
       "    .dataframe tbody tr th {\n",
       "        vertical-align: top;\n",
       "    }\n",
       "\n",
       "    .dataframe thead th {\n",
       "        text-align: right;\n",
       "    }\n",
       "</style>\n",
       "<table border=\"1\" class=\"dataframe\">\n",
       "  <thead>\n",
       "    <tr style=\"text-align: right;\">\n",
       "      <th></th>\n",
       "      <th>date</th>\n",
       "      <th>high</th>\n",
       "    </tr>\n",
       "  </thead>\n",
       "  <tbody>\n",
       "    <tr>\n",
       "      <th>0</th>\n",
       "      <td>May-30</td>\n",
       "      <td>15.35</td>\n",
       "    </tr>\n",
       "    <tr>\n",
       "      <th>1</th>\n",
       "      <td>Jun-30</td>\n",
       "      <td>6.55</td>\n",
       "    </tr>\n",
       "    <tr>\n",
       "      <th>2</th>\n",
       "      <td>Jul-30</td>\n",
       "      <td>2.10</td>\n",
       "    </tr>\n",
       "    <tr>\n",
       "      <th>3</th>\n",
       "      <td>Jun-27</td>\n",
       "      <td>21.00</td>\n",
       "    </tr>\n",
       "    <tr>\n",
       "      <th>4</th>\n",
       "      <td>Jul-27</td>\n",
       "      <td>15.25</td>\n",
       "    </tr>\n",
       "    <tr>\n",
       "      <th>5</th>\n",
       "      <td>Aug-27</td>\n",
       "      <td>10.70</td>\n",
       "    </tr>\n",
       "    <tr>\n",
       "      <th>6</th>\n",
       "      <td>May-30</td>\n",
       "      <td>1.30</td>\n",
       "    </tr>\n",
       "    <tr>\n",
       "      <th>7</th>\n",
       "      <td>Jun-30</td>\n",
       "      <td>4.55</td>\n",
       "    </tr>\n",
       "    <tr>\n",
       "      <th>8</th>\n",
       "      <td>Jul-30</td>\n",
       "      <td>12.00</td>\n",
       "    </tr>\n",
       "    <tr>\n",
       "      <th>9</th>\n",
       "      <td>Jun-27</td>\n",
       "      <td>9.40</td>\n",
       "    </tr>\n",
       "    <tr>\n",
       "      <th>10</th>\n",
       "      <td>Jul-27</td>\n",
       "      <td>14.05</td>\n",
       "    </tr>\n",
       "    <tr>\n",
       "      <th>11</th>\n",
       "      <td>Aug-27</td>\n",
       "      <td>19.70</td>\n",
       "    </tr>\n",
       "  </tbody>\n",
       "</table>\n",
       "</div>"
      ],
      "text/plain": [
       "      date   high\n",
       "0   May-30  15.35\n",
       "1   Jun-30   6.55\n",
       "2   Jul-30   2.10\n",
       "3   Jun-27  21.00\n",
       "4   Jul-27  15.25\n",
       "5   Aug-27  10.70\n",
       "6   May-30   1.30\n",
       "7   Jun-30   4.55\n",
       "8   Jul-30  12.00\n",
       "9   Jun-27   9.40\n",
       "10  Jul-27  14.05\n",
       "11  Aug-27  19.70"
      ]
     },
     "execution_count": 122,
     "metadata": {},
     "output_type": "execute_result"
    }
   ],
   "source": [
    "print(d)\n",
    "d.loc[:,['date','high']]"
   ]
  },
  {
   "cell_type": "code",
   "execution_count": 119,
   "metadata": {},
   "outputs": [
    {
     "name": "stdout",
     "output_type": "stream",
     "text": [
      "      date  strike prices   open   high    low    LTP\n",
      "0   May-30            140   9.50  15.35   8.55  12.15\n",
      "1   Jun-30            150   2.90   6.55   2.70   3.80\n",
      "2   Jul-30            160   1.10   2.10   0.65   0.80\n",
      "3   Jun-27            140  17.00  21.00  16.80  18.75\n",
      "4   Jul-27            150  12.00  15.25  11.75  13.10\n",
      "5   Aug-27            160   8.15  10.70   7.90   9.05\n",
      "6   May-30            140   1.30   1.30   0.30   0.30\n",
      "7   Jun-30            150   4.55   4.55   1.30   1.45\n",
      "8   Jul-30            160  11.90  12.00   6.75   8.60\n",
      "9   Jun-27            140   8.70   9.40   6.80   7.55\n",
      "10  Jul-27            150  13.50  14.05  10.90  11.90\n",
      "11  Aug-27            160  19.70  19.70  16.25  17.45\n"
     ]
    },
    {
     "data": {
      "text/html": [
       "<div>\n",
       "<style scoped>\n",
       "    .dataframe tbody tr th:only-of-type {\n",
       "        vertical-align: middle;\n",
       "    }\n",
       "\n",
       "    .dataframe tbody tr th {\n",
       "        vertical-align: top;\n",
       "    }\n",
       "\n",
       "    .dataframe thead th {\n",
       "        text-align: right;\n",
       "    }\n",
       "</style>\n",
       "<table border=\"1\" class=\"dataframe\">\n",
       "  <thead>\n",
       "    <tr style=\"text-align: right;\">\n",
       "      <th></th>\n",
       "      <th>strike prices</th>\n",
       "      <th>high</th>\n",
       "    </tr>\n",
       "  </thead>\n",
       "  <tbody>\n",
       "    <tr>\n",
       "      <th>0</th>\n",
       "      <td>140</td>\n",
       "      <td>15.35</td>\n",
       "    </tr>\n",
       "    <tr>\n",
       "      <th>1</th>\n",
       "      <td>150</td>\n",
       "      <td>6.55</td>\n",
       "    </tr>\n",
       "    <tr>\n",
       "      <th>2</th>\n",
       "      <td>160</td>\n",
       "      <td>2.10</td>\n",
       "    </tr>\n",
       "    <tr>\n",
       "      <th>3</th>\n",
       "      <td>140</td>\n",
       "      <td>21.00</td>\n",
       "    </tr>\n",
       "    <tr>\n",
       "      <th>4</th>\n",
       "      <td>150</td>\n",
       "      <td>15.25</td>\n",
       "    </tr>\n",
       "    <tr>\n",
       "      <th>5</th>\n",
       "      <td>160</td>\n",
       "      <td>10.70</td>\n",
       "    </tr>\n",
       "    <tr>\n",
       "      <th>6</th>\n",
       "      <td>140</td>\n",
       "      <td>1.30</td>\n",
       "    </tr>\n",
       "    <tr>\n",
       "      <th>7</th>\n",
       "      <td>150</td>\n",
       "      <td>4.55</td>\n",
       "    </tr>\n",
       "    <tr>\n",
       "      <th>8</th>\n",
       "      <td>160</td>\n",
       "      <td>12.00</td>\n",
       "    </tr>\n",
       "    <tr>\n",
       "      <th>9</th>\n",
       "      <td>140</td>\n",
       "      <td>9.40</td>\n",
       "    </tr>\n",
       "    <tr>\n",
       "      <th>10</th>\n",
       "      <td>150</td>\n",
       "      <td>14.05</td>\n",
       "    </tr>\n",
       "    <tr>\n",
       "      <th>11</th>\n",
       "      <td>160</td>\n",
       "      <td>19.70</td>\n",
       "    </tr>\n",
       "  </tbody>\n",
       "</table>\n",
       "</div>"
      ],
      "text/plain": [
       "    strike prices   high\n",
       "0             140  15.35\n",
       "1             150   6.55\n",
       "2             160   2.10\n",
       "3             140  21.00\n",
       "4             150  15.25\n",
       "5             160  10.70\n",
       "6             140   1.30\n",
       "7             150   4.55\n",
       "8             160  12.00\n",
       "9             140   9.40\n",
       "10            150  14.05\n",
       "11            160  19.70"
      ]
     },
     "execution_count": 119,
     "metadata": {},
     "output_type": "execute_result"
    }
   ],
   "source": [
    "print(d)\n",
    "d.iloc[:,[1,3]]"
   ]
  },
  {
   "cell_type": "code",
   "execution_count": 123,
   "metadata": {},
   "outputs": [
    {
     "name": "stdout",
     "output_type": "stream",
     "text": [
      "      date  strike prices   open   high    low    LTP\n",
      "0   May-30            140   9.50  15.35   8.55  12.15\n",
      "1   Jun-30            150   2.90   6.55   2.70   3.80\n",
      "2   Jul-30            160   1.10   2.10   0.65   0.80\n",
      "3   Jun-27            140  17.00  21.00  16.80  18.75\n",
      "4   Jul-27            150  12.00  15.25  11.75  13.10\n",
      "5   Aug-27            160   8.15  10.70   7.90   9.05\n",
      "6   May-30            140   1.30   1.30   0.30   0.30\n",
      "7   Jun-30            150   4.55   4.55   1.30   1.45\n",
      "8   Jul-30            160  11.90  12.00   6.75   8.60\n",
      "9   Jun-27            140   8.70   9.40   6.80   7.55\n",
      "10  Jul-27            150  13.50  14.05  10.90  11.90\n",
      "11  Aug-27            160  19.70  19.70  16.25  17.45\n"
     ]
    },
    {
     "data": {
      "text/html": [
       "<div>\n",
       "<style scoped>\n",
       "    .dataframe tbody tr th:only-of-type {\n",
       "        vertical-align: middle;\n",
       "    }\n",
       "\n",
       "    .dataframe tbody tr th {\n",
       "        vertical-align: top;\n",
       "    }\n",
       "\n",
       "    .dataframe thead th {\n",
       "        text-align: right;\n",
       "    }\n",
       "</style>\n",
       "<table border=\"1\" class=\"dataframe\">\n",
       "  <thead>\n",
       "    <tr style=\"text-align: right;\">\n",
       "      <th></th>\n",
       "      <th>strike prices</th>\n",
       "      <th>open</th>\n",
       "    </tr>\n",
       "  </thead>\n",
       "  <tbody>\n",
       "    <tr>\n",
       "      <th>2</th>\n",
       "      <td>160</td>\n",
       "      <td>1.1</td>\n",
       "    </tr>\n",
       "    <tr>\n",
       "      <th>3</th>\n",
       "      <td>140</td>\n",
       "      <td>17.0</td>\n",
       "    </tr>\n",
       "  </tbody>\n",
       "</table>\n",
       "</div>"
      ],
      "text/plain": [
       "   strike prices  open\n",
       "2            160   1.1\n",
       "3            140  17.0"
      ]
     },
     "execution_count": 123,
     "metadata": {},
     "output_type": "execute_result"
    }
   ],
   "source": [
    "print(d)\n",
    "d.iloc[2:4,1:3]"
   ]
  },
  {
   "cell_type": "code",
   "execution_count": 129,
   "metadata": {},
   "outputs": [
    {
     "name": "stdout",
     "output_type": "stream",
     "text": [
      "      date  strike prices   open   high    low    LTP\n",
      "0   May-30            140   9.50  15.35   8.55  12.15\n",
      "1   Jun-30            150   2.90   6.55   2.70   3.80\n",
      "2   Jul-30            160   1.10   2.10   0.65   0.80\n",
      "3   Jun-27            140  17.00  21.00  16.80  18.75\n",
      "4   Jul-27            150  12.00  15.25  11.75  13.10\n",
      "5   Aug-27            160   8.15  10.70   7.90   9.05\n",
      "6   May-30            140   1.30   1.30   0.30   0.30\n",
      "7   Jun-30            150   4.55   4.55   1.30   1.45\n",
      "8   Jul-30            160  11.90  12.00   6.75   8.60\n",
      "9   Jun-27            140   8.70   9.40   6.80   7.55\n",
      "10  Jul-27            150  13.50  14.05  10.90  11.90\n",
      "11  Aug-27            160  19.70  19.70  16.25  17.45\n"
     ]
    },
    {
     "data": {
      "text/html": [
       "<div>\n",
       "<style scoped>\n",
       "    .dataframe tbody tr th:only-of-type {\n",
       "        vertical-align: middle;\n",
       "    }\n",
       "\n",
       "    .dataframe tbody tr th {\n",
       "        vertical-align: top;\n",
       "    }\n",
       "\n",
       "    .dataframe thead th {\n",
       "        text-align: right;\n",
       "    }\n",
       "</style>\n",
       "<table border=\"1\" class=\"dataframe\">\n",
       "  <thead>\n",
       "    <tr style=\"text-align: right;\">\n",
       "      <th></th>\n",
       "      <th>open</th>\n",
       "      <th>high</th>\n",
       "      <th>low</th>\n",
       "      <th>LTP</th>\n",
       "    </tr>\n",
       "  </thead>\n",
       "  <tbody>\n",
       "    <tr>\n",
       "      <th>5</th>\n",
       "      <td>8.15</td>\n",
       "      <td>10.70</td>\n",
       "      <td>7.90</td>\n",
       "      <td>9.05</td>\n",
       "    </tr>\n",
       "    <tr>\n",
       "      <th>6</th>\n",
       "      <td>1.30</td>\n",
       "      <td>1.30</td>\n",
       "      <td>0.30</td>\n",
       "      <td>0.30</td>\n",
       "    </tr>\n",
       "    <tr>\n",
       "      <th>7</th>\n",
       "      <td>4.55</td>\n",
       "      <td>4.55</td>\n",
       "      <td>1.30</td>\n",
       "      <td>1.45</td>\n",
       "    </tr>\n",
       "    <tr>\n",
       "      <th>8</th>\n",
       "      <td>11.90</td>\n",
       "      <td>12.00</td>\n",
       "      <td>6.75</td>\n",
       "      <td>8.60</td>\n",
       "    </tr>\n",
       "  </tbody>\n",
       "</table>\n",
       "</div>"
      ],
      "text/plain": [
       "    open   high   low   LTP\n",
       "5   8.15  10.70  7.90  9.05\n",
       "6   1.30   1.30  0.30  0.30\n",
       "7   4.55   4.55  1.30  1.45\n",
       "8  11.90  12.00  6.75  8.60"
      ]
     },
     "execution_count": 129,
     "metadata": {},
     "output_type": "execute_result"
    }
   ],
   "source": [
    "print(d)\n",
    "d.loc[5:8,'open':'LTP']"
   ]
  },
  {
   "cell_type": "code",
   "execution_count": 130,
   "metadata": {},
   "outputs": [
    {
     "data": {
      "text/plain": [
       "0      9.50\n",
       "1      2.90\n",
       "2      1.10\n",
       "3     17.00\n",
       "4     12.00\n",
       "5      8.15\n",
       "6      1.30\n",
       "7      4.55\n",
       "8     11.90\n",
       "9      8.70\n",
       "10    13.50\n",
       "11    19.70\n",
       "Name: open, dtype: float64"
      ]
     },
     "execution_count": 130,
     "metadata": {},
     "output_type": "execute_result"
    }
   ],
   "source": [
    "d.loc[:,'open']"
   ]
  },
  {
   "cell_type": "code",
   "execution_count": null,
   "metadata": {},
   "outputs": [],
   "source": [
    "d.loc[:,'open']"
   ]
  },
  {
   "cell_type": "code",
   "execution_count": 133,
   "metadata": {},
   "outputs": [
    {
     "data": {
      "text/plain": [
       "0     140\n",
       "1     150\n",
       "2     160\n",
       "3     140\n",
       "4     150\n",
       "5     160\n",
       "6     140\n",
       "7     150\n",
       "8     160\n",
       "9     140\n",
       "10    150\n",
       "11    160\n",
       "Name: strike prices, dtype: int64"
      ]
     },
     "execution_count": 133,
     "metadata": {},
     "output_type": "execute_result"
    }
   ],
   "source": [
    "d.iloc[:,1]"
   ]
  },
  {
   "cell_type": "code",
   "execution_count": 134,
   "metadata": {},
   "outputs": [
    {
     "data": {
      "text/plain": [
       "0     12.15\n",
       "1      3.80\n",
       "2      0.80\n",
       "3     18.75\n",
       "4     13.10\n",
       "5      9.05\n",
       "6      0.30\n",
       "7      1.45\n",
       "8      8.60\n",
       "9      7.55\n",
       "10    11.90\n",
       "11    17.45\n",
       "Name: LTP, dtype: float64"
      ]
     },
     "execution_count": 134,
     "metadata": {},
     "output_type": "execute_result"
    }
   ],
   "source": [
    "d['LTP']"
   ]
  },
  {
   "cell_type": "code",
   "execution_count": 137,
   "metadata": {},
   "outputs": [
    {
     "data": {
      "text/html": [
       "<div>\n",
       "<style scoped>\n",
       "    .dataframe tbody tr th:only-of-type {\n",
       "        vertical-align: middle;\n",
       "    }\n",
       "\n",
       "    .dataframe tbody tr th {\n",
       "        vertical-align: top;\n",
       "    }\n",
       "\n",
       "    .dataframe thead th {\n",
       "        text-align: right;\n",
       "    }\n",
       "</style>\n",
       "<table border=\"1\" class=\"dataframe\">\n",
       "  <thead>\n",
       "    <tr style=\"text-align: right;\">\n",
       "      <th></th>\n",
       "      <th>high</th>\n",
       "      <th>LTP</th>\n",
       "    </tr>\n",
       "  </thead>\n",
       "  <tbody>\n",
       "    <tr>\n",
       "      <th>0</th>\n",
       "      <td>15.35</td>\n",
       "      <td>12.15</td>\n",
       "    </tr>\n",
       "    <tr>\n",
       "      <th>1</th>\n",
       "      <td>6.55</td>\n",
       "      <td>3.80</td>\n",
       "    </tr>\n",
       "    <tr>\n",
       "      <th>2</th>\n",
       "      <td>2.10</td>\n",
       "      <td>0.80</td>\n",
       "    </tr>\n",
       "    <tr>\n",
       "      <th>3</th>\n",
       "      <td>21.00</td>\n",
       "      <td>18.75</td>\n",
       "    </tr>\n",
       "    <tr>\n",
       "      <th>4</th>\n",
       "      <td>15.25</td>\n",
       "      <td>13.10</td>\n",
       "    </tr>\n",
       "    <tr>\n",
       "      <th>5</th>\n",
       "      <td>10.70</td>\n",
       "      <td>9.05</td>\n",
       "    </tr>\n",
       "    <tr>\n",
       "      <th>6</th>\n",
       "      <td>1.30</td>\n",
       "      <td>0.30</td>\n",
       "    </tr>\n",
       "    <tr>\n",
       "      <th>7</th>\n",
       "      <td>4.55</td>\n",
       "      <td>1.45</td>\n",
       "    </tr>\n",
       "    <tr>\n",
       "      <th>8</th>\n",
       "      <td>12.00</td>\n",
       "      <td>8.60</td>\n",
       "    </tr>\n",
       "    <tr>\n",
       "      <th>9</th>\n",
       "      <td>9.40</td>\n",
       "      <td>7.55</td>\n",
       "    </tr>\n",
       "    <tr>\n",
       "      <th>10</th>\n",
       "      <td>14.05</td>\n",
       "      <td>11.90</td>\n",
       "    </tr>\n",
       "    <tr>\n",
       "      <th>11</th>\n",
       "      <td>19.70</td>\n",
       "      <td>17.45</td>\n",
       "    </tr>\n",
       "  </tbody>\n",
       "</table>\n",
       "</div>"
      ],
      "text/plain": [
       "     high    LTP\n",
       "0   15.35  12.15\n",
       "1    6.55   3.80\n",
       "2    2.10   0.80\n",
       "3   21.00  18.75\n",
       "4   15.25  13.10\n",
       "5   10.70   9.05\n",
       "6    1.30   0.30\n",
       "7    4.55   1.45\n",
       "8   12.00   8.60\n",
       "9    9.40   7.55\n",
       "10  14.05  11.90\n",
       "11  19.70  17.45"
      ]
     },
     "execution_count": 137,
     "metadata": {},
     "output_type": "execute_result"
    }
   ],
   "source": [
    "d[['high','LTP']]"
   ]
  },
  {
   "cell_type": "code",
   "execution_count": null,
   "metadata": {},
   "outputs": [],
   "source": []
  }
 ],
 "metadata": {
  "kernelspec": {
   "display_name": "Python 3",
   "language": "python",
   "name": "python3"
  },
  "language_info": {
   "codemirror_mode": {
    "name": "ipython",
    "version": 3
   },
   "file_extension": ".py",
   "mimetype": "text/x-python",
   "name": "python",
   "nbconvert_exporter": "python",
   "pygments_lexer": "ipython3",
   "version": "3.7.4"
  }
 },
 "nbformat": 4,
 "nbformat_minor": 2
}
