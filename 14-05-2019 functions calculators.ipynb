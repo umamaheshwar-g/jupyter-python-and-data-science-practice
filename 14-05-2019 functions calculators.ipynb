{
 "cells": [
  {
   "cell_type": "code",
   "execution_count": 43,
   "metadata": {},
   "outputs": [
    {
     "name": "stdout",
     "output_type": "stream",
     "text": [
      "0\n"
     ]
    },
    {
     "data": {
      "text/plain": [
       "6"
      ]
     },
     "execution_count": 43,
     "metadata": {},
     "output_type": "execute_result"
    }
   ],
   "source": [
    "r=0\n",
    "def calc1(num1,op,num2):\n",
    "    if op==1:\n",
    "        r=num1+num2\n",
    "    elif op==2:\n",
    "        r=num1-num2\n",
    "    elif op==3:\n",
    "        r=num1*num2\n",
    "    elif op==4:\n",
    "        r=num1%num2\n",
    "        \n",
    "    \n",
    "    return(r)\n",
    "\n",
    "print(r)\n",
    "calc1(1,3,6)\n",
    "\n",
    "\n",
    "    "
   ]
  },
  {
   "cell_type": "code",
   "execution_count": 32,
   "metadata": {},
   "outputs": [
    {
     "name": "stdout",
     "output_type": "stream",
     "text": [
      "0\n",
      "5\n",
      "3\n",
      "20\n"
     ]
    },
    {
     "data": {
      "text/plain": [
       "100"
      ]
     },
     "execution_count": 32,
     "metadata": {},
     "output_type": "execute_result"
    }
   ],
   "source": [
    "r=0\n",
    "def calc2(num1,op,num2):\n",
    "    if op==1:\n",
    "        r=num1+num2\n",
    "    elif op==2:\n",
    "        r=num1-num2\n",
    "    elif op==3:\n",
    "        r=num1*num2\n",
    "    elif op==4:\n",
    "        r=num1%num2\n",
    "        \n",
    "    \n",
    "    return(r)\n",
    "\n",
    "print(r)\n",
    "calc2(input(),input(),input())\n",
    "\n"
   ]
  },
  {
   "cell_type": "code",
   "execution_count": 39,
   "metadata": {},
   "outputs": [
    {
     "name": "stdout",
     "output_type": "stream",
     "text": [
      "0\n",
      "enter your first number 5\n",
      "\"/\"\n",
      "enter your second no 2\n"
     ]
    },
    {
     "data": {
      "text/plain": [
       "2"
      ]
     },
     "execution_count": 39,
     "metadata": {},
     "output_type": "execute_result"
    }
   ],
   "source": [
    "r=0\n",
    "def calc3(num1,op,num2):\n",
    "    if op==\"+\":\n",
    "        r=num1+num2\n",
    "    elif op==\"-\":\n",
    "        r=num1-num2\n",
    "    elif op==\"*\":\n",
    "        r=num1*num2\n",
    "    elif op==\"/\":\n",
    "        r=num1/num2\n",
    "        \n",
    "    \n",
    "    return(r)\n",
    "\n",
    "print(r)\n",
    "calc3(input('enter your first number '),input(),input(\"enter your second no \"))\n",
    "\n"
   ]
  },
  {
   "cell_type": "code",
   "execution_count": 44,
   "metadata": {},
   "outputs": [
    {
     "data": {
      "text/plain": [
       "2"
      ]
     },
     "execution_count": 44,
     "metadata": {},
     "output_type": "execute_result"
    }
   ],
   "source": [
    "calc1(5,2,3)"
   ]
  }
 ],
 "metadata": {
  "kernelspec": {
   "display_name": "Python 2",
   "language": "python",
   "name": "python2"
  },
  "language_info": {
   "codemirror_mode": {
    "name": "ipython",
    "version": 2
   },
   "file_extension": ".py",
   "mimetype": "text/x-python",
   "name": "python",
   "nbconvert_exporter": "python",
   "pygments_lexer": "ipython2",
   "version": "2.7.15"
  }
 },
 "nbformat": 4,
 "nbformat_minor": 2
}
