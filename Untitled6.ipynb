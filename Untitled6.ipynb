{
 "cells": [
  {
   "cell_type": "code",
   "execution_count": 5,
   "metadata": {},
   "outputs": [],
   "source": [
    "import json\n",
    "import pandas as pd\n",
    "import ipywidgets\n",
    "import ipywidgets as w\n",
    "from IPython.display import display"
   ]
  },
  {
   "cell_type": "code",
   "execution_count": 8,
   "metadata": {},
   "outputs": [
    {
     "data": {
      "text/plain": [
       "['EUR_ZAR', 'EUR_PLN', 'AUD_JPY']"
      ]
     },
     "execution_count": 8,
     "metadata": {},
     "output_type": "execute_result"
    }
   ],
   "source": [
    "o=pd.read_csv(\"pairs.csv\")\n",
    "io=[]\n",
    "for i in range(0,69):\n",
    "   io.append( list(o['Instrument Name'])[i].split())\n",
    "instruments=[]\n",
    "for i in range(69):\n",
    "    instruments.append(io[i][0])\n",
    "instruments[0:3]"
   ]
  },
  {
   "cell_type": "code",
   "execution_count": 11,
   "metadata": {},
   "outputs": [],
   "source": [
    "def datafetching(ins,con,gran):\n",
    "    import pandas as pd\n",
    "    import oandapyV20\n",
    "    import oandapyV20.endpoints.instruments as instruments\n",
    "    #client = oandapyV20.API(access_token=\"ae9350a9996c4ef6d9ad3a1bc39e12ed-8c1789ca29b12194796b6bff271831f0\")\n",
    "    client = oandapyV20.API(access_token=\"ae9350a9996c4ef6d9ad3a1bc39e12ed-8c1789ca29b12194796b6bff271831f0\")\n",
    "    params = {\"count\":con,\"granularity\":str(gran)}\n",
    "    r = instruments.InstrumentsCandles(instrument=str(ins),params=params)\n",
    "    client.request(r)\n",
    "    #print r.response\n",
    "    h=r.response\n",
    "\n",
    "    l=[]\n",
    "\n",
    "    for i in range(len(h[\"candles\"])):\n",
    "        k=(h[\"candles\"][i][\"mid\"])\n",
    "        l.append(k.values())\n",
    "        l[i].append(h['candles'][i]['volume'])\n",
    "        l[i].append(h['candles'][i]['time'])\n",
    "        #u=dict(zip(range(len(l)),l))\n",
    "    print ins\n",
    "    return pd.DataFrame(l,columns=[\"Close\",\"high\",\"Low\",\"Open\",\"volume\",\"time\"])"
   ]
  },
  {
   "cell_type": "code",
   "execution_count": 13,
   "metadata": {},
   "outputs": [
    {
     "name": "stdout",
     "output_type": "stream",
     "text": [
      "EUR_USD\n"
     ]
    },
    {
     "data": {
      "text/html": [
       "<div>\n",
       "<style scoped>\n",
       "    .dataframe tbody tr th:only-of-type {\n",
       "        vertical-align: middle;\n",
       "    }\n",
       "\n",
       "    .dataframe tbody tr th {\n",
       "        vertical-align: top;\n",
       "    }\n",
       "\n",
       "    .dataframe thead th {\n",
       "        text-align: right;\n",
       "    }\n",
       "</style>\n",
       "<table border=\"1\" class=\"dataframe\">\n",
       "  <thead>\n",
       "    <tr style=\"text-align: right;\">\n",
       "      <th></th>\n",
       "      <th>Close</th>\n",
       "      <th>high</th>\n",
       "      <th>Low</th>\n",
       "      <th>Open</th>\n",
       "      <th>volume</th>\n",
       "      <th>time</th>\n",
       "    </tr>\n",
       "  </thead>\n",
       "  <tbody>\n",
       "    <tr>\n",
       "      <th>0</th>\n",
       "      <td>1.12108</td>\n",
       "      <td>1.12022</td>\n",
       "      <td>1.11972</td>\n",
       "      <td>1.12099</td>\n",
       "      <td>899</td>\n",
       "      <td>2019-08-08T14:40:00.000000000Z</td>\n",
       "    </tr>\n",
       "    <tr>\n",
       "      <th>1</th>\n",
       "      <td>1.12026</td>\n",
       "      <td>1.11998</td>\n",
       "      <td>1.11932</td>\n",
       "      <td>1.12019</td>\n",
       "      <td>544</td>\n",
       "      <td>2019-08-08T14:50:00.000000000Z</td>\n",
       "    </tr>\n",
       "    <tr>\n",
       "      <th>2</th>\n",
       "      <td>1.12134</td>\n",
       "      <td>1.12110</td>\n",
       "      <td>1.11996</td>\n",
       "      <td>1.12000</td>\n",
       "      <td>469</td>\n",
       "      <td>2019-08-08T15:00:00.000000000Z</td>\n",
       "    </tr>\n",
       "    <tr>\n",
       "      <th>3</th>\n",
       "      <td>1.12198</td>\n",
       "      <td>1.12170</td>\n",
       "      <td>1.12098</td>\n",
       "      <td>1.12108</td>\n",
       "      <td>295</td>\n",
       "      <td>2019-08-08T15:10:00.000000000Z</td>\n",
       "    </tr>\n",
       "    <tr>\n",
       "      <th>4</th>\n",
       "      <td>1.12186</td>\n",
       "      <td>1.12156</td>\n",
       "      <td>1.12146</td>\n",
       "      <td>1.12172</td>\n",
       "      <td>104</td>\n",
       "      <td>2019-08-08T15:20:00.000000000Z</td>\n",
       "    </tr>\n",
       "  </tbody>\n",
       "</table>\n",
       "</div>"
      ],
      "text/plain": [
       "     Close     high      Low     Open  volume                            time\n",
       "0  1.12108  1.12022  1.11972  1.12099     899  2019-08-08T14:40:00.000000000Z\n",
       "1  1.12026  1.11998  1.11932  1.12019     544  2019-08-08T14:50:00.000000000Z\n",
       "2  1.12134  1.12110  1.11996  1.12000     469  2019-08-08T15:00:00.000000000Z\n",
       "3  1.12198  1.12170  1.12098  1.12108     295  2019-08-08T15:10:00.000000000Z\n",
       "4  1.12186  1.12156  1.12146  1.12172     104  2019-08-08T15:20:00.000000000Z"
      ]
     },
     "execution_count": 13,
     "metadata": {},
     "output_type": "execute_result"
    }
   ],
   "source": [
    "p=datafetching(\"EUR_USD\",5,\"M10\")\n",
    "p"
   ]
  }
 ],
 "metadata": {
  "kernelspec": {
   "display_name": "Python 2",
   "language": "python",
   "name": "python2"
  },
  "language_info": {
   "codemirror_mode": {
    "name": "ipython",
    "version": 2
   },
   "file_extension": ".py",
   "mimetype": "text/x-python",
   "name": "python",
   "nbconvert_exporter": "python",
   "pygments_lexer": "ipython2",
   "version": "2.7.15"
  }
 },
 "nbformat": 4,
 "nbformat_minor": 2
}
