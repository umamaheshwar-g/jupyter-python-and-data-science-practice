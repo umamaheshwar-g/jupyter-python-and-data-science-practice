{
 "cells": [
  {
   "cell_type": "markdown",
   "metadata": {},
   "source": []
  },
  {
   "cell_type": "code",
   "execution_count": null,
   "metadata": {},
   "outputs": [],
   "source": [
    "s={2,3,4}\n",
    "t={2,4,10,11}\n",
    "a= s.intersection(t)\n",
    "print(a)"
   ]
  },
  {
   "cell_type": "code",
   "execution_count": 14,
   "metadata": {},
   "outputs": [
    {
     "name": "stdout",
     "output_type": "stream",
     "text": [
      "<type 'set'>\n",
      "<type 'str'>\n",
      "<type 'int'>\n",
      "<type 'float'>\n",
      "<type 'list'>\n",
      "<type 'set'>\n",
      "<type 'set'>\n",
      "<type 'set'>\n"
     ]
    }
   ],
   "source": [
    "u = 'string'\n",
    "v=5\n",
    "w=3.14\n",
    "x=[1,2,3,4,5]\n",
    "y={1:2,3:4,5:5}\n",
    "z=(1,4)\n",
    "s={2,3,4}\n",
    "t={2,4,10,11}\n",
    "\n",
    "print(type(t))\n",
    "print(type(u))\n",
    "print(type(v))\n",
    "print(type(w))\n",
    "print(type(x))\n",
    "print(type(s))\n",
    "print(type(t))\n",
    "print(type(a))\n",
    "\n",
    "\n"
   ]
  },
  {
   "cell_type": "code",
   "execution_count": 13,
   "metadata": {},
   "outputs": [
    {
     "name": "stdout",
     "output_type": "stream",
     "text": [
      "[1, 2, 3, 4]\n"
     ]
    }
   ],
   "source": [
    "s= [1,2,3,4]\n",
    "print(s)"
   ]
  },
  {
   "cell_type": "code",
   "execution_count": 15,
   "metadata": {},
   "outputs": [
    {
     "data": {
      "text/plain": [
       "{2, 3, 4, 20}"
      ]
     },
     "execution_count": 15,
     "metadata": {},
     "output_type": "execute_result"
    }
   ],
   "source": [
    "s.add(20)\n",
    "s"
   ]
  },
  {
   "cell_type": "code",
   "execution_count": 24,
   "metadata": {},
   "outputs": [
    {
     "name": "stdout",
     "output_type": "stream",
     "text": [
      "set([97, 2, 4, 5, 6, 7, 10, 11])\n"
     ]
    }
   ],
   "source": [
    "t.update([2,5],[5,6,7,97])\n",
    "print(t)"
   ]
  },
  {
   "cell_type": "code",
   "execution_count": 35,
   "metadata": {},
   "outputs": [
    {
     "name": "stdout",
     "output_type": "stream",
     "text": [
      "set([1, 2, 4])\n"
     ]
    }
   ],
   "source": [
    "s= {1,2,3,4}\n",
    "s.discard(3)\n",
    "print(s)\n"
   ]
  },
  {
   "cell_type": "code",
   "execution_count": 37,
   "metadata": {},
   "outputs": [
    {
     "name": "stdout",
     "output_type": "stream",
     "text": [
      "set([1, 2, 4])\n"
     ]
    }
   ],
   "source": [
    "s= {1,2,3,4}\n",
    "s.remove(3)\n",
    "s.discard(20)\n",
    "print(s)"
   ]
  },
  {
   "cell_type": "code",
   "execution_count": 43,
   "metadata": {},
   "outputs": [
    {
     "data": {
      "text/plain": [
       "set()"
      ]
     },
     "execution_count": 43,
     "metadata": {},
     "output_type": "execute_result"
    }
   ],
   "source": [
    "p= {1,2,3,4}\n",
    "p.clear() #removes all items\n",
    "p"
   ]
  },
  {
   "cell_type": "code",
   "execution_count": 55,
   "metadata": {},
   "outputs": [
    {
     "data": {
      "text/plain": [
       "False"
      ]
     },
     "execution_count": 55,
     "metadata": {},
     "output_type": "execute_result"
    }
   ],
   "source": [
    "q= {1,2,3,4,20,40,50}\n",
    "s={1,2,3,4,5,23,39}\n",
    "m=q.issubset(s)\n",
    "m"
   ]
  },
  {
   "cell_type": "code",
   "execution_count": 53,
   "metadata": {},
   "outputs": [
    {
     "data": {
      "text/plain": [
       "{1, 2, 3, 4, 5, 20, 23, 39, 40, 50}"
      ]
     },
     "execution_count": 53,
     "metadata": {},
     "output_type": "execute_result"
    }
   ],
   "source": [
    "l=q.union(s)\n",
    "l"
   ]
  },
  {
   "cell_type": "code",
   "execution_count": 60,
   "metadata": {},
   "outputs": [
    {
     "name": "stdout",
     "output_type": "stream",
     "text": [
      "set([1, 2, 3, 4])\n"
     ]
    }
   ],
   "source": [
    "q= {1,2,3,4,20,40,50}\n",
    "s={1,2,3,4,5,23,39}\n",
    "print(q & s)\n"
   ]
  },
  {
   "cell_type": "code",
   "execution_count": 1,
   "metadata": {},
   "outputs": [
    {
     "name": "stdout",
     "output_type": "stream",
     "text": [
      "set([23, 5, 39])\n"
     ]
    }
   ],
   "source": [
    "s={1,2,3,4,5,23,39}\n",
    "q= {1,2,3,4,20,40,50}\n",
    "\n",
    "print(s.difference(q))"
   ]
  },
  {
   "cell_type": "code",
   "execution_count": 62,
   "metadata": {},
   "outputs": [
    {
     "name": "stdout",
     "output_type": "stream",
     "text": [
      "set([5, 39, 40, 20, 23, 50])\n"
     ]
    }
   ],
   "source": [
    "q= {1,2,3,4,20,40,50}\n",
    "s={1,2,3,4,5,23,39}\n",
    "print(s.symmetric_difference(q))\n",
    "\n"
   ]
  },
  {
   "cell_type": "code",
   "execution_count": 70,
   "metadata": {},
   "outputs": [
    {
     "name": "stdout",
     "output_type": "stream",
     "text": [
      "None\n",
      "set([50, 20, 5, 39, 40, 23])\n",
      "False\n",
      "True\n"
     ]
    }
   ],
   "source": [
    "j= {1,2,3,4,20,40,50}\n",
    "k= {1,2,3,4,5,23,39}\n",
    "i= {100,200,300}\n",
    "print(j.difference_update())\n",
    "print(j^k)\n",
    "print(j.isdisjoint(k))\n",
    "print(j.isdisjoint(i))"
   ]
  },
  {
   "cell_type": "code",
   "execution_count": null,
   "metadata": {},
   "outputs": [],
   "source": []
  }
 ],
 "metadata": {
  "kernelspec": {
   "display_name": "Python 2",
   "language": "python",
   "name": "python2"
  },
  "language_info": {
   "codemirror_mode": {
    "name": "ipython",
    "version": 2
   },
   "file_extension": ".py",
   "mimetype": "text/x-python",
   "name": "python",
   "nbconvert_exporter": "python",
   "pygments_lexer": "ipython2",
   "version": "2.7.15"
  }
 },
 "nbformat": 4,
 "nbformat_minor": 2
}
