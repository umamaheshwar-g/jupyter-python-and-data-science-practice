{
 "cells": [
  {
   "cell_type": "markdown",
   "metadata": {},
   "source": [
    "list = [1,2,3,4,5]\n",
    "sets = {1,2,3,4,5}\n",
    "tuples = (1,2,3,4,5)\n",
    "dictionaries = {1:2,2:3,4:4,5:8}\n",
    "print(dictionaries)"
   ]
  },
  {
   "cell_type": "code",
   "execution_count": null,
   "metadata": {},
   "outputs": [],
   "source": [
    "d=dictionaries\n",
    "print(d)\n",
    "d.viewitems()"
   ]
  },
  {
   "cell_type": "code",
   "execution_count": null,
   "metadata": {},
   "outputs": [],
   "source": []
  },
  {
   "cell_type": "code",
   "execution_count": null,
   "metadata": {},
   "outputs": [],
   "source": [
    "lst=['one', 'two','three']\n",
    "lst.insert(2, 'haha')\n",
    "lst.pop(1)\n",
    "lst.reverse()\n",
    "#lst.extend()\n"
   ]
  },
  {
   "cell_type": "code",
   "execution_count": null,
   "metadata": {},
   "outputs": [],
   "source": [
    "lst=['one', 'two','three']\n",
    "lst.insert(2, 'haha')\n",
    "a=lst.pop(1)\n",
    "b=lst.remove(\"one\")\n",
    "print(a)\n",
    "print(b)\n"
   ]
  },
  {
   "cell_type": "code",
   "execution_count": null,
   "metadata": {},
   "outputs": [],
   "source": [
    "lst=['one', 'two','three']\n",
    "if 'four' in lst:\n",
    "    print('yes it is')\n",
    "else :\n",
    "    print('you are doomed!!')"
   ]
  },
  {
   "cell_type": "code",
   "execution_count": 5,
   "metadata": {},
   "outputs": [
    {
     "name": "stdout",
     "output_type": "stream",
     "text": [
      "['one', 'two', 'three', 'four']\n",
      "['one', 'two', 'three', 'four']\n",
      "['two']\n",
      "[]\n",
      "['two', 'three']\n",
      "['one', 'two', 'three', 'four']\n"
     ]
    }
   ],
   "source": [
    "s='one two three four'\n",
    "a = s.split()\n",
    "c= s.split(\" \")\n",
    "print(a)#1\n",
    "print(c)#2\n",
    "print(a[1:2])#3\n",
    "print(a[1:1])#4\n",
    "print(a[1:3])#5\n",
    "print(a[:])#6"
   ]
  },
  {
   "cell_type": "code",
   "execution_count": 6,
   "metadata": {},
   "outputs": [
    {
     "name": "stdout",
     "output_type": "stream",
     "text": [
      "([2], '1')\n",
      "([], '2')\n",
      "([2, 3], '3')\n",
      "([1, 2, 3, 4, 5, 6, 7, 8], '4')\n",
      "([1, 3, 5, 7], '5')\n",
      "([1, 2], '6')\n",
      "([3, 4, 5, 6, 7, 8], '7')\n",
      "([3, 4, 5, 6, 7, 8], '8')\n"
     ]
    }
   ],
   "source": [
    "s=[1,2,3,4,5,6,7,8]\n",
    "print(s[1:2],\"1\")#1 from 1 and less than 2\n",
    "print(s[1:1],'2')#2\n",
    "print(s[1:3],'3')#3\n",
    "print(s[:],'4')#4\n",
    "print(s[::2],'5')#5 alternate\n",
    "print(s[:2],'6')#6\n",
    "print(s[2::],'7')#7 after 2nd exement\n",
    "print(s[2:],'8')#8"
   ]
  },
  {
   "cell_type": "code",
   "execution_count": null,
   "metadata": {},
   "outputs": [],
   "source": [
    "y=[1,2,3,4,5,6,7,8]\n",
    "squares=[i**2 for i in y]\n",
    "print(squares)"
   ]
  },
  {
   "cell_type": "code",
   "execution_count": null,
   "metadata": {},
   "outputs": [],
   "source": [
    "z=[1,2,3,4,5,6,7,8]\n",
    "cubes=[i**3 for i in z if i<4]\n",
    "print(cubes)"
   ]
  },
  {
   "cell_type": "code",
   "execution_count": null,
   "metadata": {},
   "outputs": [],
   "source": []
  },
  {
   "cell_type": "code",
   "execution_count": null,
   "metadata": {},
   "outputs": [],
   "source": []
  },
  {
   "cell_type": "code",
   "execution_count": null,
   "metadata": {},
   "outputs": [],
   "source": [
    "inlst=[[1,2,3,4,5],\n",
    "       [1,2,3,4,5],\n",
    "       [1,2,3,4,5]]\n",
    "outlst=[]\n",
    "for i in range(5):\n",
    "    lst =[]\n",
    "    for row in inlst:\n",
    "        lst.append(row[i])\n",
    "    outlst.append(lst)\n",
    "print(outlst)"
   ]
  },
  {
   "cell_type": "code",
   "execution_count": null,
   "metadata": {},
   "outputs": [],
   "source": [
    "inlst=[[1,2,3,4,5],\n",
    "       [1,2,3,4,5],\n",
    "       [1,2,3,4,5]]\n",
    "outlst=[]\n",
    "for i in range(5):\n",
    "    lst =[]\n",
    "    for row in inlst:\n",
    "        lst.append(row[i])\n",
    "    outlst.append(lst)\n",
    "print(outlst)"
   ]
  },
  {
   "cell_type": "code",
   "execution_count": null,
   "metadata": {},
   "outputs": [],
   "source": [
    "inlst=[[1,2,3,4,5],\n",
    "       [1,2,3,4,5,],\n",
    "       [1,2,3,4,5]]\n",
    "outlst=[]\n",
    "for i in range(5):\n",
    "    lst =[]\n",
    "    for row in inlst:\n",
    "        lst.append(row[i])\n",
    "        print(i)\n",
    "        outlst.append(lst)\n",
    "print(outlst)"
   ]
  },
  {
   "cell_type": "code",
   "execution_count": null,
   "metadata": {},
   "outputs": [],
   "source": [
    "inlst=[[1,2,3,4,5],\n",
    "       [1,2,3,4,5],\n",
    "       [1,2,3,4,5]]\n",
    "outlst=[]\n",
    "for i in range(5):\n",
    "    lst =[]\n",
    "    for row in inlst:\n",
    "        lst.append(row[i])\n",
    "    outlst.append(lst)\n",
    "print(outlst)"
   ]
  },
  {
   "cell_type": "code",
   "execution_count": null,
   "metadata": {},
   "outputs": [],
   "source": []
  },
  {
   "cell_type": "code",
   "execution_count": 3,
   "metadata": {},
   "outputs": [
    {
     "name": "stdout",
     "output_type": "stream",
     "text": [
      "[[1, 1, 1], [2, 2, 2], [3, 3, 3], [4, 4, 4], [5, 5, 5]]\n",
      "[[[1], [1], [1]], [[2], [2], [2]], [[3], [3], [3]], [[4], [4], [4]], [[5], [5], [5]]]\n"
     ]
    }
   ],
   "source": [
    "inlst=[[1,2,3,4,5],\n",
    "       [1,2,3,4,5,],\n",
    "       [1,2,3,4,5]]\n",
    "transposed = [[row[i] for row in inlst] for i in range(5)]\n",
    "trans2 = [[[row[i]] for row in inlst] for i in range(5)]\n",
    "print(transposed)\n",
    "print(trans2)"
   ]
  },
  {
   "cell_type": "code",
   "execution_count": 19,
   "metadata": {},
   "outputs": [
    {
     "name": "stdout",
     "output_type": "stream",
     "text": [
      "{1: 'mahesh', 2: 15}\n"
     ]
    }
   ],
   "source": [
    "my_dict = {}\n",
    "\n",
    "my_dict = {1 : 'mahesh', 2 : 15}\n",
    "lst = [(1,'mahesh'), (2,15)] # (1,'mahesh'), (2,15) are tuples\n",
    "my_dict2 = dict(lst)\n",
    "\n",
    "print (my_dict2)"
   ]
  },
  {
   "cell_type": "code",
   "execution_count": 8,
   "metadata": {},
   "outputs": [
    {
     "name": "stdout",
     "output_type": "stream",
     "text": [
      "['age', 'place', 'name']\n",
      "23\n",
      "{'age': 23, 'place': 'hyderabad', 'name': 'mahesh'}\n"
     ]
    }
   ],
   "source": [
    "print('find the purposes of below methods \\n \\n')\n",
    "a=[1,4,3,2,5]\n",
    "d={'a':1,'b':2,'c':3,'d':4,'e':5}\n",
    "\n",
    "print(dir(a))\n",
    "print(dir(d))\n",
    "d2=d.iterkeys()\n",
    "print(d2.next())\n",
    "print(d2.next())\n"
   ]
  }
 ],
 "metadata": {
  "kernelspec": {
   "display_name": "Python 2",
   "language": "python",
   "name": "python2"
  },
  "language_info": {
   "codemirror_mode": {
    "name": "ipython",
    "version": 2
   },
   "file_extension": ".py",
   "mimetype": "text/x-python",
   "name": "python",
   "nbconvert_exporter": "python",
   "pygments_lexer": "ipython2",
   "version": "2.7.15"
  }
 },
 "nbformat": 4,
 "nbformat_minor": 2
}
