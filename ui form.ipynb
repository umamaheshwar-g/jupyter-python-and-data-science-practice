{
 "cells": [
  {
   "cell_type": "code",
   "execution_count": 3,
   "metadata": {},
   "outputs": [],
   "source": [
    "import ipywidgets as w\n",
    "from IPython.display import display"
   ]
  },
  {
   "cell_type": "code",
   "execution_count": 4,
   "metadata": {},
   "outputs": [],
   "source": [
    "t=w.Text(description='Name',value='')\n",
    "dob=w.DatePicker(description='date of birth')\n",
    "rb=w.RadioButtons(description='gender',options=['male','female'])\n",
    "fn=w.Text(description='fathers name',value='')\n",
    "sch=w.Text(description='school name',value='')\n",
    "add=w.Textarea(description='address',value='')\n",
    "btn=w.Button(description='submit')\n",
    "btn.style.button_color='cyan'\n",
    "h1=w.HTML(value='<h3>  BIO DATA FORM </h3> ')\n",
    "h2=w.HTML(value='<h3>  all fields mandatory </h3> ')\n",
    "\n"
   ]
  },
  {
   "cell_type": "code",
   "execution_count": 27,
   "metadata": {},
   "outputs": [
    {
     "data": {
      "application/vnd.jupyter.widget-view+json": {
       "model_id": "bf863e0c97574cccbf2351bc8ea163e0",
       "version_major": 2,
       "version_minor": 0
      },
      "text/plain": [
       "HTML(value=u'<h3>  BIO DATA FORM </h3> ')"
      ]
     },
     "metadata": {},
     "output_type": "display_data"
    },
    {
     "data": {
      "application/vnd.jupyter.widget-view+json": {
       "model_id": "8a33a212bfab4047ac9f9b962099801c",
       "version_major": 2,
       "version_minor": 0
      },
      "text/plain": [
       "HTML(value=u'<h3>  all fields mandatory </h3> ')"
      ]
     },
     "metadata": {},
     "output_type": "display_data"
    },
    {
     "data": {
      "application/vnd.jupyter.widget-view+json": {
       "model_id": "4a37c8d1b91b480d977601eab09ebb1c",
       "version_major": 2,
       "version_minor": 0
      },
      "text/plain": [
       "Text(value=u'', description=u'Name')"
      ]
     },
     "metadata": {},
     "output_type": "display_data"
    },
    {
     "data": {
      "application/vnd.jupyter.widget-view+json": {
       "model_id": "5ccfa3d6d77f43588e2d6c1bf1db7aba",
       "version_major": 2,
       "version_minor": 0
      },
      "text/plain": [
       "DatePicker(value=None, description=u'date of birth')"
      ]
     },
     "metadata": {},
     "output_type": "display_data"
    },
    {
     "data": {
      "application/vnd.jupyter.widget-view+json": {
       "model_id": "5826f9779e274100bfbc4f6abfd0679e",
       "version_major": 2,
       "version_minor": 0
      },
      "text/plain": [
       "RadioButtons(description=u'gender', options=('male', 'female'), value='male')"
      ]
     },
     "metadata": {},
     "output_type": "display_data"
    },
    {
     "data": {
      "application/vnd.jupyter.widget-view+json": {
       "model_id": "8cf15a88a13940fd8121dae8da4c8511",
       "version_major": 2,
       "version_minor": 0
      },
      "text/plain": [
       "Text(value=u'', description=u'fathers name')"
      ]
     },
     "metadata": {},
     "output_type": "display_data"
    },
    {
     "data": {
      "application/vnd.jupyter.widget-view+json": {
       "model_id": "c16b3a44ecce4020b33d3b1c1b6d6d51",
       "version_major": 2,
       "version_minor": 0
      },
      "text/plain": [
       "Text(value=u'', description=u'school name')"
      ]
     },
     "metadata": {},
     "output_type": "display_data"
    },
    {
     "data": {
      "application/vnd.jupyter.widget-view+json": {
       "model_id": "d1a588e21b3d4786bf2407fa77529694",
       "version_major": 2,
       "version_minor": 0
      },
      "text/plain": [
       "Textarea(value=u'', description=u'address')"
      ]
     },
     "metadata": {},
     "output_type": "display_data"
    },
    {
     "data": {
      "application/vnd.jupyter.widget-view+json": {
       "model_id": "8fff4b5284724450a8051594f208401c",
       "version_major": 2,
       "version_minor": 0
      },
      "text/plain": [
       "Button(description=u'submit', style=ButtonStyle(button_color='cyan'))"
      ]
     },
     "metadata": {},
     "output_type": "display_data"
    },
    {
     "name": "stdout",
     "output_type": "stream",
     "text": [
      "\n"
     ]
    }
   ],
   "source": [
    "display(h1)\n",
    "display(h2)\n",
    "display(t)\n",
    "display(dob)\n",
    "display(rb)\n",
    "display(fn)\n",
    "display(sch)\n",
    "display(add)\n",
    "display(btn)\n",
    "print(t.value)\n",
    "\n"
   ]
  },
  {
   "cell_type": "code",
   "execution_count": 7,
   "metadata": {},
   "outputs": [
    {
     "name": "stdout",
     "output_type": "stream",
     "text": [
      "your details are \n",
      "\n",
      "\n",
      "None\n",
      "male\n",
      "\n",
      "\n",
      "\n"
     ]
    }
   ],
   "source": [
    "print('your details are \\n')\n",
    "print(t.value)\n",
    "print(dob.value)\n",
    "print(rb.value)\n",
    "print(fn.value)\n",
    "print(add.value)\n",
    "print(sch.value)"
   ]
  },
  {
   "cell_type": "code",
   "execution_count": 25,
   "metadata": {},
   "outputs": [
    {
     "data": {
      "application/vnd.jupyter.widget-view+json": {
       "model_id": "ecade5d033bb4d36b800f4494c4ccb61",
       "version_major": 2,
       "version_minor": 0
      },
      "text/plain": [
       "VkJveChib3hfc3R5bGU9dSdzdWNjZXNzJywgY2hpbGRyZW49KFRleHQodmFsdWU9dScnLCBkZXNjcmlwdGlvbj11J05hbWUnKSwgRGF0ZVBpY2tlcih2YWx1ZT1Ob25lLCBkZXNjcmlwdGlvbj3igKY=\n"
      ]
     },
     "metadata": {},
     "output_type": "display_data"
    }
   ],
   "source": [
    "formc = w.VBox(children=[t,dob,rb,fn,add,sch])\n",
    "formc.box_style='success'\n",
    "display(formc)"
   ]
  },
  {
   "cell_type": "markdown",
   "metadata": {},
   "source": []
  },
  {
   "cell_type": "code",
   "execution_count": 18,
   "metadata": {},
   "outputs": [
    {
     "data": {
      "application/vnd.jupyter.widget-view+json": {
       "model_id": "5d3ec295920e4470beebf8c568f112e8",
       "version_major": 2,
       "version_minor": 0
      },
      "text/plain": [
       "Box(box_style=u'success', children=(FloatSlider(value=5.0, max=10.0, min=1.0), Text(value=u'hi')))"
      ]
     },
     "metadata": {},
     "output_type": "display_data"
    }
   ],
   "source": [
    "fr = w.FloatSlider(value=5,max=10,min=1)\n",
    "string = w.Text(value='hi')\n",
    "fr\n",
    "c=w.Box(children=[fr,string])\n",
    "c.box_style='success'\n",
    "display(c)"
   ]
  },
  {
   "cell_type": "code",
   "execution_count": 37,
   "metadata": {},
   "outputs": [
    {
     "data": {
      "application/vnd.jupyter.widget-view+json": {
       "model_id": "f3fdaed7a67d40038c7c5209c07e04bc",
       "version_major": 2,
       "version_minor": 0
      },
      "text/plain": [
       "QWNjb3JkaW9uKGNoaWxkcmVuPShWQm94KGNoaWxkcmVuPShUZXh0KHZhbHVlPXUnJywgZGVzY3JpcHRpb249dSdmcm9tIGxvY2F0aW9uJyksIEJvdW5kZWRJbnRUZXh0KHZhbHVlPTAsIGRlc2PigKY=\n"
      ]
     },
     "metadata": {},
     "output_type": "display_data"
    }
   ],
   "source": [
    "name1 = w.Text(description='from location')\n",
    "zip1 = w.BoundedIntText(description='zip',min=0,max=999999)\n",
    "page1 = w.VBox(children=[name1,zip1])\n",
    "\n",
    "name2 = w.Text(description='to location')\n",
    "zip2 = w.BoundedIntText(description='zip',min=0,max=999999)\n",
    "page2 = w.VBox(children=[name2,zip2])\n",
    "\n",
    "accord = w.Accordion(children=[page1,page2])\n",
    "display(accord)\n",
    "\n",
    "accord.set_title(0,'From')\n",
    "accord.set_title(1,'To')\n",
    "accord.layout.border='success'"
   ]
  },
  {
   "cell_type": "code",
   "execution_count": null,
   "metadata": {},
   "outputs": [],
   "source": []
  }
 ],
 "metadata": {
  "kernelspec": {
   "display_name": "Python 2",
   "language": "python",
   "name": "python2"
  },
  "language_info": {
   "codemirror_mode": {
    "name": "ipython",
    "version": 2
   },
   "file_extension": ".py",
   "mimetype": "text/x-python",
   "name": "python",
   "nbconvert_exporter": "python",
   "pygments_lexer": "ipython2",
   "version": "2.7.15"
  }
 },
 "nbformat": 4,
 "nbformat_minor": 2
}
