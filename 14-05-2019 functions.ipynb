{
 "cells": [
  {
   "cell_type": "code",
   "execution_count": null,
   "metadata": {},
   "outputs": [],
   "source": [
    "numbers = [1,2,3,4]\n",
    "def powerOfTwo(num):\n",
    "    return num**2\n",
    "a = map(powerOfTwo, numbers)\n",
    "print(a)"
   ]
  },
  {
   "cell_type": "code",
   "execution_count": null,
   "metadata": {},
   "outputs": [],
   "source": [
    "products=[[],[],[]]\n",
    "p=products\n",
    "i=input(\"enter no of products\")\n",
    "for t in range(i):\n",
    "    q=t+1\n",
    "    f=input('Enter projuct {} of {} '.format(q,i))\n",
    "    p[0].append(f)\n",
    "    c=input('enter cost of {} '.format(str(f)))\n",
    "    print(p)\n",
    "    p[1].append(c)\n",
    "    q=input('enter quantity of {} '.format(str(f)))\n",
    "    p[2].append(q)\n",
    "a=0\n",
    "for j in range(i):\n",
    "    a+=p[1][j]*p[2][j]\n",
    "    \n",
    "    \n",
    "print(p)\n",
    "print(\"net cost of inventory is {} \".format(a))\n",
    "    \n",
    "    "
   ]
  },
  {
   "cell_type": "code",
   "execution_count": null,
   "metadata": {},
   "outputs": [],
   "source": [
    "class product:\n",
    "    def __init__(s, name, age):\n",
    "        s.name = name\n",
    "        s.age = age\n",
    "    def"
   ]
  },
  {
   "cell_type": "code",
   "execution_count": null,
   "metadata": {},
   "outputs": [],
   "source": []
  },
  {
   "cell_type": "code",
   "execution_count": null,
   "metadata": {},
   "outputs": [],
   "source": [
    "g = lambda x: x*x*x \n",
    "print(g(7)) \n",
    "g(5)"
   ]
  },
  {
   "cell_type": "code",
   "execution_count": null,
   "metadata": {},
   "outputs": [],
   "source": [
    "class Person:\n",
    "    def __init__(mysillyobject, name, age):\n",
    "        mysillyobject.name = input(\"enter your name \")\n",
    "        mysillyobject.age = input(\"enter your age \")\n",
    "    def myfunc(abc):\n",
    "        print(\"Hello my name is \" + abc.name + \", my age is \" + str(abc.age))\n",
    "\n",
    "p1 = Person(\"John\", 36)\n",
    "p1.myfunc()\n"
   ]
  },
  {
   "cell_type": "code",
   "execution_count": null,
   "metadata": {},
   "outputs": [],
   "source": [
    "lst = [1,2,3,4]\n",
    "def multiply(x,y):\n",
    "    return x*y\n",
    "product = reduce(multiply,lst)\n",
    "print(product)"
   ]
  },
  {
   "cell_type": "code",
   "execution_count": null,
   "metadata": {},
   "outputs": [],
   "source": [
    "numbers = [2,3,2]\n",
    "def powerOfTwo(num1,num2):\n",
    "    return num1**num2\n",
    "a = reduce(powerOfTwo, numbers)\n",
    "\n",
    "print(a)"
   ]
  },
  {
   "cell_type": "markdown",
   "metadata": {},
   "source": [
    "class Person:\n",
    "    def __init__(mysillyobject, name, age):\n",
    "        mysillyobject.name = input(\"enter your name \")\n",
    "        mysillyobject.age = input(\"enter your age \")\n",
    "    def myfunc(abc):\n",
    "        print(\"Hello my name is \" + abc.name + \", my age is \" + str(abc.age))\n",
    "\n",
    "p1 = Person(\"John\", 36)\n",
    "p1.myfunc()\n"
   ]
  },
  {
   "cell_type": "code",
   "execution_count": 12,
   "metadata": {},
   "outputs": [
    {
     "name": "stdout",
     "output_type": "stream",
     "text": [
      "\"mahesh\"\n",
      "25\n",
      "Hello my name is mahesh\n",
      "None\n"
     ]
    }
   ],
   "source": [
    "class Person():\n",
    "    def __init__(chintu):\n",
    "        chintu.nam = input()\n",
    "        chintu.ag = input()\n",
    "\n",
    "    def name(self):\n",
    "        print(\"Hello my name is \" + self.nam)\n",
    "    \n",
    "    def age(self):\n",
    "        print(\"Hello my age is\" + self.ag)\n",
    "\n",
    "t = Person()\n",
    "a = t.name()\n",
    "print(a)"
   ]
  },
  {
   "cell_type": "code",
   "execution_count": null,
   "metadata": {},
   "outputs": [],
   "source": [
    "numbers = [1,2,3,4]\n",
    "def powerOfTwo(num):\n",
    "    return num**2\n",
    "a = list(map(powerOfTwo, numbers))\n",
    "print(a)"
   ]
  },
  {
   "cell_type": "code",
   "execution_count": null,
   "metadata": {},
   "outputs": [],
   "source": [
    "numbers = [1,2,3,4]\n",
    "def powerOfTwo(num):\n",
    "    return num**2\n",
    "a = list(map(powerOfTwo, numbers))\n",
    "print(a)"
   ]
  },
  {
   "cell_type": "markdown",
   "metadata": {},
   "source": [
    "hoem work \n",
    "area of: \n",
    "    rectangle \n",
    "    triangle \n",
    "    circle \n",
    "    square"
   ]
  },
  {
   "cell_type": "code",
   "execution_count": null,
   "metadata": {},
   "outputs": [],
   "source": []
  },
  {
   "cell_type": "code",
   "execution_count": null,
   "metadata": {},
   "outputs": [],
   "source": [
    "list=[1,2,3,4]\n",
    "sum(list)"
   ]
  }
 ],
 "metadata": {
  "kernelspec": {
   "display_name": "Python 2",
   "language": "python",
   "name": "python2"
  },
  "language_info": {
   "codemirror_mode": {
    "name": "ipython",
    "version": 2
   },
   "file_extension": ".py",
   "mimetype": "text/x-python",
   "name": "python",
   "nbconvert_exporter": "python",
   "pygments_lexer": "ipython2",
   "version": "2.7.15"
  }
 },
 "nbformat": 4,
 "nbformat_minor": 2
}
