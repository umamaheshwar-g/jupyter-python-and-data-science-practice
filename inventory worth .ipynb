{
 "cells": [
  {
   "cell_type": "code",
   "execution_count": 1,
   "metadata": {},
   "outputs": [
    {
     "name": "stdout",
     "output_type": "stream",
     "text": [
      "net worth is:35 no of iterations 5\n",
      "net worth is:35\n",
      "Hello, world\n",
      "('Hello,', 'World')\n",
      "Hello,World\n",
      "[5, 4, 3, 2, 1]\n"
     ]
    }
   ],
   "source": [
    "quantities=[5,4,3,2,1]\n",
    "prices=[1,2,3,4,5]\n",
    "a=quantities\n",
    "b=prices\n",
    "j=0\n",
    "t=0\n",
    "for z in a:\n",
    "    t = t + a[j]*b[j]\n",
    "    j+=1\n",
    "    \n",
    "print('net worth is:{}'.format(t)+\" no of iterations {}\" .format(j) )\n",
    "\n",
    "    \n",
    "print('net worth is:' + format(t))\n",
    "print ('Hello, world')\n",
    "print ('Hello,', 'World')\n",
    "print ('Hello,'+ 'World')\n",
    "print (a)"
   ]
  },
  {
   "cell_type": "code",
   "execution_count": 1,
   "metadata": {},
   "outputs": [
    {
     "name": "stdout",
     "output_type": "stream",
     "text": [
      "quanity of tomatoes5\n",
      "quanity of aalo4\n",
      "quanity of onion3\n",
      "quanity of apples2\n",
      "quanity of bananaes1\n",
      "price of tomatoes1\n",
      "price of aalo2\n",
      "price of onion3\n",
      "price of apples4\n",
      "price of bananaes5\n",
      "net worth is 35\n",
      "No of iterations is 5\n",
      "net worth is:35\n",
      "net worth is:35\n",
      "Hello,\n",
      " world\n",
      "('Hello,', 'World')\n",
      "Hello,World\n",
      "[5, 4, 3, 2, 1]\n"
     ]
    }
   ],
   "source": [
    "quantities=[input(\"quanity of tomatoes\"),\n",
    "            input(\"quanity of aalo\"),\n",
    "            input(\"quanity of onion\"),\n",
    "            input(\"quanity of apples\"),\n",
    "            input(\"quanity of bananaes\")]\n",
    "prices=[input(\"price of tomatoes\"),\n",
    "        input(\"price of aalo\"),\n",
    "        input(\"price of onion\"),\n",
    "        input(\"price of apples\"),\n",
    "        input(\"price of bananaes\")]\n",
    "a=quantities\n",
    "b=prices\n",
    "j=0\n",
    "t=0\n",
    "for z in a:\n",
    "    t = t + a[j]*b[j]\n",
    "    j+=1\n",
    "    \n",
    "print('net worth is {}\\n'.format(t)+\"No of iterations is {}\" .format(j) )\n",
    "\n",
    "print('net worth is:' + format(t))    \n",
    "print('net worth is:' + str(t))\n",
    "print ('Hello,\\n world')\n",
    "print ('Hello,', 'World')\n",
    "print ('Hello,'+ 'World')\n",
    "print (a)"
   ]
  },
  {
   "cell_type": "code",
   "execution_count": 6,
   "metadata": {},
   "outputs": [
    {
     "name": "stdout",
     "output_type": "stream",
     "text": [
      "enter your name: mahesh\n",
      "enter your friends name: L\n",
      "hii mahesh and L, how are you fellas!!\n"
     ]
    }
   ],
   "source": [
    "name=str(raw_input('enter your name: '))\n",
    "fname=str(raw_input('enter your friends name: '))\n",
    "print 'hii {} and {}, how are you fellas!!'.format(name,fname)"
   ]
  },
  {
   "cell_type": "code",
   "execution_count": null,
   "metadata": {},
   "outputs": [],
   "source": [
    "a=['apple','mango','banana','orance','watermelon']\n",
    "b=[]\n",
    "c=[]\n",
    "p=0\n",
    "z=5\n",
    "y=0\n",
    "while p < z :\n",
    "    m=a[p]\n",
    "    n=input(' quantity of {} is '.format(m))\n",
    "    b.append(n)\n",
    "    o=input('cost of {} is '.format(m))\n",
    "    c.append(o)\n",
    "    y = y + b[p]*c[p]\n",
    "    p+=1\n",
    "    print('net worth is {}\\n'.format(y)+\"No of iterations is {}\" .format(p) )\n",
    "\n",
    "    \n",
    "print('net worth is {}\\n'.format(y)+\"No of iterations is {}\" .format(p) )\n",
    "\n",
    "    "
   ]
  },
  {
   "cell_type": "code",
   "execution_count": null,
   "metadata": {},
   "outputs": [],
   "source": []
  }
 ],
 "metadata": {
  "kernelspec": {
   "display_name": "Python 2",
   "language": "python",
   "name": "python2"
  },
  "language_info": {
   "codemirror_mode": {
    "name": "ipython",
    "version": 2
   },
   "file_extension": ".py",
   "mimetype": "text/x-python",
   "name": "python",
   "nbconvert_exporter": "python",
   "pygments_lexer": "ipython2",
   "version": "2.7.15"
  }
 },
 "nbformat": 4,
 "nbformat_minor": 2
}
