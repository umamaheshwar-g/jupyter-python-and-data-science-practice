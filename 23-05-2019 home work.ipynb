{
 "cells": [
  {
   "cell_type": "markdown",
   "metadata": {},
   "source": [
    "keys in dictionaries\n",
    "\n",
    "my_dict = {'name' : 'mahesh', 'age' : 23, 'place': 'hyderabad'} #dictionaries\n"
   ]
  },
  {
   "cell_type": "code",
   "execution_count": 9,
   "metadata": {},
   "outputs": [],
   "source": [
    "my_dict = {'name' : 'mahesh', 'age' : 23, 'place': 'hyderabad'}\n",
    "a=my_dict"
   ]
  },
  {
   "cell_type": "code",
   "execution_count": 7,
   "metadata": {},
   "outputs": [
    {
     "name": "stdout",
     "output_type": "stream",
     "text": [
      "roses are red \n",
      " \"violets are blue\" \n",
      " \"i have 5 fingers\" \n",
      " and middle one is not!! for you\n",
      "['roses are red ', ' \"violets are blue\" ', ' \"i have 5 fingers\" ', ' and middle one is not!! for you']\n"
     ]
    }
   ],
   "source": [
    "a = 'roses are red \\n \"violets are blue\" \\n \"i have 5 fingers\" \\n and middle one is not!! for you'\n",
    "print a\n",
    "b= a.split(\"\\n\")\n",
    "print b\n"
   ]
  }
 ],
 "metadata": {
  "kernelspec": {
   "display_name": "Python 2",
   "language": "python",
   "name": "python2"
  },
  "language_info": {
   "codemirror_mode": {
    "name": "ipython",
    "version": 2
   },
   "file_extension": ".py",
   "mimetype": "text/x-python",
   "name": "python",
   "nbconvert_exporter": "python",
   "pygments_lexer": "ipython2",
   "version": "2.7.15"
  }
 },
 "nbformat": 4,
 "nbformat_minor": 2
}
