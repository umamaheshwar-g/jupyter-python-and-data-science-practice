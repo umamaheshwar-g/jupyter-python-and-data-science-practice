{
 "cells": [
  {
   "cell_type": "code",
   "execution_count": 1,
   "metadata": {},
   "outputs": [],
   "source": [
    "import ipywidgets as w\n"
   ]
  },
  {
   "cell_type": "code",
   "execution_count": 4,
   "metadata": {},
   "outputs": [
    {
     "data": {
      "application/vnd.jupyter.widget-view+json": {
       "model_id": "abee65542fc444e5ad16d6170cc60672",
       "version_major": 2,
       "version_minor": 0
      },
      "text/plain": [
       "QWNjb3JkaW9uKGNoaWxkcmVuPShWQm94KGNoaWxkcmVuPShUZXh0KHZhbHVlPXUnJywgZGVzY3JpcHRpb249dSdmcm9tIGxvY2F0aW9uJyksIEJvdW5kZWRJbnRUZXh0KHZhbHVlPTAsIGRlc2PigKY=\n"
      ]
     },
     "metadata": {},
     "output_type": "display_data"
    }
   ],
   "source": [
    "name1 = w.Text(description='from location')\n",
    "zip1 = w.BoundedIntText(description='zip',min=0,max=999999)\n",
    "page1 = w.VBox(children=[name1,zip1])\n",
    "\n",
    "name2 = w.Text(description='to location')\n",
    "zip2 = w.BoundedIntText(description='zip',min=0,max=999999)\n",
    "page2 = w.VBox(children=[name2,zip2])\n",
    "\n",
    "accord = w.Accordion(children=[page1,page2])\n",
    "display(accord)\n",
    "\n",
    "accord.set_title(0,'From')\n",
    "accord.set_title(1,'To')\n",
    "accord.layout.border='success'"
   ]
  },
  {
   "cell_type": "code",
   "execution_count": 17,
   "metadata": {},
   "outputs": [
    {
     "data": {
      "application/vnd.jupyter.widget-view+json": {
       "model_id": "5747382ea0f74922b5042fb1c56d3fe8",
       "version_major": 2,
       "version_minor": 0
      },
      "text/plain": [
       "VGFiKGNoaWxkcmVuPShWQm94KGNoaWxkcmVuPShUZXh0KHZhbHVlPXUnJywgZGVzY3JpcHRpb249dSduYW1lJyksIERyb3Bkb3duKGRlc2NyaXB0aW9uPXUnY29sb3InLCBvcHRpb25zPSgncmXigKY=\n"
      ]
     },
     "metadata": {},
     "output_type": "display_data"
    },
    {
     "data": {
      "application/vnd.jupyter.widget-view+json": {
       "model_id": "ba08d9cd380e4ff5befc97dfe09691e9",
       "version_major": 2,
       "version_minor": 0
      },
      "text/plain": [
       "Button(description=u'submit', style=ButtonStyle(button_color='yellow'))"
      ]
     },
     "metadata": {},
     "output_type": "display_data"
    },
    {
     "data": {
      "application/vnd.jupyter.widget-view+json": {
       "model_id": "54d3db5880814487a224508026193a96",
       "version_major": 2,
       "version_minor": 0
      },
      "text/plain": [
       "interactive(children=(Output(),), _dom_classes=(u'widget-interact',))"
      ]
     },
     "metadata": {},
     "output_type": "display_data"
    },
    {
     "data": {
      "application/vnd.jupyter.widget-view+json": {
       "model_id": "0057824fdb3f40c2b5fc0b642d5bc4d0",
       "version_major": 2,
       "version_minor": 0
      },
      "text/plain": [
       "interactive(children=(Output(),), _dom_classes=(u'widget-interact',))"
      ]
     },
     "metadata": {},
     "output_type": "display_data"
    }
   ],
   "source": [
    "name = w.Text(description='name',padding=4)\n",
    "color = w.Dropdown(description='color', padding=4, options=['red','orange','yellow','green'])\n",
    "page1 = w.VBox(children=[name, color])\n",
    "\n",
    "age=w.IntSlider(description='age',padding=4,min=0,max=120,value=21)\n",
    "gender=w.RadioButtons(description='gender',options=['male','female'])\n",
    "page2 = w.VBox(children=[age,gender])\n",
    "\n",
    "tabs= w.Tab(children=[page1,page2])\n",
    "display(tabs)\n",
    "\n",
    "tabs.set_title(0,'name')\n",
    "tabs.set_title(1,'details')\n",
    "\n",
    "\n",
    "pri=0\n",
    "def g():\n",
    "    global pri\n",
    "    pri=pri+1\n",
    "    print(str(pri)+'. name :' +name.value)\n",
    "    print('age :'+str(age.value))\n",
    "    print('color :'+str(color.value))\n",
    "    print('gender :'+str(gender.value))\n",
    "\n",
    "btn = w.Button(description='submit')\n",
    "btn.style.button_color='yellow'\n",
    "display(btn)\n",
    "def u(self):\n",
    "    w.interact(g)\n",
    "btn.on_click(u)"
   ]
  },
  {
   "cell_type": "code",
   "execution_count": 19,
   "metadata": {},
   "outputs": [
    {
     "ename": "AttributeError",
     "evalue": "'VBox' object has no attribute 'value'",
     "output_type": "error",
     "traceback": [
      "\u001b[1;31m---------------------------------------------------------------------------\u001b[0m",
      "\u001b[1;31mAttributeError\u001b[0m                            Traceback (most recent call last)",
      "\u001b[1;32m<ipython-input-19-4e7e87b9f4ee>\u001b[0m in \u001b[0;36m<module>\u001b[1;34m()\u001b[0m\n\u001b[1;32m----> 1\u001b[1;33m \u001b[0mpage2\u001b[0m\u001b[1;33m.\u001b[0m\u001b[0mvalue\u001b[0m\u001b[1;33m\u001b[0m\u001b[0m\n\u001b[0m",
      "\u001b[1;31mAttributeError\u001b[0m: 'VBox' object has no attribute 'value'"
     ]
    }
   ],
   "source": []
  }
 ],
 "metadata": {
  "kernelspec": {
   "display_name": "Python 2",
   "language": "python",
   "name": "python2"
  },
  "language_info": {
   "codemirror_mode": {
    "name": "ipython",
    "version": 2
   },
   "file_extension": ".py",
   "mimetype": "text/x-python",
   "name": "python",
   "nbconvert_exporter": "python",
   "pygments_lexer": "ipython2",
   "version": "2.7.15"
  }
 },
 "nbformat": 4,
 "nbformat_minor": 2
}
