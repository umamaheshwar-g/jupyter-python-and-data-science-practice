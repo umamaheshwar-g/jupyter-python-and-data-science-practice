{
 "cells": [
  {
   "cell_type": "code",
   "execution_count": 1,
   "metadata": {},
   "outputs": [],
   "source": [
    "import nsepy as nse\n",
    "import matplotlib.pyplot as plt\n",
    "from datetime import date\n",
    "import pandas as pd\n",
    "import numpy as np\n",
    "import ta\n",
    "from ta import *\n",
    "import ipywidgets as w\n"
   ]
  },
  {
   "cell_type": "markdown",
   "metadata": {},
   "source": [
    "tick=str(raw_input('name of stock :')).upper()\n",
    "STD=date(2018,1,1)\n",
    "END=date(2019,5,15)\n",
    "d=nse.get_history(str(tick),STD,END)\n",
    "dt=pd.DataFrame(d)\n",
    "\n",
    "p=dt.Close\n",
    "p.head()\n",
    "\n",
    "plt.figure(figsize=(12,4))\n",
    "plt.xlabel('time')\n",
    "plt.ylabel('price')\n",
    "\n",
    "p.plot(color='blue')\n",
    "plt.legend()\n",
    "plt.title('stock: {}'.format(tick))\n",
    "plt.grid()\n",
    "plt.show()"
   ]
  },
  {
   "cell_type": "markdown",
   "metadata": {},
   "source": [
    "rsi=ta.rsi(p)"
   ]
  },
  {
   "cell_type": "code",
   "execution_count": 2,
   "metadata": {},
   "outputs": [],
   "source": [
    "def bt(si,vi):\n",
    "    buyprice=0.0\n",
    "    sellprice=0.0\n",
    "    cash=1\n",
    "    stock=0\n",
    "    #sma=200\n",
    "    mawealth=1.0\n",
    "\n",
    "    buy_data=[]\n",
    "\n",
    "    sell_data=[]\n",
    "\n",
    "    trade_price=[]\n",
    "\n",
    "    wealth=[]\n",
    "\n",
    "    used=pd.DataFrame(nse.get_history(f.value,s.value,e.value).Close)\n",
    "    \n",
    "    rsi = pd.DataFrame(ta.rsi(nse.get_history(f.value,s.value,e.value).Close))\n",
    "    j=pd.merge(left=rsi,right=used,on=used.index)\n",
    "\n",
    "    #MA = used.rolling(window=sma, center=False).mean()\n",
    "\n",
    "    N = int(j[\"Close\"].count())\n",
    "    \n",
    "    \n",
    "    \n",
    "    \n",
    "    for x in range (N):\n",
    "        if  j[\"rsi\"][x]  <= si  and  cash==1:\n",
    "            buyprice=j[\"Close\"][x+1]\n",
    "\n",
    "            buy_data.append(buyprice)\n",
    "            trade_price.append(buyprice)\n",
    "            cash=0.0\n",
    "            stock=1\n",
    "        elif j[\"rsi\"][x] >= vi and stock==1:\n",
    "\n",
    "            sellprice = j[\"Close\"][x+1]\n",
    "\n",
    "            sell_data.append(sellprice)\n",
    "            trade_price.append(sellprice)\n",
    "            stock = 0\n",
    "            cash = 1\n",
    "            mawealth = mawealth*(sellprice/buyprice)\n",
    "            wealth.append(mawealth)\n",
    "\n",
    "    wi=pd.DataFrame(wealth)\n",
    "    wealth\n",
    "        \n",
    "        \n",
    "        \n",
    "        \n",
    "    plt.plot(wi,\"r--\")\n",
    "    plt.ylabel(\"wealth\")\n",
    "    plt.xlabel(\"Transaction\")\n",
    "    plt.title(\"Profit from startegy for : {}\".format(f.value))\n",
    "    plt.grid()\n",
    "    print(\"End Capital:\"+str(wealth[-1]))\n",
    "    print(\"Max drawdown :\"+str(pd.Series(wealth).min()))\n",
    "    print(\"No of positions closed :\"+str(len(trade_price)/2))\n",
    "\n",
    "\n",
    "\n",
    "\n",
    "\n"
   ]
  },
  {
   "cell_type": "code",
   "execution_count": null,
   "metadata": {},
   "outputs": [],
   "source": []
  },
  {
   "cell_type": "code",
   "execution_count": 3,
   "metadata": {
    "scrolled": false
   },
   "outputs": [
    {
     "data": {
      "application/vnd.jupyter.widget-view+json": {
       "model_id": "47e1801f54074632a950aafcaf01f4b8",
       "version_major": 2,
       "version_minor": 0
      },
      "text/plain": [
       "SEJveChjaGlsZHJlbj0oRHJvcGRvd24oZGVzY3JpcHRpb249dSdTdG9jazonLCBvcHRpb25zPSgnM01JTkRJQScsICdBQkInLCAnQUNDJywgJ0FJQUVORycsICdBUExBUE9MTE8nLCAnQVVCQU7igKY=\n"
      ]
     },
     "metadata": {},
     "output_type": "display_data"
    }
   ],
   "source": [
    "try:\n",
    "    \n",
    "    button = w.Button(description='Submit')\n",
    "    \n",
    "    f=w.Dropdown(options=list(pd.read_csv(\"ind_nifty500list.csv\").Symbol),description=\"Stock:\")\n",
    "    s=w.DatePicker(description=\"Start date:\")\n",
    "    e=w.DatePicker(description=\"End date:\")\n",
    "    button.style.button_colo=\"lightgreen\"\n",
    "    page=w.HBox([f,s,e,button])\n",
    "    display(page)\n",
    "    def u():\n",
    "        plt.figure(1,figsize=(20,10))\n",
    "        plt.subplot(211)\n",
    "        plt.plot(nse.get_history(f.value,s.value,e.value).Close)\n",
    "        \n",
    "        plt.title(\"{}\".format(f.value))\n",
    "        plt.show()\n",
    "        \n",
    "    def i(self):\n",
    "        w.interact(u)\n",
    "        w.interact(rsi,i=w.IntSlider(min=10,max=50,value=30,continuous_update=False,description=\"Overselling\"),j=w.IntSlider(min=60,max=100,value=70,continuous_update=False,description=\"overBuying\"))\n",
    "        w.interact(bt,si=w.IntSlider(min=10,max=50,value=30,description=\"Buying rsi\"),vi=w.IntSlider(min=50,max=95,value=70,description=\"Selling rsi\"))\n",
    "    def rsi(i,j):\n",
    "        plt.figure(2,figsize=(20,5))\n",
    "        plt.plot(ta.rsi(nse.get_history(f.value,s.value,e.value).Close))\n",
    "        plt.axhline(y=i,color='green')\n",
    "        plt.axhline(y=j,color=\"red\")\n",
    "        plt.ylim((0,100))\n",
    "        plt.title(\"{} rsi\".format(f.value))\n",
    "        plt.show()\n",
    "            \n",
    "    button.on_click(i)\n",
    "except:\n",
    "    pass\n",
    "    \n",
    "            "
   ]
  },
  {
   "cell_type": "code",
   "execution_count": null,
   "metadata": {},
   "outputs": [],
   "source": []
  }
 ],
 "metadata": {
  "kernelspec": {
   "display_name": "Python 2",
   "language": "python",
   "name": "python2"
  },
  "language_info": {
   "codemirror_mode": {
    "name": "ipython",
    "version": 2
   },
   "file_extension": ".py",
   "mimetype": "text/x-python",
   "name": "python",
   "nbconvert_exporter": "python",
   "pygments_lexer": "ipython2",
   "version": "2.7.15"
  }
 },
 "nbformat": 4,
 "nbformat_minor": 2
}
