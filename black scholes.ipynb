{
 "cells": [
  {
   "cell_type": "code",
   "execution_count": 2,
   "metadata": {},
   "outputs": [],
   "source": [
    "def bsm():\n",
    "#import sympy as sm\n",
    "    from math import log,sqrt,exp\n",
    "    from scipy import stats\n",
    "    \n",
    "    s=float(raw_input(\"initial stock value: \"))\n",
    "    k=float(raw_input(\"strike price: \"))\n",
    "    y=float(raw_input(\"days to maturity: \"))\n",
    "    r=float(raw_input(\"constant risk free rate: \"))/100\n",
    "    sigma=float(raw_input(\"volatility factor: \"))/100\n",
    "    "
   ]
  },
  {
   "cell_type": "code",
   "execution_count": null,
   "metadata": {},
   "outputs": [],
   "source": []
  }
 ],
 "metadata": {
  "kernelspec": {
   "display_name": "Python 3",
   "language": "python",
   "name": "python3"
  },
  "language_info": {
   "codemirror_mode": {
    "name": "ipython",
    "version": 3
   },
   "file_extension": ".py",
   "mimetype": "text/x-python",
   "name": "python",
   "nbconvert_exporter": "python",
   "pygments_lexer": "ipython3",
   "version": "3.7.4"
  }
 },
 "nbformat": 4,
 "nbformat_minor": 2
}
