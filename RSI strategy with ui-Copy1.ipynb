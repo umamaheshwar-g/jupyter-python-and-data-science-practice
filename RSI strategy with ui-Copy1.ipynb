{
 "cells": [
  {
   "cell_type": "markdown",
   "metadata": {},
   "source": [
    "long when closing price is > 70 RSA\n",
    "short when closing price is < 30 RSA"
   ]
  },
  {
   "cell_type": "code",
   "execution_count": 6,
   "metadata": {},
   "outputs": [],
   "source": [
    "import nsepy as nse\n",
    "import matplotlib.pyplot as plt\n",
    "from datetime import date\n",
    "import pandas as pd\n",
    "import numpy as np\n",
    "import ta\n",
    "from ta import *\n",
    "import ipywidgets as wid\n"
   ]
  },
  {
   "cell_type": "markdown",
   "metadata": {},
   "source": [
    "template to bring data from nse"
   ]
  },
  {
   "cell_type": "code",
   "execution_count": 7,
   "metadata": {},
   "outputs": [],
   "source": [
    "t=pd.read_csv(\"ind_nifty500list.csv\")\n",
    "a= pd.DataFrame(t['Symbol'])\n",
    "b=a.Symbol.to_list()\n",
    "\n",
    "ddd= wid.Dropdown(options=b,value='ITC',description='select a stock')\n",
    "date1=wid.DatePicker(description='start date')\n",
    "date2 =wid.DatePicker(description='end date')\n",
    "btn=wid.Button(description='submit')\n",
    "btn.style.button_color='cyan'\n",
    "page1 = wid.HBox(children=[ddd,date1,date2,btn])\n",
    "\n",
    "\n",
    "rsibuy=wid.IntSlider(description='buying rsi',min=0,max=100,value=30)\n",
    "rsisell=wid.IntSlider(description='buying rsi',min=0,max=100,value=70)\n",
    "btn2=wid.Button(description='submit')\n",
    "page2 = wid.HBox(children=[rsibuy,rsisell,btn2])\n",
    "\n",
    "\n",
    "\n",
    "\n",
    "\n",
    "#display(ddd)"
   ]
  },
  {
   "cell_type": "markdown",
   "metadata": {},
   "source": []
  },
  {
   "cell_type": "code",
   "execution_count": 13,
   "metadata": {
    "scrolled": true
   },
   "outputs": [
    {
     "data": {
      "application/vnd.jupyter.widget-view+json": {
       "model_id": "a3f4add2d6544b8abbdb439495c3be86",
       "version_major": 2,
       "version_minor": 0
      },
      "text/plain": [
       "SEJveChjaGlsZHJlbj0oRHJvcGRvd24oZGVzY3JpcHRpb249dSdzZWxlY3QgYSBzdG9jaycsIGluZGV4PTIxNSwgb3B0aW9ucz0oJzNNSU5ESUEnLCAnQUJCJywgJ0FDQycsICdBSUFFTkcnLCDigKY=\n"
      ]
     },
     "metadata": {},
     "output_type": "display_data"
    },
    {
     "data": {
      "application/vnd.jupyter.widget-view+json": {
       "model_id": "b434e788b643474d915322abd3e7c566",
       "version_major": 2,
       "version_minor": 0
      },
      "text/plain": [
       "interactive(children=(Output(),), _dom_classes=(u'widget-interact',))"
      ]
     },
     "metadata": {},
     "output_type": "display_data"
    },
    {
     "ename": "TypeError",
     "evalue": "i() takes no arguments (1 given)",
     "output_type": "error",
     "traceback": [
      "\u001b[1;31m---------------------------------------------------------------------------\u001b[0m",
      "\u001b[1;31mTypeError\u001b[0m                                 Traceback (most recent call last)",
      "\u001b[1;31mTypeError\u001b[0m: i() takes no arguments (1 given)"
     ]
    },
    {
     "data": {
      "application/vnd.jupyter.widget-view+json": {
       "model_id": "3fd20a8c3a614a1bbc152c08063fbc20",
       "version_major": 2,
       "version_minor": 0
      },
      "text/plain": [
       "interactive(children=(Output(),), _dom_classes=(u'widget-interact',))"
      ]
     },
     "metadata": {},
     "output_type": "display_data"
    },
    {
     "data": {
      "application/vnd.jupyter.widget-view+json": {
       "model_id": "3d51438889904deca52ed4cbd11b64b2",
       "version_major": 2,
       "version_minor": 0
      },
      "text/plain": [
       "interactive(children=(Output(),), _dom_classes=(u'widget-interact',))"
      ]
     },
     "metadata": {},
     "output_type": "display_data"
    }
   ],
   "source": [
    "#display(page1)\n",
    "#tick=ddd.value\n",
    "\n",
    "#display(tick=ddd.value)\n",
    "def s():\n",
    "    \n",
    "    tick=ddd.value\n",
    "    STD=date1.value\n",
    "    END=date2.value\n",
    "    d=nse.get_history(str(tick),STD,END)\n",
    "    dt=pd.DataFrame(d)\n",
    "\n",
    "    p=dt.Close\n",
    "    p.head()\n",
    "    rsi=ta.rsi(p)\n",
    "    plt.figure(figsize=(12,4))\n",
    "    plt.xlabel('time')\n",
    "    plt.ylabel('price')\n",
    "\n",
    "    p.plot(color='blue')\n",
    "    plt.legend()\n",
    "    plt.title('stock: {}'.format(tick))\n",
    "    plt.grid()\n",
    "    plt.show()\n",
    "    \n",
    "def i(self):\n",
    "    wid.interact(s)\n",
    "\n",
    "\n",
    "display(page1)\n",
    "btn.on_click(i)\n"
   ]
  },
  {
   "cell_type": "code",
   "execution_count": null,
   "metadata": {},
   "outputs": [],
   "source": []
  },
  {
   "cell_type": "code",
   "execution_count": 5,
   "metadata": {
    "scrolled": true
   },
   "outputs": [
    {
     "data": {
      "application/vnd.jupyter.widget-view+json": {
       "model_id": "650256e76a904c85a8d8fd167b19b5db",
       "version_major": 2,
       "version_minor": 0
      },
      "text/plain": [
       "SEJveChjaGlsZHJlbj0oSW50U2xpZGVyKHZhbHVlPTMwLCBkZXNjcmlwdGlvbj11J2J1eWluZyByc2knKSwgSW50U2xpZGVyKHZhbHVlPTcwLCBkZXNjcmlwdGlvbj11J2J1eWluZyByc2knKSzigKY=\n"
      ]
     },
     "metadata": {},
     "output_type": "display_data"
    },
    {
     "data": {
      "application/vnd.jupyter.widget-view+json": {
       "model_id": "90d4f5c50886402885b013e21931950a",
       "version_major": 2,
       "version_minor": 0
      },
      "text/plain": [
       "interactive(children=(Output(),), _dom_classes=(u'widget-interact',))"
      ]
     },
     "metadata": {},
     "output_type": "display_data"
    }
   ],
   "source": [
    "def wel():\n",
    "    buyprice=0.0\n",
    "    sellprice=0.0\n",
    "    cash =1\n",
    "    stock =0\n",
    "    #sma=200\n",
    "    mawealth =1.0\n",
    "\n",
    "    buy_data=[]\n",
    "    sell_data=[]\n",
    "    trade_price=[]\n",
    "    wealth=[]\n",
    "    used=dt.Close\n",
    "\n",
    "    #MA=used.rolling(window=sma,center=False).mean()\n",
    "    N=len(used)\n",
    "    #used=pd.DataFrame(nse.get_history(f.value,s.value,e.value).Close)\n",
    "    #rsi=pd.DataFrame(ta.ta.rsi(np.get_history(f.value,s.value,e.value).Close)\n",
    "    #N= int(j['Close'].count())\n",
    "\n",
    "    l=rsibuy.value\n",
    "    m=rsisell.value\n",
    "    for x in range(15,N):\n",
    "        if rsi[x]< l and cash==1:\n",
    "            buyprice=used[x]\n",
    "\n",
    "            buy_data.append(buyprice)\n",
    "            trade_price.append(buyprice)\n",
    "            cash=0.0\n",
    "            stock = 1\n",
    "        elif rsi[x] > m and stock ==1:\n",
    "            sellprice=used[x]\n",
    "\n",
    "            sell_data.append(sellprice)\n",
    "            trade_price.append(sellprice)\n",
    "            stock = 0\n",
    "            cash=1\n",
    "            mawealth = mawealth*(sellprice/buyprice)\n",
    "            wealth.append(mawealth)\n",
    "    w=pd.DataFrame(wealth)\n",
    "    wealth\n",
    "    \n",
    "    plt.plot(w,'r--')\n",
    "    plt.xlabel('timeline')\n",
    "    plt.ylabel('wealth')\n",
    "    plt.title('profit from the strategy: {}'.format(tick))\n",
    "    plt.grid()\n",
    "    print('end date'+str(wealth[-1]))\n",
    "    print('max drawdown'+str(pd.series(wealth).min()))\n",
    "    print('no od positions closed'+str(len(trade_price)/2))\n",
    "\n",
    "def j(self):\n",
    "    wid.interact(wel)\n",
    "btn2.on_click(j)\n",
    "display(page2)\n",
    "    \n"
   ]
  },
  {
   "cell_type": "markdown",
   "metadata": {},
   "source": [
    "plt.plot(w,'r--')\n",
    "plt.ylabel('wealth')\n",
    "plt.title('profit from the strategy: {}'.format(tick))\n",
    "plt.grid()"
   ]
  },
  {
   "cell_type": "code",
   "execution_count": null,
   "metadata": {},
   "outputs": [],
   "source": []
  },
  {
   "cell_type": "code",
   "execution_count": null,
   "metadata": {},
   "outputs": [],
   "source": []
  }
 ],
 "metadata": {
  "kernelspec": {
   "display_name": "Python 3",
   "language": "python",
   "name": "python3"
  },
  "language_info": {
   "codemirror_mode": {
    "name": "ipython",
    "version": 3
   },
   "file_extension": ".py",
   "mimetype": "text/x-python",
   "name": "python",
   "nbconvert_exporter": "python",
   "pygments_lexer": "ipython3",
   "version": "3.7.4"
  }
 },
 "nbformat": 4,
 "nbformat_minor": 2
}
