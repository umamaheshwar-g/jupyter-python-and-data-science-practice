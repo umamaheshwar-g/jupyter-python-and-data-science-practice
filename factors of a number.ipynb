{
 "cells": [
  {
   "cell_type": "code",
   "execution_count": 15,
   "metadata": {},
   "outputs": [
    {
     "name": "stdout",
     "output_type": "stream",
     "text": [
      "enter a number   29\n",
      "29 is a prime number so the only factors are [1,29]\n"
     ]
    }
   ],
   "source": [
    "a=[1]\n",
    "x=input('enter a number   ')\n",
    "for i in range(2,x+1):\n",
    "    if x%i==0:\n",
    "        a.append(i)\n",
    "        \n",
    "if len(a)>2:\n",
    "    print ('{} is composite and the factors are {}'.format(x,a))\n",
    "else:\n",
    "    print ('{} is a prime number so the only factors are [1,{}]'.format(x,x))"
   ]
  },
  {
   "cell_type": "code",
   "execution_count": null,
   "metadata": {},
   "outputs": [],
   "source": []
  },
  {
   "cell_type": "code",
   "execution_count": 13,
   "metadata": {},
   "outputs": [
    {
     "data": {
      "text/plain": [
       "[1, 2, 3, 4, 5, 6, 8, 10, 12, 15, 20, 24, 30, 40, 60, 120, 120, 120]"
      ]
     },
     "execution_count": 13,
     "metadata": {},
     "output_type": "execute_result"
    }
   ],
   "source": [
    "a.append(120)"
   ]
  }
 ],
 "metadata": {
  "kernelspec": {
   "display_name": "Python 2",
   "language": "python",
   "name": "python2"
  },
  "language_info": {
   "codemirror_mode": {
    "name": "ipython",
    "version": 2
   },
   "file_extension": ".py",
   "mimetype": "text/x-python",
   "name": "python",
   "nbconvert_exporter": "python",
   "pygments_lexer": "ipython2",
   "version": "2.7.15"
  }
 },
 "nbformat": 4,
 "nbformat_minor": 2
}
