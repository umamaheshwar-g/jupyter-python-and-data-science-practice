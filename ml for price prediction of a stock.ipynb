{
 "cells": [
  {
   "cell_type": "markdown",
   "metadata": {},
   "source": [
    "long when closing price is > 70 RSA\n",
    "short when closing price is < 30 RSA"
   ]
  },
  {
   "cell_type": "code",
   "execution_count": 1,
   "metadata": {},
   "outputs": [],
   "source": [
    "import nsepy as nse\n",
    "import matplotlib.pyplot as plt\n",
    "from datetime import date\n",
    "import pandas as pd\n",
    "import numpy as np\n",
    "import ta\n",
    "from ta import *\n"
   ]
  },
  {
   "cell_type": "markdown",
   "metadata": {},
   "source": [
    "template to bring data from nse"
   ]
  },
  {
   "cell_type": "code",
   "execution_count": null,
   "metadata": {
    "scrolled": true
   },
   "outputs": [],
   "source": [
    "\n",
    "tick=str(raw_input('name of stock :')).upper()\n",
    "STD=date(2015,1,1)\n",
    "END=date(2019,5,15)\n",
    "d=nse.get_history(str(tick),STD,END)\n",
    "dt=pd.DataFrame(d)\n",
    "\n",
    "p=dt.Close\n",
    "p.head()\n",
    "\n",
    "plt.figure(figsize=(12,4))\n",
    "plt.xlabel('time')\n",
    "plt.ylabel('price')\n",
    "\n",
    "p.plot(color='blue')\n",
    "plt.legend()\n",
    "plt.title('stock: {}'.format(tick))\n",
    "plt.grid()\n",
    "plt.show()"
   ]
  },
  {
   "cell_type": "code",
   "execution_count": null,
   "metadata": {},
   "outputs": [],
   "source": [
    "dt"
   ]
  },
  {
   "cell_type": "code",
   "execution_count": null,
   "metadata": {},
   "outputs": [],
   "source": [
    "xdata=[dt.loc[:,['Prev Close','Open','High','Low','Last','VWAP','Volume','Turnover','Trades','Deliverable Volume','%Deliverble']]]\n",
    "ydata=[dt.Close]"
   ]
  },
  {
   "cell_type": "code",
   "execution_count": null,
   "metadata": {},
   "outputs": [],
   "source": [
    "xdata"
   ]
  },
  {
   "cell_type": "code",
   "execution_count": null,
   "metadata": {},
   "outputs": [],
   "source": [
    "from sklearn.preprocessing import Imputer\n",
    "i=Imputer(missing_values='NaN',strategy='mean')\n",
    "xdata=i.fit_transform(xdata)\n",
    "print(xdata)\n"
   ]
  },
  {
   "cell_type": "code",
   "execution_count": null,
   "metadata": {},
   "outputs": [],
   "source": [
    "from sklearn.model_selection import train_test_split as tt\n",
    "xtrain, xtest,ytrain,ytest=tt(xdata,ydata,test_size=0.3)\n",
    "ytest\n"
   ]
  },
  {
   "cell_type": "code",
   "execution_count": null,
   "metadata": {},
   "outputs": [],
   "source": [
    "from sklearn.linear_model import LinearRegression as lr\n",
    "rg = lr()\n",
    "xtrain = xtrain.reshape(-1,1)\n",
    "xtest = xtest.reshape(-1,1)\n",
    "ytrain = ytrain.reshape(-1,1)\n",
    "ytest = ytest.reshape(-1,1)\n",
    "rg.fit(xtrain,ytrain)\n",
    "ypred = rg.predict(xtest).reshape\n",
    "ypred"
   ]
  },
  {
   "cell_type": "code",
   "execution_count": null,
   "metadata": {},
   "outputs": [],
   "source": []
  },
  {
   "cell_type": "code",
   "execution_count": null,
   "metadata": {},
   "outputs": [],
   "source": []
  },
  {
   "cell_type": "code",
   "execution_count": null,
   "metadata": {},
   "outputs": [],
   "source": []
  },
  {
   "cell_type": "code",
   "execution_count": null,
   "metadata": {},
   "outputs": [],
   "source": [
    "rsi=ta.rsi(p)"
   ]
  },
  {
   "cell_type": "code",
   "execution_count": null,
   "metadata": {},
   "outputs": [],
   "source": [
    "buyprice=0.0\n",
    "sellprice=0.0\n",
    "cash =1\n",
    "stock =0\n",
    "#sma=200\n",
    "mawealth =1.0\n",
    "\n",
    "buy_data=[]\n",
    "sell_data=[]\n",
    "trade_price=[]\n",
    "wealth=[]\n",
    "used=dt.Close\n",
    "\n",
    "#MA=used.rolling(window=sma,center=False).mean()\n",
    "N=len(used)\n"
   ]
  },
  {
   "cell_type": "code",
   "execution_count": null,
   "metadata": {
    "scrolled": true
   },
   "outputs": [],
   "source": [
    "for x in range(15,N):\n",
    "    if rsi[x]< 30 and cash==1:\n",
    "        buyprice=used[x]\n",
    "    \n",
    "        buy_data.append(buyprice)\n",
    "        trade_price.append(buyprice)\n",
    "        cash=0.0\n",
    "        stock = 1\n",
    "    elif rsi[x] < 70 and stock ==1:\n",
    "        sellprice=used[x]\n",
    "        \n",
    "        sell_data.append(sellprice)\n",
    "        trade_price.append(sellprice)\n",
    "        stock = 0\n",
    "        cash=1\n",
    "        mawealth = mawealth*(sellprice/buyprice)\n",
    "        wealth.append(mawealth)\n",
    "w=pd.DataFrame(wealth)\n",
    "wealth\n"
   ]
  },
  {
   "cell_type": "code",
   "execution_count": null,
   "metadata": {},
   "outputs": [],
   "source": [
    "plt.plot(w,'r--')\n",
    "plt.ylabel('wealth')\n",
    "plt.title('profit from the strategy: {}'.format(tick))\n",
    "plt.grid()"
   ]
  },
  {
   "cell_type": "code",
   "execution_count": null,
   "metadata": {},
   "outputs": [],
   "source": []
  },
  {
   "cell_type": "code",
   "execution_count": null,
   "metadata": {},
   "outputs": [],
   "source": []
  }
 ],
 "metadata": {
  "kernelspec": {
   "display_name": "Python 2",
   "language": "python",
   "name": "python2"
  },
  "language_info": {
   "codemirror_mode": {
    "name": "ipython",
    "version": 2
   },
   "file_extension": ".py",
   "mimetype": "text/x-python",
   "name": "python",
   "nbconvert_exporter": "python",
   "pygments_lexer": "ipython2",
   "version": "2.7.15"
  }
 },
 "nbformat": 4,
 "nbformat_minor": 2
}
