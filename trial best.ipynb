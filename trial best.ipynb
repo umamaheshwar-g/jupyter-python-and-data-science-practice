{
 "cells": [
  {
   "cell_type": "code",
   "execution_count": 1,
   "metadata": {},
   "outputs": [],
   "source": [
    "import pandas as pd\n",
    "import oandapyV20\n",
    "import oandapyV20.endpoints.accounts as accounts\n",
    "import oandapyV20.endpoints.pricing as pricing\n",
    "import configparser\n",
    "import ipywidgets as w\n",
    "import json\n",
    "import string as s\n",
    "import time"
   ]
  },
  {
   "cell_type": "code",
   "execution_count": 2,
   "metadata": {},
   "outputs": [],
   "source": [
    "accountID=\"101-001-11588733-001\""
   ]
  },
  {
   "cell_type": "code",
   "execution_count": 3,
   "metadata": {},
   "outputs": [],
   "source": [
    "client = oandapyV20.API(access_token=\"ae9350a9996c4ef6d9ad3a1bc39e12ed-8c1789ca29b12194796b6bff271831f0\")\n",
    "r = accounts.AccountDetails(\"101-001-11588733-001\")"
   ]
  },
  {
   "cell_type": "code",
   "execution_count": 4,
   "metadata": {},
   "outputs": [],
   "source": [
    "o=pd.read_csv(\"pairs.csv\")\n",
    "io=[]\n",
    "for i in range(0,69):\n",
    "   io.append( list(o['Instrument Name'])[i].split())\n",
    "to=[]\n",
    "for i in range(69):\n",
    "    to.append(io[i][0])"
   ]
  },
  {
   "cell_type": "code",
   "execution_count": 12,
   "metadata": {},
   "outputs": [
    {
     "data": {
      "application/vnd.jupyter.widget-view+json": {
       "model_id": "91c1a1df07764b30a06dafc9f96b3e46",
       "version_major": 2,
       "version_minor": 0
      },
      "text/plain": [
       "VkJveChjaGlsZHJlbj0oSEJveChjaGlsZHJlbj0oU2VsZWN0TXVsdGlwbGUob3B0aW9ucz0oJ0VVUl9aQVInLCAnRVVSX1BMTicsICdBVURfSlBZJywgJ1VTRF9DQUQnLCAnVVNEX05PSycsICfigKY=\n"
      ]
     },
     "metadata": {},
     "output_type": "display_data"
    },
    {
     "data": {
      "application/vnd.jupyter.widget-view+json": {
       "model_id": "f89593e55d744644a464a71b3f812d9d",
       "version_major": 2,
       "version_minor": 0
      },
      "text/plain": [
       "interactive(children=(Output(),), _dom_classes=(u'widget-interact',))"
      ]
     },
     "metadata": {},
     "output_type": "display_data"
    }
   ],
   "source": [
    "inst=w.SelectMultiple(options=to)\n",
    "b=w.Button(description=\"submit\")\n",
    "\n",
    "\n",
    "ask=w.HTML(description=\"Ask Price\")\n",
    "ask1=w.BoundedFloatText()\n",
    "Bid=w.HTML(description=\"Bid Price\")\n",
    "name=w.HTML()\n",
    "Bid1=w.BoundedFloatText()\n",
    "up=w.HBox([inst,b])\n",
    "Down=w.HBox([w.VBox([name]),w.VBox([ask,ask1]),w.VBox([Bid,Bid1])])\n",
    "lis=[up]\n",
    "lis2=[up,Down]\n",
    "def ab():\n",
    "    for i in range(len(inst.value)):\n",
    "        r= pricing.PricingInfo(accountID=\"101-001-11588733-001\",params = {\"instruments\":inst.value[i]})\n",
    "        ask1.value=client.request(r)[\"prices\"][0][\"asks\"][0][\"price\"]\n",
    "        Bid1.value=str(client.request(r)[\"prices\"][0][\"bids\"][0][\"price\"])\n",
    "        name.value=inst.value[i]\n",
    "        new=w.HBox([w.VBox([name]),w.VBox([ask,ask1]),w.VBox([Bid,Bid1])])\n",
    "        lis2.append(new)\n",
    "        h2=w.VBox(lis2)\n",
    "        #display(Down)\n",
    "def con():\n",
    "    while True:\n",
    "        ab()\n",
    "\n",
    "def intab(self):\n",
    "    w.interact(con)\n",
    "\n",
    "b.on_click(intab)\n",
    "\n",
    "h=w.VBox(lis2)\n",
    "\n",
    "display(h)\n"
   ]
  },
  {
   "cell_type": "code",
   "execution_count": 6,
   "metadata": {},
   "outputs": [
    {
     "data": {
      "text/plain": [
       "()"
      ]
     },
     "execution_count": 6,
     "metadata": {},
     "output_type": "execute_result"
    }
   ],
   "source": [
    "inst.value"
   ]
  },
  {
   "cell_type": "code",
   "execution_count": null,
   "metadata": {},
   "outputs": [],
   "source": []
  }
 ],
 "metadata": {
  "kernelspec": {
   "display_name": "Python 2",
   "language": "python",
   "name": "python2"
  },
  "language_info": {
   "codemirror_mode": {
    "name": "ipython",
    "version": 2
   },
   "file_extension": ".py",
   "mimetype": "text/x-python",
   "name": "python",
   "nbconvert_exporter": "python",
   "pygments_lexer": "ipython2",
   "version": "2.7.15"
  }
 },
 "nbformat": 4,
 "nbformat_minor": 2
}
