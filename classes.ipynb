{
 "cells": [
  {
   "cell_type": "code",
   "execution_count": 10,
   "metadata": {},
   "outputs": [],
   "source": [
    "class Course:\n",
    "    def __init__(self, name, ratings):\n",
    "        self.name=name\n",
    "        self.ratings=ratings\n",
    "    def average(self):\n",
    "        k=len(self.ratings)\n",
    "        avg_rat=sum(self.ratings)/k\n",
    "        print(avg_rat)\n",
    "\n"
   ]
  },
  {
   "cell_type": "code",
   "execution_count": 11,
   "metadata": {},
   "outputs": [
    {
     "name": "stdout",
     "output_type": "stream",
     "text": [
      "4\n"
     ]
    }
   ],
   "source": [
    "c=Course(\"avg\",[1,4,7])\n",
    "\n",
    "c.average()"
   ]
  },
  {
   "cell_type": "code",
   "execution_count": 37,
   "metadata": {},
   "outputs": [
    {
     "name": "stdout",
     "output_type": "stream",
     "text": [
      "28\n"
     ]
    }
   ],
   "source": [
    "class Course:\n",
    "    def __init__(self, name, ratings):\n",
    "        self.name=name\n",
    "        self.ratings=ratings\n",
    "    def average(self):\n",
    "        k=len(self.ratings)\n",
    "        def productOfTwo(num1,num2):\n",
    "            return num1*num2\n",
    "        pro = reduce( productOfTwo,self.ratings)\n",
    "        print(pro)\n",
    "\n",
    "c=Course(\"avg\",[1,4,7])\n",
    "\n",
    "c.average()\n"
   ]
  },
  {
   "cell_type": "code",
   "execution_count": 25,
   "metadata": {},
   "outputs": [],
   "source": [
    "class oc:\n",
    "    number=0\n",
    "    def __init__(self):\n",
    "        oc.number+=1\n",
    "    @staticmethod\n",
    "    def display():\n",
    "        print(oc.number)"
   ]
  },
  {
   "cell_type": "code",
   "execution_count": 30,
   "metadata": {},
   "outputs": [],
   "source": [
    "o=oc()\n",
    "p=oc()\n",
    "t=oc()"
   ]
  },
  {
   "cell_type": "code",
   "execution_count": 31,
   "metadata": {},
   "outputs": [
    {
     "name": "stdout",
     "output_type": "stream",
     "text": [
      "5\n"
     ]
    }
   ],
   "source": [
    "o.display()"
   ]
  },
  {
   "cell_type": "code",
   "execution_count": null,
   "metadata": {},
   "outputs": [],
   "source": []
  }
 ],
 "metadata": {
  "kernelspec": {
   "display_name": "Python 3",
   "language": "python",
   "name": "python3"
  },
  "language_info": {
   "codemirror_mode": {
    "name": "ipython",
    "version": 3
   },
   "file_extension": ".py",
   "mimetype": "text/x-python",
   "name": "python",
   "nbconvert_exporter": "python",
   "pygments_lexer": "ipython3",
   "version": "3.7.4"
  }
 },
 "nbformat": 4,
 "nbformat_minor": 2
}
