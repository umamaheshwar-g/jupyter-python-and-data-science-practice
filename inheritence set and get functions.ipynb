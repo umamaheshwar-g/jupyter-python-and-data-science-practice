{
 "cells": [
  {
   "cell_type": "code",
   "execution_count": 4,
   "metadata": {},
   "outputs": [],
   "source": [
    "class programmer:\n",
    "    def setName(self,name):\n",
    "        self.__name=name #  encapsulation this(__) will keep our variables safe from other outside methods accessing\n",
    "    def getName(self):\n",
    "        return(self.__name)\n",
    "    def setSalary(self,salary):\n",
    "        self.__salary=salary\n",
    "    def getSalary(self):\n",
    "        return(self.__salary)\n",
    "    def setTech(self,tech):\n",
    "        self.__tech=tech\n",
    "    def getTech(self):\n",
    "        return (self.__tech)"
   ]
  },
  {
   "cell_type": "code",
   "execution_count": 5,
   "metadata": {},
   "outputs": [],
   "source": [
    "p1 = programmer()"
   ]
  },
  {
   "cell_type": "code",
   "execution_count": 6,
   "metadata": {},
   "outputs": [
    {
     "name": "stdout",
     "output_type": "stream",
     "text": [
      "5000\n"
     ]
    }
   ],
   "source": [
    "p1.setName(\"mahesh\")\n",
    "p1.setSalary(5000)\n",
    "p1.setTech(\"django\")\n",
    "print(p1.getSalary())\n",
    "\n"
   ]
  },
  {
   "cell_type": "code",
   "execution_count": null,
   "metadata": {},
   "outputs": [],
   "source": []
  },
  {
   "cell_type": "code",
   "execution_count": null,
   "metadata": {},
   "outputs": [],
   "source": []
  },
  {
   "cell_type": "code",
   "execution_count": null,
   "metadata": {},
   "outputs": [],
   "source": []
  },
  {
   "cell_type": "code",
   "execution_count": 27,
   "metadata": {},
   "outputs": [],
   "source": [
    "#inheritence\n",
    "class bmw:\n",
    "    def __init__(self,make,model,year):\n",
    "        self.make=make\n",
    "        self.model=model\n",
    "        self.year=year\n",
    "    def start(self):\n",
    "        print(\"'from' engine has started\")\n",
    "    def stop(self):\n",
    "        print(\"engine has stopped\")\n",
    "        \n",
    "class threeSeries(bmw):\n",
    "    def __init__(self,make,model,year,cruisecontrol):\n",
    "        bmw.__init__(self,make,model,year)\n",
    "        self.cruisecontrol = cruisecontrol\n",
    "    def start(self):\n",
    "        print(\"'overrided' buttion pressed engine has started\")\n",
    "class fiveSeries(bmw):\n",
    "    def __init__(self,make,model,year,parkingaccess):\n",
    "        bmw.__init__(self,make,model,year)\n",
    "        self.parkingaccess = parkingaccess\n",
    "#     def start(self):\n",
    "#         print(\"buttion pressed parking has started\")\n",
    "class eightSeries(bmw):\n",
    "    def __init__(self,make,model,year,flying):\n",
    "        bmw.__init__(self,make,model,year)\n",
    "        self.flying = flying\n",
    "#     def start(self):\n",
    "#         print(\"buttion pressed parking has started\")\n",
    "    \n",
    "    "
   ]
  },
  {
   "cell_type": "code",
   "execution_count": 28,
   "metadata": {},
   "outputs": [
    {
     "name": "stdout",
     "output_type": "stream",
     "text": [
      "'overrided' buttion pressed engine has started\n"
     ]
    }
   ],
   "source": [
    "c3 = threeSeries(\"one\",\"two\",\"three\",\"yes\")\n",
    "c3.start()"
   ]
  }
 ],
 "metadata": {
  "kernelspec": {
   "display_name": "Python 2",
   "language": "python",
   "name": "python2"
  },
  "language_info": {
   "codemirror_mode": {
    "name": "ipython",
    "version": 2
   },
   "file_extension": ".py",
   "mimetype": "text/x-python",
   "name": "python",
   "nbconvert_exporter": "python",
   "pygments_lexer": "ipython2",
   "version": "2.7.15"
  }
 },
 "nbformat": 4,
 "nbformat_minor": 2
}
