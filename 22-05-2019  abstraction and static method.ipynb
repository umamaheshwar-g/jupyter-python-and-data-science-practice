{
 "cells": [
  {
   "cell_type": "code",
   "execution_count": 26,
   "metadata": {},
   "outputs": [],
   "source": [
    "class oc:\n",
    "    number=0\n",
    "    number2=5#static variable\n",
    "    def __init__(self):\n",
    "        oc.number+=1\n",
    "    @staticmethod#decorator\n",
    "    def display():\n",
    "        print(oc.number)\n",
    "    def display2(self):\n",
    "        print(oc.number)"
   ]
  },
  {
   "cell_type": "code",
   "execution_count": 41,
   "metadata": {},
   "outputs": [
    {
     "name": "stdout",
     "output_type": "stream",
     "text": [
      "5\n"
     ]
    }
   ],
   "source": [
    "a=oc()\n",
    "oc.display()\n"
   ]
  },
  {
   "cell_type": "code",
   "execution_count": 6,
   "metadata": {},
   "outputs": [],
   "source": [
    "class flight:\n",
    "    def __init__(self,e):\n",
    "        self.e = e\n",
    "    def starte(self):\n",
    "        self.e.start()\n",
    "class airbuse:\n",
    "    def start(self):\n",
    "        print(\"starting a enngine\")\n",
    "class buse:\n",
    "    def start(self):\n",
    "        print('starting b engine')\n",
    "        "
   ]
  },
  {
   "cell_type": "code",
   "execution_count": null,
   "metadata": {},
   "outputs": [],
   "source": [
    "\n",
    "class bmw(object):\n",
    "    \n",
    "    def __init__(self,make,model,year)"
   ]
  },
  {
   "cell_type": "code",
   "execution_count": 18,
   "metadata": {},
   "outputs": [],
   "source": [
    "import abc"
   ]
  },
  {
   "cell_type": "code",
   "execution_count": null,
   "metadata": {},
   "outputs": [],
   "source": []
  },
  {
   "cell_type": "code",
   "execution_count": 1,
   "metadata": {},
   "outputs": [],
   "source": [
    "from abc import abstractmethod, ABCMeta\n",
    "#inheritence\n",
    "class bmw(object):#Object method is passed to use abstract method\n",
    "    __metaclass__ = ABCMeta\n",
    "    def __init__(self,make,model,year):\n",
    "        self.make=make\n",
    "        self.model=model\n",
    "        self.year=year\n",
    "    def start(self):\n",
    "        print(\"'from' engine has started\")\n",
    "    def stop(self):\n",
    "        print(\"engine has stopped\")\n",
    "    \n",
    "    @abstractmethod\n",
    "    def drive(self):\n",
    "        pass\n",
    "        \n",
    "        \n",
    "class threeSeries(bmw):\n",
    "    def __init__(self,make,model,year,cruisecontrol):\n",
    "        bmw.__init__(self,make,model,year)\n",
    "        self.cruisecontrol = cruisecontrol\n",
    "    def start(self):\n",
    "        print(\"'overrided' buttion pressed engine has started\")\n",
    "    def drive(self):\n",
    "        pass\n",
    "        \n",
    "\n",
    "class fiveSeries(bmw):\n",
    "    def __init__(self,make,model,year,parkingaccess):\n",
    "        bmw.__init__(self,make,model,year)\n",
    "        self.parkingaccess = parkingaccess\n",
    "    def start(self):\n",
    "         print(\"buttion pressed parking has started\")\n",
    "            \n",
    "            \n",
    "            \n",
    "    def drive(self):\n",
    "        pass\n",
    "class eightSeries(bmw):\n",
    "    def __init__(self,make,model,year,flying):\n",
    "        bmw.__init__(self,make,model,year)\n",
    "        self.flying = flying\n",
    "    def start(self):\n",
    "        print(\"buttion pressed parking has started\")\n",
    "    def drive(self):\n",
    "        pass\n",
    "    \n",
    "    "
   ]
  },
  {
   "cell_type": "code",
   "execution_count": 2,
   "metadata": {},
   "outputs": [
    {
     "name": "stdout",
     "output_type": "stream",
     "text": [
      "'overrided' buttion pressed engine has started\n"
     ]
    }
   ],
   "source": [
    "c3 = threeSeries(\"one\",\"two\",\"three\",\"yes\")\n",
    "c3.start()"
   ]
  }
 ],
 "metadata": {
  "kernelspec": {
   "display_name": "Python 3",
   "language": "python",
   "name": "python3"
  },
  "language_info": {
   "codemirror_mode": {
    "name": "ipython",
    "version": 3
   },
   "file_extension": ".py",
   "mimetype": "text/x-python",
   "name": "python",
   "nbconvert_exporter": "python",
   "pygments_lexer": "ipython3",
   "version": "3.7.4"
  }
 },
 "nbformat": 4,
 "nbformat_minor": 2
}
