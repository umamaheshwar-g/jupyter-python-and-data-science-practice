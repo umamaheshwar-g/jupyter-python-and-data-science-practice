{
 "cells": [
  {
   "cell_type": "code",
   "execution_count": 9,
   "metadata": {},
   "outputs": [
    {
     "name": "stdout",
     "output_type": "stream",
     "text": [
      "[1]\n",
      "[1]\n",
      "[1, 1]\n",
      "[1, 1]\n",
      "[1, 1, 1]\n",
      "[1, 1, 1]\n",
      "[2]\n",
      "[1, 1, 1]\n",
      "[2, 2]\n",
      "[1, 1, 1]\n",
      "[2, 2, 2]\n",
      "[1, 1, 1]\n",
      "[3]\n",
      "[1, 1, 1]\n",
      "[3, 3]\n",
      "[1, 1, 1]\n",
      "[3, 3, 3]\n",
      "[1, 1, 1]\n",
      "[4]\n",
      "[2, 2, 2]\n",
      "[4, 4]\n",
      "[2, 2, 2]\n",
      "[4, 4, 4]\n",
      "[2, 2, 2]\n",
      "[5]\n",
      "[2, 2, 2]\n",
      "[5, 5]\n",
      "[2, 2, 2]\n",
      "[5, 5, 5]\n",
      "[2, 2, 2]\n",
      "[[1, 1, 1], [1, 1, 1], [1, 1, 1], [2, 2, 2], [2, 2, 2], [2, 2, 2], [3, 3, 3], [3, 3, 3], [3, 3, 3], [4, 4, 4], [4, 4, 4], [4, 4, 4], [5, 5, 5], [5, 5, 5], [5, 5, 5]]\n"
     ]
    }
   ],
   "source": [
    "inlst=[[1,2,3,4,5],\n",
    "       [1,2,3,4,5,],\n",
    "       [1,2,3,4,5]]\n",
    "outlst=[]\n",
    "for i in range(5):\n",
    "    lst =[]\n",
    "    for row in inlst:\n",
    "        lst.append(row[i])\n",
    "        print(lst)\n",
    "        outlst.append(lst)\n",
    "print(outlst)"
   ]
  },
  {
   "cell_type": "code",
   "execution_count": 10,
   "metadata": {},
   "outputs": [
    {
     "name": "stdout",
     "output_type": "stream",
     "text": [
      "[1]\n",
      "[1, 1]\n",
      "[1, 1, 1]\n",
      "[1, 1, 1]\n",
      "[1, 1, 1]\n",
      "[1, 1, 1]\n",
      "[1, 1, 1]\n",
      "[1, 1, 1]\n",
      "[1, 1, 1]\n",
      "[2, 2, 2]\n",
      "[2, 2, 2]\n",
      "[2, 2, 2]\n",
      "[2, 2, 2]\n",
      "[2, 2, 2]\n",
      "[2, 2, 2]\n",
      "[[1, 1, 1], [1, 1, 1], [1, 1, 1], [2, 2, 2], [2, 2, 2], [2, 2, 2], [3, 3, 3], [3, 3, 3], [3, 3, 3], [4, 4, 4], [4, 4, 4], [4, 4, 4], [5, 5, 5], [5, 5, 5], [5, 5, 5]]\n"
     ]
    }
   ],
   "source": [
    "inlst=[[1,2,3,4,5],\n",
    "       [1,2,3,4,5,],\n",
    "       [1,2,3,4,5]]\n",
    "outlst=[]\n",
    "for i in range(5):\n",
    "    lst =[]\n",
    "    for row in inlst:\n",
    "        lst.append(row[i])\n",
    "        outlst.append(lst)\n",
    "        print (outlst[i])\n",
    "print(outlst)"
   ]
  },
  {
   "cell_type": "code",
   "execution_count": 8,
   "metadata": {},
   "outputs": [
    {
     "name": "stdout",
     "output_type": "stream",
     "text": [
      "[[1]]\n",
      "[[1], [1]]\n"
     ]
    }
   ],
   "source": [
    "a=[]\n",
    "b=[1]\n",
    "c=[1, 1]\n",
    "d=[1, 1, 1]\n",
    "a.append(b)\n",
    "print(a)\n",
    "a.append(b)\n",
    "print(a)\n"
   ]
  }
 ],
 "metadata": {
  "kernelspec": {
   "display_name": "Python 2",
   "language": "python",
   "name": "python2"
  },
  "language_info": {
   "codemirror_mode": {
    "name": "ipython",
    "version": 2
   },
   "file_extension": ".py",
   "mimetype": "text/x-python",
   "name": "python",
   "nbconvert_exporter": "python",
   "pygments_lexer": "ipython2",
   "version": "2.7.15"
  }
 },
 "nbformat": 4,
 "nbformat_minor": 2
}
