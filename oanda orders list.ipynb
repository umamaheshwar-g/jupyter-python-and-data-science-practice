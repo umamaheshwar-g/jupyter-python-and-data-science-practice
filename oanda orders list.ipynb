{
 "cells": [
  {
   "cell_type": "code",
   "execution_count": 1,
   "metadata": {},
   "outputs": [],
   "source": [
    "import pandas as pd\n",
    "import oandapyV20\n",
    "import oandapyV20.endpoints.orders as orders"
   ]
  },
  {
   "cell_type": "code",
   "execution_count": 2,
   "metadata": {},
   "outputs": [],
   "source": [
    "accountID='101-001-11588733-001'\n",
    "access_token ='ae9350a9996c4ef6d9ad3a1bc39e12ed-8c1789ca29b12194796b6bff271831f0'"
   ]
  },
  {
   "cell_type": "code",
   "execution_count": null,
   "metadata": {},
   "outputs": [],
   "source": []
  },
  {
   "cell_type": "code",
   "execution_count": 3,
   "metadata": {},
   "outputs": [
    {
     "data": {
      "text/html": [
       "<div>\n",
       "<style scoped>\n",
       "    .dataframe tbody tr th:only-of-type {\n",
       "        vertical-align: middle;\n",
       "    }\n",
       "\n",
       "    .dataframe tbody tr th {\n",
       "        vertical-align: top;\n",
       "    }\n",
       "\n",
       "    .dataframe thead th {\n",
       "        text-align: right;\n",
       "    }\n",
       "</style>\n",
       "<table border=\"1\" class=\"dataframe\">\n",
       "  <thead>\n",
       "    <tr style=\"text-align: right;\">\n",
       "      <th></th>\n",
       "    </tr>\n",
       "  </thead>\n",
       "  <tbody>\n",
       "  </tbody>\n",
       "</table>\n",
       "</div>"
      ],
      "text/plain": [
       "Empty DataFrame\n",
       "Columns: []\n",
       "Index: []"
      ]
     },
     "execution_count": 3,
     "metadata": {},
     "output_type": "execute_result"
    }
   ],
   "source": [
    "client= oandapyV20.API(access_token=access_token)\n",
    "r= orders.OrderList(accountID)\n",
    "client.request(r)\n",
    "store=[]\n",
    "\n",
    "for i in r.response['orders']:\n",
    "    store.append(i)\n",
    "pd.DataFrame(store)"
   ]
  },
  {
   "cell_type": "code",
   "execution_count": 4,
   "metadata": {},
   "outputs": [],
   "source": [
    "data = \\\n",
    "{\n",
    "    \"order\":{\n",
    "        \"type\":\"MARKET\",\n",
    "        \"units\":\"260\",\n",
    "        \"instrument\":\"GBP_USD\",\n",
    "        \"timeInForce\":\"FOK\",\n",
    "        \"takeProfitOnFill\":{\n",
    "            \"timeInForce\":\"GTC\",\n",
    "            \"price\":\"1.35\",\n",
    "        },\n",
    "        \"stopLossOnFill\":{\n",
    "            \"timeInForce\":\"GTC\",\n",
    "            \"price\":\"1.30\"\n",
    "        }\n",
    "    }\n",
    "    \n",
    "}"
   ]
  },
  {
   "cell_type": "code",
   "execution_count": 5,
   "metadata": {},
   "outputs": [
    {
     "data": {
      "text/plain": [
       "{'order': {'instrument': 'GBP_USD',\n",
       "  'stopLossOnFill': {'price': '1.30', 'timeInForce': 'GTC'},\n",
       "  'takeProfitOnFill': {'price': '1.35', 'timeInForce': 'GTC'},\n",
       "  'timeInForce': 'FOK',\n",
       "  'type': 'MARKET',\n",
       "  'units': '260'}}"
      ]
     },
     "execution_count": 5,
     "metadata": {},
     "output_type": "execute_result"
    }
   ],
   "source": [
    "data"
   ]
  },
  {
   "cell_type": "code",
   "execution_count": 6,
   "metadata": {},
   "outputs": [
    {
     "data": {
      "text/plain": [
       "{u'lastTransactionID': u'12',\n",
       " u'orderCancelTransaction': {u'accountID': u'101-001-11588733-001',\n",
       "  u'batchID': u'11',\n",
       "  u'id': u'12',\n",
       "  u'orderID': u'11',\n",
       "  u'reason': u'STOP_LOSS_ON_FILL_LOSS',\n",
       "  u'requestID': u'60605176250405292',\n",
       "  u'time': u'2019-07-30T14:48:39.499462876Z',\n",
       "  u'type': u'ORDER_CANCEL',\n",
       "  u'userID': 11588733},\n",
       " u'orderCreateTransaction': {u'accountID': u'101-001-11588733-001',\n",
       "  u'batchID': u'11',\n",
       "  u'id': u'11',\n",
       "  u'instrument': u'GBP_USD',\n",
       "  u'positionFill': u'DEFAULT',\n",
       "  u'reason': u'CLIENT_ORDER',\n",
       "  u'requestID': u'60605176250405292',\n",
       "  u'stopLossOnFill': {u'price': u'1.30000', u'timeInForce': u'GTC'},\n",
       "  u'takeProfitOnFill': {u'price': u'1.35000', u'timeInForce': u'GTC'},\n",
       "  u'time': u'2019-07-30T14:48:39.499462876Z',\n",
       "  u'timeInForce': u'FOK',\n",
       "  u'type': u'MARKET_ORDER',\n",
       "  u'units': u'260',\n",
       "  u'userID': 11588733},\n",
       " u'relatedTransactionIDs': [u'11', u'12']}"
      ]
     },
     "execution_count": 6,
     "metadata": {},
     "output_type": "execute_result"
    }
   ],
   "source": [
    "r = orders.OrderCreate(accountID,data=data)\n",
    "client.request(r)"
   ]
  },
  {
   "cell_type": "code",
   "execution_count": null,
   "metadata": {},
   "outputs": [],
   "source": []
  }
 ],
 "metadata": {
  "kernelspec": {
   "display_name": "Python 2",
   "language": "python",
   "name": "python2"
  },
  "language_info": {
   "codemirror_mode": {
    "name": "ipython",
    "version": 2
   },
   "file_extension": ".py",
   "mimetype": "text/x-python",
   "name": "python",
   "nbconvert_exporter": "python",
   "pygments_lexer": "ipython2",
   "version": "2.7.15"
  }
 },
 "nbformat": 4,
 "nbformat_minor": 2
}
