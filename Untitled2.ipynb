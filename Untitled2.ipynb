{
 "cells": [
  {
   "cell_type": "code",
   "execution_count": 2,
   "metadata": {},
   "outputs": [],
   "source": [
    "import nsepy as nse\n",
    "import matplotlib.pyplot as plt\n",
    "from datetime import date\n",
    "import pandas as pd\n",
    "import numpy as np\n",
    "import ta\n",
    "from ta import *\n",
    "import ipywidgets as w\n"
   ]
  },
  {
   "cell_type": "code",
   "execution_count": null,
   "metadata": {},
   "outputs": [],
   "source": [
    "try:\n",
    "    button=w.button(description='submit')\n",
    "    f=w.Dropdown(options=list(pd.read_csv('nifty500list.csv').Symbol),description='stock:')\n",
    "    s=w.DatePicker(description='startdate')\n",
    "    e=w.DatePicker(description='end date')\n",
    "    button.style.button_color='lightgreen'\n",
    "    page=w.HBox([f,s,e,button])\n",
    "    display(page)\n",
    "    def u():\n",
    "        plt.figure(1,figsize=(20,30))\n",
    "        plt.subplot(221)\n",
    "        plt.plot(np.get_history(f.value,s.value,e.value))\n",
    "        plt.title('{}'.format(f.value))\n",
    "        plt.show()\n",
    "    def i(self):\n",
    "        w.interact(u)\n",
    "        w.interact(rsi,i=w.IntSlider(min=10,max=50,))\n",
    "        w.interact()\n",
    "        \n",
    "        "
   ]
  }
 ],
 "metadata": {
  "kernelspec": {
   "display_name": "Python 2",
   "language": "python",
   "name": "python2"
  },
  "language_info": {
   "codemirror_mode": {
    "name": "ipython",
    "version": 2
   },
   "file_extension": ".py",
   "mimetype": "text/x-python",
   "name": "python",
   "nbconvert_exporter": "python",
   "pygments_lexer": "ipython2",
   "version": "2.7.15"
  }
 },
 "nbformat": 4,
 "nbformat_minor": 2
}
