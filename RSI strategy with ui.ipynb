{
 "cells": [
  {
   "cell_type": "markdown",
   "metadata": {},
   "source": [
    "long when closing price is > 70 RSA\n",
    "short when closing price is < 30 RSA"
   ]
  },
  {
   "cell_type": "code",
   "execution_count": 1,
   "metadata": {},
   "outputs": [],
   "source": [
    "import nsepy as nse\n",
    "import matplotlib.pyplot as plt\n",
    "from datetime import date\n",
    "import pandas as pd\n",
    "import numpy as np\n",
    "import ta\n",
    "from ta import *\n",
    "import ipywidgets as wid\n"
   ]
  },
  {
   "cell_type": "markdown",
   "metadata": {},
   "source": [
    "template to bring data from nse"
   ]
  },
  {
   "cell_type": "code",
   "execution_count": 2,
   "metadata": {},
   "outputs": [],
   "source": [
    "t=pd.read_csv(\"ind_nifty500list.csv\")\n",
    "a= pd.DataFrame(t['Symbol'])\n",
    "b=a.Symbol.to_list()\n",
    "\n",
    "ddd= wid.Dropdown(options=b,value='ITC',description='select a stock')\n",
    "date1=wid.DatePicker(description='start date')\n",
    "date2 =wid.DatePicker(description='end date')\n",
    "btn=wid.Button(description='submit')\n",
    "btn.style.button_color='cyan'\n",
    "page1 = wid.HBox(children=[ddd,date1,date2,btn])\n",
    "\n",
    "\n",
    "rsibuy=wid.IntSlider(descriotion='buying rsi',min=0,max=100,value=30)\n",
    "rsisell=wid.IntSlider(descriotion='buying rsi',min=0,max=100,value=70)\n",
    "btn2=wid.Button(description='submit')\n",
    "page2 = wid.HBox(children=[rsibuy,rsisell,btn2])\n",
    "\n",
    "\n",
    "\n",
    "\n",
    "\n",
    "#display(ddd)"
   ]
  },
  {
   "cell_type": "markdown",
   "metadata": {},
   "source": []
  },
  {
   "cell_type": "code",
   "execution_count": 3,
   "metadata": {
    "scrolled": true
   },
   "outputs": [
    {
     "data": {
      "application/vnd.jupyter.widget-view+json": {
       "model_id": "b4b4aa560c7145448d1e9229ee6279d5",
       "version_major": 2,
       "version_minor": 0
      },
      "text/plain": [
       "SEJveChjaGlsZHJlbj0oRHJvcGRvd24oZGVzY3JpcHRpb249dSdzZWxlY3QgYSBzdG9jaycsIGluZGV4PTIxNSwgb3B0aW9ucz0oJzNNSU5ESUEnLCAnQUJCJywgJ0FDQycsICdBSUFFTkcnLCDigKY=\n"
      ]
     },
     "metadata": {},
     "output_type": "display_data"
    },
    {
     "data": {
      "application/vnd.jupyter.widget-view+json": {
       "model_id": "946691c12cf24610924818e1c128de41",
       "version_major": 2,
       "version_minor": 0
      },
      "text/plain": [
       "interactive(children=(Output(),), _dom_classes=(u'widget-interact',))"
      ]
     },
     "metadata": {},
     "output_type": "display_data"
    }
   ],
   "source": [
    "#display(page1)\n",
    "#tick=ddd.value\n",
    "\n",
    "#display(tick=ddd.value)\n",
    "def s():\n",
    "    \n",
    "    tick=ddd.value\n",
    "    STD=date1.value\n",
    "    END=date2.value\n",
    "    d=nse.get_history(str(tick),STD,END)\n",
    "    dt=pd.DataFrame(d)\n",
    "\n",
    "    p=dt.Close\n",
    "    p.head()\n",
    "\n",
    "    plt.figure(figsize=(12,4))\n",
    "    plt.xlabel('time')\n",
    "    plt.ylabel('price')\n",
    "\n",
    "    p.plot(color='blue')\n",
    "    plt.legend()\n",
    "    plt.title('stock: {}'.format(tick))\n",
    "    plt.grid()\n",
    "    plt.show()\n",
    "    \n",
    "def i(self):\n",
    "    wid.interact(s)\n",
    "\n",
    "\n",
    "display(page1)\n",
    "btn.on_click(i)\n"
   ]
  },
  {
   "cell_type": "code",
   "execution_count": null,
   "metadata": {},
   "outputs": [],
   "source": []
  },
  {
   "cell_type": "code",
   "execution_count": null,
   "metadata": {},
   "outputs": [],
   "source": []
  },
  {
   "cell_type": "code",
   "execution_count": 4,
   "metadata": {},
   "outputs": [
    {
     "ename": "NameError",
     "evalue": "name 'dt' is not defined",
     "output_type": "error",
     "traceback": [
      "\u001b[1;31m---------------------------------------------------------------------------\u001b[0m",
      "\u001b[1;31mNameError\u001b[0m                                 Traceback (most recent call last)",
      "\u001b[1;32m<ipython-input-4-639473150239>\u001b[0m in \u001b[0;36m<module>\u001b[1;34m()\u001b[0m\n\u001b[0;32m     10\u001b[0m \u001b[0mtrade_price\u001b[0m\u001b[1;33m=\u001b[0m\u001b[1;33m[\u001b[0m\u001b[1;33m]\u001b[0m\u001b[1;33m\u001b[0m\u001b[0m\n\u001b[0;32m     11\u001b[0m \u001b[0mwealth\u001b[0m\u001b[1;33m=\u001b[0m\u001b[1;33m[\u001b[0m\u001b[1;33m]\u001b[0m\u001b[1;33m\u001b[0m\u001b[0m\n\u001b[1;32m---> 12\u001b[1;33m \u001b[0mused\u001b[0m\u001b[1;33m=\u001b[0m\u001b[0mdt\u001b[0m\u001b[1;33m.\u001b[0m\u001b[0mClose\u001b[0m\u001b[1;33m\u001b[0m\u001b[0m\n\u001b[0m\u001b[0;32m     13\u001b[0m \u001b[1;33m\u001b[0m\u001b[0m\n\u001b[0;32m     14\u001b[0m \u001b[1;31m#MA=used.rolling(window=sma,center=False).mean()\u001b[0m\u001b[1;33m\u001b[0m\u001b[1;33m\u001b[0m\u001b[0m\n",
      "\u001b[1;31mNameError\u001b[0m: name 'dt' is not defined"
     ]
    }
   ],
   "source": [
    "buyprice=0.0\n",
    "sellprice=0.0\n",
    "cash =1\n",
    "stock =0\n",
    "#sma=200\n",
    "mawealth =1.0\n",
    "\n",
    "buy_data=[]\n",
    "sell_data=[]\n",
    "trade_price=[]\n",
    "wealth=[]\n",
    "used=dt.Close\n",
    "\n",
    "#MA=used.rolling(window=sma,center=False).mean()\n",
    "N=len(used)\n",
    "#used=pd.DataFrame(nse.get_history(f.value,s.value,e.value).Close)\n",
    "#rsi=pd.DataFrame(ta.ta.rsi(np.get_history(f.value,s.value,e.value).Close)\n",
    "#N= int(j['Close'].count())\n"
   ]
  },
  {
   "cell_type": "code",
   "execution_count": 5,
   "metadata": {
    "scrolled": true
   },
   "outputs": [
    {
     "data": {
      "application/vnd.jupyter.widget-view+json": {
       "model_id": "c1f6522e58424029a22061a0493316cb",
       "version_major": 2,
       "version_minor": 0
      },
      "text/plain": [
       "HBox(children=(IntSlider(value=30), IntSlider(value=70), Button(description=u'submit', style=ButtonStyle())))"
      ]
     },
     "metadata": {},
     "output_type": "display_data"
    },
    {
     "data": {
      "application/vnd.jupyter.widget-view+json": {
       "model_id": "f923300975ed45c3ae9dd93181ed70f7",
       "version_major": 2,
       "version_minor": 0
      },
      "text/plain": [
       "interactive(children=(Output(),), _dom_classes=(u'widget-interact',))"
      ]
     },
     "metadata": {},
     "output_type": "display_data"
    }
   ],
   "source": [
    "def wel():\n",
    "    l=rsibuy.value\n",
    "    m=rsisell.value\n",
    "    for x in range(15,N):\n",
    "        if rsi[x]< l and cash==1:\n",
    "            buyprice=used[x]\n",
    "\n",
    "            buy_data.append(buyprice)\n",
    "            trade_price.append(buyprice)\n",
    "            cash=0.0\n",
    "            stock = 1\n",
    "        elif rsi[x] > m and stock ==1:\n",
    "            sellprice=used[x]\n",
    "\n",
    "            sell_data.append(sellprice)\n",
    "            trade_price.append(sellprice)\n",
    "            stock = 0\n",
    "            cash=1\n",
    "            mawealth = mawealth*(sellprice/buyprice)\n",
    "            wealth.append(mawealth)\n",
    "    w=pd.DataFrame(wealth)\n",
    "    wealth\n",
    "    \n",
    "    plt.plot(w,'r--')\n",
    "    plt.xlabel('timeline')\n",
    "    plt.ylabel('wealth')\n",
    "    plt.title('profit from the strategy: {}'.format(tick))\n",
    "    plt.grid()\n",
    "    print('end date'+str(wealth[-1]))\n",
    "    print('max drawdown'+str(pd.series(wealth).min()))\n",
    "    print('no od positions closed'+str(len(trade_price)/2))\n",
    "\n",
    "def j(self):\n",
    "    wid.interact(wel)\n",
    "btn2.on_click(j)\n",
    "display(page2)\n",
    "    \n"
   ]
  },
  {
   "cell_type": "markdown",
   "metadata": {},
   "source": [
    "plt.plot(w,'r--')\n",
    "plt.ylabel('wealth')\n",
    "plt.title('profit from the strategy: {}'.format(tick))\n",
    "plt.grid()"
   ]
  },
  {
   "cell_type": "code",
   "execution_count": null,
   "metadata": {},
   "outputs": [],
   "source": []
  },
  {
   "cell_type": "code",
   "execution_count": null,
   "metadata": {},
   "outputs": [],
   "source": []
  }
 ],
 "metadata": {
  "kernelspec": {
   "display_name": "Python 2",
   "language": "python",
   "name": "python2"
  },
  "language_info": {
   "codemirror_mode": {
    "name": "ipython",
    "version": 2
   },
   "file_extension": ".py",
   "mimetype": "text/x-python",
   "name": "python",
   "nbconvert_exporter": "python",
   "pygments_lexer": "ipython2",
   "version": "2.7.15"
  }
 },
 "nbformat": 4,
 "nbformat_minor": 2
}
