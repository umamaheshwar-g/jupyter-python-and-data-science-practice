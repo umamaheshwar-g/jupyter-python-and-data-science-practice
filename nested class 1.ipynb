{
 "cells": [
  {
   "cell_type": "code",
   "execution_count": 19,
   "metadata": {},
   "outputs": [],
   "source": [
    "class mahesh():\n",
    "   \n",
    "    def __init__(self):\n",
    "        self    \n",
    "    \n",
    "    class calc():\n",
    "       \n",
    "        def __init__(self):\n",
    "            self\n",
    "\n",
    "        def area_rec(self):\n",
    "            l=input('enter length of rectangle ')\n",
    "            b=input('enter length of rectangle ' )\n",
    "            area=l*b\n",
    "            return(area)\n",
    "\n",
    "        def area_cir(self):\n",
    "            r=input('enter side \"a\" of triangle ')\n",
    "            area=3.14*r**2\n",
    "            return (area)\n",
    "\n",
    "        def area_tri(self):\n",
    "            a=input('enter side \"a\" of triangle ')\n",
    "            b=input('enter side \"b\" of triangle ')\n",
    "            c=input('enter side \"c\" of triangle ')\n",
    "            s=(a+b+c)/2\n",
    "            area=(s*(s-a)*(s-b)*(s-c))**0.5\n",
    "            return(area)\n",
    "\n",
    "        def area_squ(self):\n",
    "            a=input('enter side length of square ')\n",
    "            area=a**2\n",
    "            return (area)\n",
    "    \n",
    "    class Course:\n",
    "    \n",
    "        def __init__(self, name, ratings):\n",
    "            self.name=name\n",
    "            self.ratings=ratings\n",
    "        def average(self):\n",
    "            k=len(self.ratings)\n",
    "            avg_rat=sum(self.ratings)/k\n",
    "            print(avg_rat)\n",
    "            \n",
    "            class Ratings:\n",
    "                def __init__(self, name, ratings):\n",
    "                    self.name=name\n",
    "                    self.ratings=ratings\n",
    "                def average(self):\n",
    "                    k=len(self.ratings)\n",
    "                    def productOfTwo(num1,num2):\n",
    "                        return num1*num2\n",
    "                    pro = reduce( productOfTwo,self.ratings)\n",
    "                    print(pro)\n",
    "\n",
    "\n"
   ]
  },
  {
   "cell_type": "code",
   "execution_count": 30,
   "metadata": {},
   "outputs": [],
   "source": [
    "a= mahesh.calc()\n"
   ]
  },
  {
   "cell_type": "code",
   "execution_count": 32,
   "metadata": {},
   "outputs": [
    {
     "name": "stdout",
     "output_type": "stream",
     "text": [
      "enter side \"a\" of triangle 3\n",
      "enter side \"b\" of triangle 4\n",
      "enter side \"c\" of triangle 5\n"
     ]
    },
    {
     "data": {
      "text/plain": [
       "6.0"
      ]
     },
     "execution_count": 32,
     "metadata": {},
     "output_type": "execute_result"
    }
   ],
   "source": [
    "a.area_tri()\n"
   ]
  }
 ],
 "metadata": {
  "kernelspec": {
   "display_name": "Python 2",
   "language": "python",
   "name": "python2"
  },
  "language_info": {
   "codemirror_mode": {
    "name": "ipython",
    "version": 2
   },
   "file_extension": ".py",
   "mimetype": "text/x-python",
   "name": "python",
   "nbconvert_exporter": "python",
   "pygments_lexer": "ipython2",
   "version": "2.7.15"
  }
 },
 "nbformat": 4,
 "nbformat_minor": 2
}
