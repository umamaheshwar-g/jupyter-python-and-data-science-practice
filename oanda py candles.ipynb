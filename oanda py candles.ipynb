{
 "cells": [
  {
   "cell_type": "code",
   "execution_count": 110,
   "metadata": {},
   "outputs": [],
   "source": [
    "import json\n",
    "import pandas as pd\n",
    "import ipywidgets"
   ]
  },
  {
   "cell_type": "code",
   "execution_count": 3,
   "metadata": {},
   "outputs": [],
   "source": [
    "a={\n",
    "  \"count\": 5,\n",
    "  \"granularity\": \"M5\"\n",
    "}"
   ]
  },
  {
   "cell_type": "code",
   "execution_count": 16,
   "metadata": {},
   "outputs": [
    {
     "name": "stdout",
     "output_type": "stream",
     "text": [
      "{u'instrument': u'DE30_EUR', u'candles': [{u'volume': 2658, u'mid': {u'h': u'11772.6', u'c': u'11751.0', u'l': u'11751.0', u'o': u'11763.8'}, u'complete': True, u'time': u'2019-08-08T13:30:00.000000000Z'}, {u'volume': 3039, u'mid': {u'h': u'11766.6', u'c': u'11761.2', u'l': u'11749.0', u'o': u'11750.8'}, u'complete': True, u'time': u'2019-08-08T13:35:00.000000000Z'}, {u'volume': 2024, u'mid': {u'h': u'11761.6', u'c': u'11748.6', u'l': u'11747.5', u'o': u'11761.6'}, u'complete': True, u'time': u'2019-08-08T13:40:00.000000000Z'}, {u'volume': 2210, u'mid': {u'h': u'11756.2', u'c': u'11753.0', u'l': u'11745.4', u'o': u'11748.8'}, u'complete': True, u'time': u'2019-08-08T13:45:00.000000000Z'}, {u'volume': 86, u'mid': {u'h': u'11753.9', u'c': u'11753.5', u'l': u'11747.9', u'o': u'11753.1'}, u'complete': False, u'time': u'2019-08-08T13:50:00.000000000Z'}], u'granularity': u'M5'}\n"
     ]
    }
   ],
   "source": [
    ">>> import oandapyV20\n",
    ">>> import oandapyV20.endpoints.instruments as instruments\n",
    ">>> client = oandapyV20.API(access_token=\"ae9350a9996c4ef6d9ad3a1bc39e12ed-8c1789ca29b12194796b6bff271831f0\")\n",
    ">>> params = a\n",
    ">>> r = instruments.InstrumentsCandles(instrument=\"DE30_EUR\",params=params)\n",
    ">>> client.request(r)\n",
    ">>> print r.response"
   ]
  },
  {
   "cell_type": "code",
   "execution_count": null,
   "metadata": {},
   "outputs": [],
   "source": []
  },
  {
   "cell_type": "code",
   "execution_count": 11,
   "metadata": {},
   "outputs": [
    {
     "name": "stdout",
     "output_type": "stream",
     "text": [
      "{\n",
      "  \"instrument\": \"DE30_EUR\", \n",
      "  \"candles\": [\n",
      "    {\n",
      "      \"volume\": 857, \n",
      "      \"mid\": {\n",
      "        \"h\": \"11786.0\", \n",
      "        \"c\": \"11772.6\", \n",
      "        \"l\": \"11770.5\", \n",
      "        \"o\": \"11786.0\"\n",
      "      }, \n",
      "      \"complete\": true, \n",
      "      \"time\": \"2019-08-08T13:15:00.000000000Z\"\n",
      "    }, \n",
      "    {\n",
      "      \"volume\": 914, \n",
      "      \"mid\": {\n",
      "        \"h\": \"11772.6\", \n",
      "        \"c\": \"11766.8\", \n",
      "        \"l\": \"11759.6\", \n",
      "        \"o\": \"11772.2\"\n",
      "      }, \n",
      "      \"complete\": true, \n",
      "      \"time\": \"2019-08-08T13:20:00.000000000Z\"\n",
      "    }, \n",
      "    {\n",
      "      \"volume\": 550, \n",
      "      \"mid\": {\n",
      "        \"h\": \"11773.6\", \n",
      "        \"c\": \"11764.0\", \n",
      "        \"l\": \"11763.0\", \n",
      "        \"o\": \"11766.6\"\n",
      "      }, \n",
      "      \"complete\": true, \n",
      "      \"time\": \"2019-08-08T13:25:00.000000000Z\"\n",
      "    }, \n",
      "    {\n",
      "      \"volume\": 2658, \n",
      "      \"mid\": {\n",
      "        \"h\": \"11772.6\", \n",
      "        \"c\": \"11751.0\", \n",
      "        \"l\": \"11751.0\", \n",
      "        \"o\": \"11763.8\"\n",
      "      }, \n",
      "      \"complete\": true, \n",
      "      \"time\": \"2019-08-08T13:30:00.000000000Z\"\n",
      "    }, \n",
      "    {\n",
      "      \"volume\": 41, \n",
      "      \"mid\": {\n",
      "        \"h\": \"11754.0\", \n",
      "        \"c\": \"11753.8\", \n",
      "        \"l\": \"11750.0\", \n",
      "        \"o\": \"11750.8\"\n",
      "      }, \n",
      "      \"complete\": false, \n",
      "      \"time\": \"2019-08-08T13:35:00.000000000Z\"\n",
      "    }\n",
      "  ], \n",
      "  \"granularity\": \"M5\"\n",
      "}\n"
     ]
    }
   ],
   "source": [
    "b=json.dumps(r.response,indent=2)\n",
    "print b"
   ]
  },
  {
   "cell_type": "code",
   "execution_count": 76,
   "metadata": {},
   "outputs": [
    {
     "name": "stdout",
     "output_type": "stream",
     "text": [
      "<type 'dict'>\n"
     ]
    },
    {
     "data": {
      "text/html": [
       "<div>\n",
       "<style scoped>\n",
       "    .dataframe tbody tr th:only-of-type {\n",
       "        vertical-align: middle;\n",
       "    }\n",
       "\n",
       "    .dataframe tbody tr th {\n",
       "        vertical-align: top;\n",
       "    }\n",
       "\n",
       "    .dataframe thead th {\n",
       "        text-align: right;\n",
       "    }\n",
       "</style>\n",
       "<table border=\"1\" class=\"dataframe\">\n",
       "  <thead>\n",
       "    <tr style=\"text-align: right;\">\n",
       "      <th></th>\n",
       "      <th>Close</th>\n",
       "      <th>high</th>\n",
       "      <th>Low</th>\n",
       "      <th>Open</th>\n",
       "      <th>volume</th>\n",
       "      <th>time</th>\n",
       "    </tr>\n",
       "  </thead>\n",
       "  <tbody>\n",
       "    <tr>\n",
       "      <th>0</th>\n",
       "      <td>11772.6</td>\n",
       "      <td>11751.0</td>\n",
       "      <td>11751.0</td>\n",
       "      <td>11763.8</td>\n",
       "      <td>2658</td>\n",
       "      <td>2019-08-08T13:30:00.000000000Z</td>\n",
       "    </tr>\n",
       "    <tr>\n",
       "      <th>1</th>\n",
       "      <td>11766.6</td>\n",
       "      <td>11761.2</td>\n",
       "      <td>11749.0</td>\n",
       "      <td>11750.8</td>\n",
       "      <td>3039</td>\n",
       "      <td>2019-08-08T13:35:00.000000000Z</td>\n",
       "    </tr>\n",
       "    <tr>\n",
       "      <th>2</th>\n",
       "      <td>11761.6</td>\n",
       "      <td>11748.6</td>\n",
       "      <td>11747.5</td>\n",
       "      <td>11761.6</td>\n",
       "      <td>2024</td>\n",
       "      <td>2019-08-08T13:40:00.000000000Z</td>\n",
       "    </tr>\n",
       "    <tr>\n",
       "      <th>3</th>\n",
       "      <td>11756.2</td>\n",
       "      <td>11753.0</td>\n",
       "      <td>11745.4</td>\n",
       "      <td>11748.8</td>\n",
       "      <td>2210</td>\n",
       "      <td>2019-08-08T13:45:00.000000000Z</td>\n",
       "    </tr>\n",
       "    <tr>\n",
       "      <th>4</th>\n",
       "      <td>11753.9</td>\n",
       "      <td>11753.5</td>\n",
       "      <td>11747.9</td>\n",
       "      <td>11753.1</td>\n",
       "      <td>86</td>\n",
       "      <td>2019-08-08T13:50:00.000000000Z</td>\n",
       "    </tr>\n",
       "  </tbody>\n",
       "</table>\n",
       "</div>"
      ],
      "text/plain": [
       "     Close     high      Low     Open  volume                            time\n",
       "0  11772.6  11751.0  11751.0  11763.8    2658  2019-08-08T13:30:00.000000000Z\n",
       "1  11766.6  11761.2  11749.0  11750.8    3039  2019-08-08T13:35:00.000000000Z\n",
       "2  11761.6  11748.6  11747.5  11761.6    2024  2019-08-08T13:40:00.000000000Z\n",
       "3  11756.2  11753.0  11745.4  11748.8    2210  2019-08-08T13:45:00.000000000Z\n",
       "4  11753.9  11753.5  11747.9  11753.1      86  2019-08-08T13:50:00.000000000Z"
      ]
     },
     "execution_count": 76,
     "metadata": {},
     "output_type": "execute_result"
    }
   ],
   "source": [
    "l=[]\n",
    "\n",
    "for i in range(len(c[\"candles\"])):\n",
    "    k=(c[\"candles\"][i][\"mid\"])\n",
    "    l.append(k.values())\n",
    "    l[i].append(c['candles'][i]['volume'])\n",
    "    l[i].append(c['candles'][i]['time'])\n",
    "\n",
    "    #u=dict(zip(range(len(l)),l))\n",
    "print type(c)\n",
    "    \n",
    "pd.DataFrame(l,columns=[\"Close\",\"high\",\"Low\",\"Open\",'volume','time'])"
   ]
  },
  {
   "cell_type": "code",
   "execution_count": 107,
   "metadata": {},
   "outputs": [],
   "source": [
    "def datafetching(ins,con,gran):\n",
    "    import pandas as pd\n",
    "    import oandapyV20\n",
    "    import oandapyV20.endpoints.instruments as instruments\n",
    "    #client = oandapyV20.API(access_token=\"ae9350a9996c4ef6d9ad3a1bc39e12ed-8c1789ca29b12194796b6bff271831f0\")\n",
    "    client = oandapyV20.API(access_token=\"ae9350a9996c4ef6d9ad3a1bc39e12ed-8c1789ca29b12194796b6bff271831f0\")\n",
    "    params = {\"count\":con,\"granularity\":str(gran)}\n",
    "    r = instruments.InstrumentsCandles(instrument=str(ins),params=params)\n",
    "    client.request(r)\n",
    "    #print r.response\n",
    "    h=r.response\n",
    "\n",
    "    l=[]\n",
    "\n",
    "    for i in range(len(h[\"candles\"])):\n",
    "        k=(h[\"candles\"][i][\"mid\"])\n",
    "        l.append(k.values())\n",
    "        l[i].append(c['candles'][i]['volume'])\n",
    "        l[i].append(c['candles'][i]['time'])\n",
    "        #u=dict(zip(range(len(l)),l))\n",
    "    print ins\n",
    "    return pd.DataFrame(l,columns=[\"Close\",\"high\",\"Low\",\"Open\",\"volume\",\"time\"])"
   ]
  },
  {
   "cell_type": "code",
   "execution_count": 108,
   "metadata": {},
   "outputs": [
    {
     "name": "stdout",
     "output_type": "stream",
     "text": [
      "EUR_USD\n"
     ]
    },
    {
     "data": {
      "text/html": [
       "<div>\n",
       "<style scoped>\n",
       "    .dataframe tbody tr th:only-of-type {\n",
       "        vertical-align: middle;\n",
       "    }\n",
       "\n",
       "    .dataframe tbody tr th {\n",
       "        vertical-align: top;\n",
       "    }\n",
       "\n",
       "    .dataframe thead th {\n",
       "        text-align: right;\n",
       "    }\n",
       "</style>\n",
       "<table border=\"1\" class=\"dataframe\">\n",
       "  <thead>\n",
       "    <tr style=\"text-align: right;\">\n",
       "      <th></th>\n",
       "      <th>Close</th>\n",
       "      <th>high</th>\n",
       "      <th>Low</th>\n",
       "      <th>Open</th>\n",
       "      <th>volume</th>\n",
       "      <th>time</th>\n",
       "    </tr>\n",
       "  </thead>\n",
       "  <tbody>\n",
       "    <tr>\n",
       "      <th>0</th>\n",
       "      <td>1.12027</td>\n",
       "      <td>1.11991</td>\n",
       "      <td>1.11968</td>\n",
       "      <td>1.12025</td>\n",
       "      <td>2658</td>\n",
       "      <td>2019-08-08T13:30:00.000000000Z</td>\n",
       "    </tr>\n",
       "    <tr>\n",
       "      <th>1</th>\n",
       "      <td>1.12313</td>\n",
       "      <td>1.12096</td>\n",
       "      <td>1.11970</td>\n",
       "      <td>1.11993</td>\n",
       "      <td>3039</td>\n",
       "      <td>2019-08-08T13:35:00.000000000Z</td>\n",
       "    </tr>\n",
       "    <tr>\n",
       "      <th>2</th>\n",
       "      <td>1.12108</td>\n",
       "      <td>1.12022</td>\n",
       "      <td>1.11972</td>\n",
       "      <td>1.12099</td>\n",
       "      <td>2024</td>\n",
       "      <td>2019-08-08T13:40:00.000000000Z</td>\n",
       "    </tr>\n",
       "    <tr>\n",
       "      <th>3</th>\n",
       "      <td>1.12026</td>\n",
       "      <td>1.11998</td>\n",
       "      <td>1.11932</td>\n",
       "      <td>1.12019</td>\n",
       "      <td>2210</td>\n",
       "      <td>2019-08-08T13:45:00.000000000Z</td>\n",
       "    </tr>\n",
       "    <tr>\n",
       "      <th>4</th>\n",
       "      <td>1.12131</td>\n",
       "      <td>1.12112</td>\n",
       "      <td>1.11996</td>\n",
       "      <td>1.12000</td>\n",
       "      <td>86</td>\n",
       "      <td>2019-08-08T13:50:00.000000000Z</td>\n",
       "    </tr>\n",
       "  </tbody>\n",
       "</table>\n",
       "</div>"
      ],
      "text/plain": [
       "     Close     high      Low     Open  volume                            time\n",
       "0  1.12027  1.11991  1.11968  1.12025    2658  2019-08-08T13:30:00.000000000Z\n",
       "1  1.12313  1.12096  1.11970  1.11993    3039  2019-08-08T13:35:00.000000000Z\n",
       "2  1.12108  1.12022  1.11972  1.12099    2024  2019-08-08T13:40:00.000000000Z\n",
       "3  1.12026  1.11998  1.11932  1.12019    2210  2019-08-08T13:45:00.000000000Z\n",
       "4  1.12131  1.12112  1.11996  1.12000      86  2019-08-08T13:50:00.000000000Z"
      ]
     },
     "execution_count": 108,
     "metadata": {},
     "output_type": "execute_result"
    }
   ],
   "source": [
    "p=datafetching(\"EUR_USD\",5,\"M10\")\n",
    "p"
   ]
  },
  {
   "cell_type": "code",
   "execution_count": 109,
   "metadata": {},
   "outputs": [
    {
     "data": {
      "text/plain": [
       "['EUR_ZAR',\n",
       " 'EUR_PLN',\n",
       " 'AUD_JPY',\n",
       " 'USD_CAD',\n",
       " 'USD_NOK',\n",
       " 'CAD_SGD',\n",
       " 'HKD_JPY',\n",
       " 'NZD_JPY',\n",
       " 'USD_HUF',\n",
       " 'CHF_ZAR',\n",
       " 'EUR_CZK',\n",
       " 'AUD_HKD',\n",
       " 'GBP_NZD',\n",
       " 'NZD_HKD',\n",
       " 'NZD_CHF',\n",
       " 'USD_SAR',\n",
       " 'GBP_CAD',\n",
       " 'CAD_JPY',\n",
       " 'ZAR_JPY',\n",
       " 'NZD_SGD',\n",
       " 'GBP_ZAR',\n",
       " 'NZD_CAD',\n",
       " 'CAD_HKD',\n",
       " 'SGD_CHF',\n",
       " 'CAD_CHF',\n",
       " 'AUD_SGD',\n",
       " 'EUR_NOK',\n",
       " 'EUR_CHF',\n",
       " 'GBP_USD',\n",
       " 'USD_MXN',\n",
       " 'USD_CHF',\n",
       " 'AUD_CHF',\n",
       " 'EUR_DKK',\n",
       " 'AUD_USD',\n",
       " 'CHF_HKD',\n",
       " 'USD_THB',\n",
       " 'GBP_CHF',\n",
       " 'TRY_JPY',\n",
       " 'AUD_CAD',\n",
       " 'SGD_JPY',\n",
       " 'EUR_NZD',\n",
       " 'USD_HKD',\n",
       " 'EUR_AUD',\n",
       " 'USD_DKK',\n",
       " 'CHF_JPY',\n",
       " 'EUR_SGD',\n",
       " 'USD_SGD',\n",
       " 'EUR_SEK',\n",
       " 'USD_JPY',\n",
       " 'EUR_TRY',\n",
       " 'USD_CZK',\n",
       " 'GBP_AUD',\n",
       " 'USD_PLN',\n",
       " 'EUR_USD',\n",
       " 'AUD_NZD',\n",
       " 'SGD_HKD',\n",
       " 'EUR_HUF',\n",
       " 'NZD_USD',\n",
       " 'USD_CNH',\n",
       " 'EUR_HKD',\n",
       " 'EUR_JPY',\n",
       " 'GBP_PLN',\n",
       " 'GBP_JPY',\n",
       " 'USD_TRY',\n",
       " 'EUR_CAD',\n",
       " 'USD_SEK',\n",
       " 'GBP_SGD',\n",
       " 'EUR_GBP',\n",
       " 'GBP_HKD']"
      ]
     },
     "execution_count": 109,
     "metadata": {},
     "output_type": "execute_result"
    }
   ],
   "source": [
    "o=pd.read_csv(\"pairs.csv\")\n",
    "io=[]\n",
    "for i in range(0,69):\n",
    "   io.append( list(o['Instrument Name'])[i].split())\n",
    "instruments=[]\n",
    "for i in range(69):\n",
    "    instruments.append(io[i][0])\n",
    "instruments[]"
   ]
  },
  {
   "cell_type": "code",
   "execution_count": null,
   "metadata": {},
   "outputs": [],
   "source": []
  },
  {
   "cell_type": "code",
   "execution_count": null,
   "metadata": {},
   "outputs": [],
   "source": []
  },
  {
   "cell_type": "code",
   "execution_count": null,
   "metadata": {},
   "outputs": [],
   "source": []
  },
  {
   "cell_type": "code",
   "execution_count": 77,
   "metadata": {},
   "outputs": [
    {
     "data": {
      "text/plain": [
       "('DE30_EUR',\n",
       "      Close     High      Low     Open  Volume                            Time\n",
       " 0  11792.3  11792.0  11766.0  11766.3    1252  2019-08-08T14:30:00.000000000Z\n",
       " 1  11799.8  11787.0  11785.8  11792.2    1669  2019-08-08T14:35:00.000000000Z\n",
       " 2  11809.0  11809.0  11778.8  11787.6    1246  2019-08-08T14:40:00.000000000Z\n",
       " 3  11809.8  11794.6  11792.0  11809.2     986  2019-08-08T14:45:00.000000000Z\n",
       " 4  11805.0  11801.6  11794.0  11794.2     457  2019-08-08T14:50:00.000000000Z)"
      ]
     },
     "execution_count": 77,
     "metadata": {},
     "output_type": "execute_result"
    }
   ],
   "source": [
    "def datafetching1(count,granularity,ins):\n",
    "    params={\"count\": count,\"granularity\": granularity}\n",
    "    r = instruments.InstrumentsCandles(instrument=ins,params=params)\n",
    "    client.request(r)\n",
    "    c=r.response\n",
    "    l=[]\n",
    "    for i in range(len(c[\"candles\"])):\n",
    "        k=(c[\"candles\"][i][\"mid\"])\n",
    "        l.append(k.values())\n",
    "        l[i].append(c['candles'][i]['volume'])\n",
    "        l[i].append(c['candles'][i]['time'])\n",
    "        #u=dict(zip(range(len(l)),l))\n",
    "    df=pd.DataFrame(l,columns=[\"Close\",\"High\",\"Low\",\"Open\",'Volume','Time'])\n",
    "    return ins,df\n",
    "\n",
    "    \n",
    "datafetching1(5,'M5','DE30_EUR')    "
   ]
  },
  {
   "cell_type": "code",
   "execution_count": null,
   "metadata": {},
   "outputs": [],
   "source": []
  },
  {
   "cell_type": "code",
   "execution_count": null,
   "metadata": {},
   "outputs": [],
   "source": []
  },
  {
   "cell_type": "code",
   "execution_count": null,
   "metadata": {},
   "outputs": [],
   "source": []
  },
  {
   "cell_type": "code",
   "execution_count": 95,
   "metadata": {},
   "outputs": [
    {
     "ename": "AttributeError",
     "evalue": "'unicode' object has no attribute 'values'",
     "output_type": "error",
     "traceback": [
      "\u001b[1;31m---------------------------------------------------------------------------\u001b[0m",
      "\u001b[1;31mAttributeError\u001b[0m                            Traceback (most recent call last)",
      "\u001b[1;32m<ipython-input-95-3d1d3a700408>\u001b[0m in \u001b[0;36m<module>\u001b[1;34m()\u001b[0m\n\u001b[0;32m      6\u001b[0m \u001b[0mo\u001b[0m\u001b[1;33m=\u001b[0m\u001b[1;33m[\u001b[0m\u001b[1;33m]\u001b[0m\u001b[1;33m\u001b[0m\u001b[0m\n\u001b[0;32m      7\u001b[0m \u001b[1;32mfor\u001b[0m \u001b[0mi\u001b[0m \u001b[1;32min\u001b[0m \u001b[0mrange\u001b[0m \u001b[1;33m(\u001b[0m\u001b[0mlen\u001b[0m\u001b[1;33m(\u001b[0m\u001b[0mc\u001b[0m\u001b[1;33m[\u001b[0m\u001b[1;34m'candles'\u001b[0m\u001b[1;33m]\u001b[0m\u001b[1;33m)\u001b[0m\u001b[1;33m)\u001b[0m\u001b[1;33m:\u001b[0m\u001b[1;33m\u001b[0m\u001b[0m\n\u001b[1;32m----> 8\u001b[1;33m     \u001b[1;32mfor\u001b[0m \u001b[0mj\u001b[0m \u001b[1;32min\u001b[0m \u001b[1;33m(\u001b[0m\u001b[0mc\u001b[0m\u001b[1;33m[\u001b[0m\u001b[1;34m'candles'\u001b[0m\u001b[1;33m]\u001b[0m\u001b[1;33m[\u001b[0m\u001b[0mi\u001b[0m\u001b[1;33m]\u001b[0m\u001b[1;33m[\u001b[0m\u001b[1;34m'mid'\u001b[0m\u001b[1;33m]\u001b[0m\u001b[1;33m[\u001b[0m\u001b[1;34m'h'\u001b[0m\u001b[1;33m]\u001b[0m\u001b[1;33m)\u001b[0m\u001b[1;33m.\u001b[0m\u001b[0mvalues\u001b[0m\u001b[1;33m(\u001b[0m\u001b[1;33m)\u001b[0m\u001b[1;33m:\u001b[0m\u001b[1;33m\u001b[0m\u001b[0m\n\u001b[0m\u001b[0;32m      9\u001b[0m         \u001b[0mh\u001b[0m\u001b[1;33m.\u001b[0m\u001b[0mappend\u001b[0m\u001b[1;33m(\u001b[0m\u001b[0mj\u001b[0m\u001b[1;33m)\u001b[0m\u001b[1;33m\u001b[0m\u001b[0m\n\u001b[0;32m     10\u001b[0m     \u001b[1;32mfor\u001b[0m \u001b[0mj1\u001b[0m \u001b[1;32min\u001b[0m \u001b[1;33m(\u001b[0m\u001b[0mc\u001b[0m\u001b[1;33m[\u001b[0m\u001b[1;34m'candles'\u001b[0m\u001b[1;33m]\u001b[0m\u001b[1;33m[\u001b[0m\u001b[0mi\u001b[0m\u001b[1;33m]\u001b[0m\u001b[1;33m[\u001b[0m\u001b[1;34m'mid'\u001b[0m\u001b[1;33m]\u001b[0m\u001b[1;33m[\u001b[0m\u001b[1;34m'c'\u001b[0m\u001b[1;33m]\u001b[0m\u001b[1;33m)\u001b[0m\u001b[1;33m.\u001b[0m\u001b[0mvalues\u001b[0m\u001b[1;33m(\u001b[0m\u001b[1;33m)\u001b[0m\u001b[1;33m:\u001b[0m\u001b[1;33m\u001b[0m\u001b[0m\n",
      "\u001b[1;31mAttributeError\u001b[0m: 'unicode' object has no attribute 'values'"
     ]
    }
   ],
   "source": [
    "c=r.response\n",
    "c['candles'][0]['mid']['h']\n",
    "h=[]\n",
    "cl=[]\n",
    "l=[]\n",
    "o=[]\n",
    "for i in range (len(c['candles'])):\n",
    "    for j in (c['candles'][i]['mid']['h']).values():\n",
    "        h.append(j)\n",
    "    for j1 in (c['candles'][i]['mid']['c']).values():\n",
    "        cl.append(j1)\n",
    "    for j2 in (c['candles'][i]['mid']['l']).values():\n",
    "        l.append(j2)\n",
    "    for j3 in (c['candles'][i]['mid']['o']).values():\n",
    "        o.append(j3)\n"
   ]
  },
  {
   "cell_type": "code",
   "execution_count": null,
   "metadata": {},
   "outputs": [],
   "source": []
  }
 ],
 "metadata": {
  "kernelspec": {
   "display_name": "Python 2",
   "language": "python",
   "name": "python2"
  },
  "language_info": {
   "codemirror_mode": {
    "name": "ipython",
    "version": 2
   },
   "file_extension": ".py",
   "mimetype": "text/x-python",
   "name": "python",
   "nbconvert_exporter": "python",
   "pygments_lexer": "ipython2",
   "version": "2.7.15"
  }
 },
 "nbformat": 4,
 "nbformat_minor": 2
}
